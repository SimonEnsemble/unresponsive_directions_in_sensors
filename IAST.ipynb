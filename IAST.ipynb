{
 "cells": [
  {
   "cell_type": "code",
   "execution_count": 1,
   "metadata": {},
   "outputs": [],
   "source": [
    "import pandas as pd"
   ]
  },
  {
   "cell_type": "code",
   "execution_count": 2,
   "metadata": {},
   "outputs": [],
   "source": [
    "import matplotlib.pyplot as plt"
   ]
  },
  {
   "cell_type": "code",
   "execution_count": 3,
   "metadata": {},
   "outputs": [],
   "source": [
    "import pyiast as iast"
   ]
  },
  {
   "cell_type": "code",
   "execution_count": 38,
   "metadata": {},
   "outputs": [],
   "source": [
    "import numpy as np"
   ]
  },
  {
   "cell_type": "code",
   "execution_count": 40,
   "metadata": {},
   "outputs": [],
   "source": [
    "gases = [\"N2\", \"CH4\"]"
   ]
  },
  {
   "cell_type": "code",
   "execution_count": 41,
   "metadata": {},
   "outputs": [],
   "source": [
    "df_dict = {\"N2\" : pd.read_csv(\"N2_HKUST-1.csv\", comment='#'), \"CH4\" : pd.read_csv(\"CH4_HKUST-1.csv\", comment='#')}"
   ]
  },
  {
   "cell_type": "code",
   "execution_count": 42,
   "metadata": {},
   "outputs": [],
   "source": [
    "df_dict[\"N2\"][\"p(bar)\"] = df_dict[\"N2\"][\"p(MPa)\"] * 10"
   ]
  },
  {
   "cell_type": "code",
   "execution_count": 43,
   "metadata": {},
   "outputs": [
    {
     "data": {
      "text/plain": [
       "'\\nunit conversion\\ncm3/g --> mmol/g\\n\\n* L/1000cm3 * mol/22.4L * 1000mmol/mol\\n'"
      ]
     },
     "execution_count": 43,
     "metadata": {},
     "output_type": "execute_result"
    }
   ],
   "source": [
    "\"\"\"\n",
    "unit conversion\n",
    "cm3/g --> mmol/g\n",
    "\n",
    "* L/1000cm3 * mol/22.4L * 1000mmol/mol\n",
    "\"\"\""
   ]
  },
  {
   "cell_type": "code",
   "execution_count": 44,
   "metadata": {},
   "outputs": [],
   "source": [
    "df_dict[\"CH4\"][\"N(mmol/g)\"] = df_dict[\"CH4\"][\"cm3/g\"] / 22.4"
   ]
  },
  {
   "cell_type": "code",
   "execution_count": 45,
   "metadata": {},
   "outputs": [],
   "source": [
    "isotherm_dict = {}\n",
    "for gas in gases:\n",
    "    isotherm_dict[gas] = iast.ModelIsotherm(df_dict[gas], loading_key=\"N(mmol/g)\", pressure_key=\"p(bar)\", model=\"Langmuir\")"
   ]
  },
  {
   "cell_type": "code",
   "execution_count": 51,
   "metadata": {},
   "outputs": [
    {
     "data": {
      "text/plain": [
       "<matplotlib.legend.Legend at 0x7f9ae80914f0>"
      ]
     },
     "execution_count": 51,
     "metadata": {},
     "output_type": "execute_result"
    },
    {
     "data": {
      "image/png": "[encoded data removed]",
      "text/plain": [
       "<Figure size 432x288 with 1 Axes>"
      ]
     },
     "metadata": {
      "needs_background": "light"
     },
     "output_type": "display_data"
    }
   ],
   "source": [
    "plt.figure()\n",
    "\n",
    "p_range = np.linspace(0, 100)\n",
    "\n",
    "for gas in gases:\n",
    "    plt.scatter(df_dict[gas][\"p(bar)\"], df_dict[gas][\"N(mmol/g)\"], marker='o', label=gas)\n",
    "    plt.plot(p_range, isotherm_dict[gas].loading(p_range))\n",
    "    \n",
    "#plt.xlim(0, 2)\n",
    "plt.xlabel(\"p (bar)\")\n",
    "plt.ylabel(\"N (mmol/g)\")\n",
    "plt.legend()"
   ]
  },
  {
   "cell_type": "code",
   "execution_count": 78,
   "metadata": {},
   "outputs": [],
   "source": [
    "total_p = 1.0 # bar\n",
    "mol_fxns = np.array([0.04, 0.96])\n",
    "\n",
    "q = iast.iast(total_p * mol_fxns, [isotherm_dict[gas] for gas in gases])"
   ]
  },
  {
   "cell_type": "code",
   "execution_count": 79,
   "metadata": {},
   "outputs": [],
   "source": [
    "x_ch4 = np.linspace(0, 1)\n",
    "m_ads = np.zeros(len(x_ch4))\n",
    "mol_wts = {\"N2\" : 28., \"CH4\" : 16.}"
   ]
  },
  {
   "cell_type": "code",
   "execution_count": 80,
   "metadata": {},
   "outputs": [],
   "source": [
    "for i in range(len(x_ch4)):\n",
    "    if x_ch4[i] == 0:\n",
    "        m_ads[i] = isotherm_dict[\"N2\"].loading(total_p) * mol_wts[\"N2\"] / 1000\n",
    "        continue\n",
    "    if x_ch4[i] == 1:\n",
    "        m_ads[i] = isotherm_dict[\"CH4\"].loading(total_p) * mol_wts[\"CH4\"] / 1000\n",
    "        continue\n",
    "        \n",
    "    mol_fxns = np.array([1 - x_ch4[i], x_ch4[i]])\n",
    "    q = iast.iast(total_p * mol_fxns, [isotherm_dict[gas] for gas in gases])\n",
    "    # q: mmol/g mof\n",
    "    # mol_wts: g gas/mol \n",
    "    # m_ads: g gas/g mof\n",
    "    m_ads[i] = np.sum([q[j] * mol_wts[gases[j]] for j in range(len(gases))]) / 1000"
   ]
  },
  {
   "cell_type": "code",
   "execution_count": 81,
   "metadata": {},
   "outputs": [
    {
     "data": {
      "text/plain": [
       "Text(0.5, 1.0, 'Calibration Curve')"
      ]
     },
     "execution_count": 81,
     "metadata": {},
     "output_type": "execute_result"
    },
    {
     "data": {
      "image/png": "[encoded data removed]",
      "text/plain": [
       "<Figure size 432x288 with 1 Axes>"
      ]
     },
     "metadata": {
      "needs_background": "light"
     },
     "output_type": "display_data"
    }
   ],
   "source": [
    "plt.figure()\n",
    "plt.plot(x_ch4, m_ads)\n",
    "plt.ylim(ymin=0)\n",
    "plt.xlabel(\"Fraction of CH4\")\n",
    "plt.ylabel(\"Total Adsorbed Mass (g/g)\")\n",
    "plt.title(\"Calibration Curve\")"
   ]
  },
  {
   "cell_type": "code",
   "execution_count": null,
   "metadata": {},
   "outputs": [],
   "source": []
  }
 ],
 "metadata": {
  "kernelspec": {
   "display_name": "Python 3",
   "language": "python",
   "name": "python3"
  },
  "language_info": {
   "codemirror_mode": {
    "name": "ipython",
    "version": 3
   },
   "file_extension": ".py",
   "mimetype": "text/x-python",
   "name": "python",
   "nbconvert_exporter": "python",
   "pygments_lexer": "ipython3",
   "version": "3.8.5"
  }
 },
 "nbformat": 4,
 "nbformat_minor": 4
}
