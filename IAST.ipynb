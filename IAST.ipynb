{
 "cells": [
  {
   "cell_type": "code",
   "execution_count": 1,
   "metadata": {},
   "outputs": [],
   "source": [
    "import pandas as pd\n",
    "import matplotlib.pyplot as plt\n",
    "import pyiast as iast\n",
    "import numpy as np\n",
    "import ternary as tern\n",
    "import math\n",
    "import numdifftools as ndt"
   ]
  },
  {
   "cell_type": "code",
   "execution_count": 11,
   "metadata": {},
   "outputs": [],
   "source": [
    "mof = \"MgMOF74\" # \"HKUST-1\"\n",
    "xtal_density = {\"MgMOF74\" : 914.87, \"HKUST-1\": 879.1} # kg/m^3"
   ]
  },
  {
   "cell_type": "code",
   "execution_count": 37,
   "metadata": {},
   "outputs": [],
   "source": [
    "gases = [\"CH4\", \n",
    "#          \"N2\", \n",
    "         \"CO2\", \n",
    "         \"C2H6\"\n",
    "        ]\n",
    "\n",
    "mol_wts = {\"N2\" : 28., \"CH4\" : 16., \"CO2\" : 44.009, \"C2H6\" : 30.07}"
   ]
  },
  {
   "cell_type": "code",
   "execution_count": 38,
   "metadata": {},
   "outputs": [],
   "source": [
    "isotherm_data = dict(\n",
    "    zip(gases, \n",
    "        [pd.read_csv(gas + \"_\" + mof + \".csv\", comment='#') for gas in gases]\n",
    "       )\n",
    ")"
   ]
  },
  {
   "cell_type": "markdown",
   "metadata": {},
   "source": [
    "unit conversions"
   ]
  },
  {
   "cell_type": "code",
   "execution_count": 39,
   "metadata": {},
   "outputs": [],
   "source": [
    "# cm3 STP  *  L STP      *   mol        * 1000mmol\n",
    "#  g      1000 cm3 STP    22.4 L STP       1 mol\n",
    "isotherm_data[\"CH4\"][\"N(mmol/g)\"] = isotherm_data[\"CH4\"][\"cm3/g\"] / 22.4\n",
    "\n",
    "if \"N2\" in isotherm_data:\n",
    "    if mof == \"MgMOF74\":\n",
    "        isotherm_data[\"N2\"][\"p(bar)\"] = isotherm_data[\"N2\"][\"P(mbar)\"] * 0.001\n",
    "    else:\n",
    "        isotherm_data[\"N2\"][\"p(bar)\"] = isotherm_data[\"N2\"][\"p(MPa)\"] * 10\n",
    "        \n",
    "if \"CO2\" in isotherm_data:\n",
    "    if mof == \"MgMOF74\":\n",
    "        isotherm_data[\"CO2\"][\"p(bar)\"] = isotherm_data[\"CO2\"][\"P(mbar)\"] * 0.001\n",
    "        \n",
    "        \n",
    "if \"C2H6\" in isotherm_data:\n",
    "    isotherm_data[\"C2H6\"][\"p(bar)\"] = isotherm_data[\"C2H6\"][\"P(mmHg)\"] / 750.062\n",
    "    # cm3 STP  *  L STP      *   mol      * 1000mmol *    m3 MOF    *   kg      * (100^3) cm3 MOF\n",
    "    # cm3 MOF  1000 cm3 STP   22.4 L STP     1 mol      ρ_MOF kg      1000 g         m3 MOF\n",
    "    isotherm_data[\"C2H6\"][\"N(mmol/g)\"] = isotherm_data[\"C2H6\"][\"N(cm3STP_cm3)\"] * 100 ** 3 / 1000 / 22.4 / xtal_density[mof]\n",
    "    "
   ]
  },
  {
   "cell_type": "markdown",
   "metadata": {},
   "source": [
    "fit isotherm models"
   ]
  },
  {
   "cell_type": "code",
   "execution_count": 40,
   "metadata": {},
   "outputs": [],
   "source": [
    "isotherms = {}\n",
    "for gas in gases:\n",
    "    isotherms[gas] = iast.ModelIsotherm(isotherm_data[gas], loading_key=\"N(mmol/g)\", pressure_key=\"p(bar)\", model=\"Langmuir\")"
   ]
  },
  {
   "cell_type": "code",
   "execution_count": 41,
   "metadata": {},
   "outputs": [
    {
     "data": {
      "text/plain": [
       "{'CH4': 1.1346509436137315,\n",
       " 'CO2': 162.14537863308803,\n",
       " 'C2H6': 20.615509175437165}"
      ]
     },
     "execution_count": 41,
     "metadata": {},
     "output_type": "execute_result"
    }
   ],
   "source": [
    "henrys = dict(zip(gases, [isotherms[gas].params['M'] * isotherms[gas].params['K']  for gas in gases]))\n",
    "henrys"
   ]
  },
  {
   "cell_type": "code",
   "execution_count": 42,
   "metadata": {},
   "outputs": [],
   "source": [
    "gas_to_color = dict(zip(gases, [\"C{0}\".format(i) for i in range(len(gases))]))"
   ]
  },
  {
   "cell_type": "code",
   "execution_count": 43,
   "metadata": {},
   "outputs": [
    {
     "data": {
      "text/plain": [
       "<matplotlib.legend.Legend at 0x7f450660ca58>"
      ]
     },
     "execution_count": 43,
     "metadata": {},
     "output_type": "execute_result"
    },
    {
     "data": {
      "image/png": "[encoded data removed]",
      "text/plain": [
       "<Figure size 432x288 with 1 Axes>"
      ]
     },
     "metadata": {
      "needs_background": "light"
     },
     "output_type": "display_data"
    }
   ],
   "source": [
    "plt.figure()\n",
    "\n",
    "p_range = np.linspace(0, 100, 1500)\n",
    "\n",
    "for gas in gases:\n",
    "    plt.scatter(isotherm_data[gas][\"p(bar)\"], isotherm_data[gas][\"N(mmol/g)\"], \n",
    "                marker='o', label=gas, color=gas_to_color[gas])\n",
    "    plt.plot(p_range, isotherms[gas].loading(p_range))\n",
    "    p_small = np.linspace(0.0, 2.0)\n",
    "#     plt.plot(p_small, henrys[gas] * p_small, linestyle=\"--\", color=gas_to_color[gas])\n",
    "plt.xlim(0, 2)\n",
    "plt.xlabel(\"p (bar)\")\n",
    "plt.ylabel(\"N (mmol/g)\")\n",
    "plt.legend()"
   ]
  },
  {
   "cell_type": "code",
   "execution_count": 44,
   "metadata": {},
   "outputs": [],
   "source": [
    "def adsorbed_mass(mol_fxns):\n",
    "    q = iast.iast(mol_fxns, [isotherms[gas] for gas in gases], warningoff=True)\n",
    "    # q: mmol/g mof\n",
    "    # mol_wts: g gas/mol \n",
    "    # m_ads: g gas/g mof\n",
    "    return np.sum([q[j] * mol_wts[gases[j]] for j in range(len(gases))]) / 1000"
   ]
  },
  {
   "cell_type": "code",
   "execution_count": 45,
   "metadata": {},
   "outputs": [
    {
     "name": "stderr",
     "output_type": "stream",
     "text": [
      "/home/ng/.local/lib/python3.6/site-packages/pyiast/isotherms.py:351: RuntimeWarning: invalid value encountered in log\n",
      "  return self.params[\"M\"] * np.log(1.0 + self.params[\"K\"] * pressure)\n"
     ]
    }
   ],
   "source": [
    "delta = 0.005\n",
    "x = np.arange(0.01, 0.3, delta)\n",
    "y = np.arange(0.01, 0.3, delta)\n",
    "X, Y = np.meshgrid(x, y)\n",
    "Z = np.zeros(np.shape(X))\n",
    "for i in range(np.shape(X)[0]):\n",
    "    for j in range(np.shape(Y)[1]):\n",
    "        mol_fxn = [1 - x[i] - y[j], x[i], y[j]]\n",
    "        Z[j, i] = adsorbed_mass(mol_fxn)"
   ]
  },
  {
   "cell_type": "code",
   "execution_count": 46,
   "metadata": {},
   "outputs": [
    {
     "name": "stdout",
     "output_type": "stream",
     "text": [
      "m at op point:  0.26804756887317804\n"
     ]
    }
   ],
   "source": [
    "op_pt = np.array([0.7, 0.15, 0.15])\n",
    "m_op = adsorbed_mass(op_pt)\n",
    "print(\"m at op point: \", m_op)\n",
    "J = ndt.Jacobian(adsorbed_mass, method=\"forward\")\n",
    "j_op = J(op_pt)[0][1:]\n",
    "v1, v2 = np.linalg.svd([j_op])[2]"
   ]
  },
  {
   "cell_type": "code",
   "execution_count": 47,
   "metadata": {},
   "outputs": [
    {
     "data": {
      "text/plain": [
       "(array([[-1.]]),\n",
       " array([0.41334281]),\n",
       " array([[-0.99997731, -0.0067365 ],\n",
       "        [-0.0067365 ,  0.99997731]]))"
      ]
     },
     "execution_count": 47,
     "metadata": {},
     "output_type": "execute_result"
    }
   ],
   "source": [
    "np.linalg.svd([j_op])"
   ]
  },
  {
   "cell_type": "code",
   "execution_count": 48,
   "metadata": {},
   "outputs": [],
   "source": [
    "# v1, v2 = np.linalg.svd([[henrys[gas] for gas in gases][1:]])[2]"
   ]
  },
  {
   "cell_type": "code",
   "execution_count": 56,
   "metadata": {},
   "outputs": [
    {
     "data": {
      "text/plain": [
       "(0.01, 0.295, 0.01, 0.295)"
      ]
     },
     "execution_count": 56,
     "metadata": {},
     "output_type": "execute_result"
    },
    {
     "data": {
      "image/png": "[encoded data removed]",
      "text/plain": [
       "<Figure size 432x288 with 2 Axes>"
      ]
     },
     "metadata": {
      "needs_background": "light"
     },
     "output_type": "display_data"
    }
   ],
   "source": [
    "fig, ax = plt.subplots()\n",
    "CS = ax.contourf(X, Y, Z)\n",
    "plt.colorbar(CS, label=\"M [g gas/g MOF]\")\n",
    "ax.clabel(CS, inline=True, fontsize=10)\n",
    "ax.set_title('Adsorption Contours')\n",
    "ax.set_xlabel(gases[1] + \" Fraction\")\n",
    "ax.set_ylabel(gases[2] + \" Fraction\")\n",
    "plt.plot([op_pt[1], op_pt[1] - v1[0]/10], [op_pt[2], op_pt[2] - v1[1]/10], color='k')\n",
    "plt.plot([op_pt[1], op_pt[1] - v2[0]/10], [op_pt[2], op_pt[2] - v2[1]/10], color='k')\n",
    "plt.axis(\"equal\")"
   ]
  },
  {
   "cell_type": "code",
   "execution_count": 57,
   "metadata": {},
   "outputs": [],
   "source": [
    "def V(x, y, z):\n",
    "    x, y, z = x[0][0], y[0][0], z[0][0]\n",
    "    print(x, y, z)\n",
    "    if x + y + z <= 1:\n",
    "        return adsorbed_mass([1 - x - y - z, x, y, z])\n",
    "    else:\n",
    "        return NaN"
   ]
  },
  {
   "cell_type": "code",
   "execution_count": 58,
   "metadata": {},
   "outputs": [
    {
     "data": {
      "text/plain": [
       "(array([[[0.001]]]), array([[[0.001]]]), array([[[0.001]]]))"
      ]
     },
     "execution_count": 58,
     "metadata": {},
     "output_type": "execute_result"
    }
   ],
   "source": [
    "X, Y, Z = np.mgrid[0.001:0.003:0.999, 0.001:0.003:0.999, 0.001:0.003:0.999]\n",
    "X, Y, Z"
   ]
  },
  {
   "cell_type": "code",
   "execution_count": 59,
   "metadata": {},
   "outputs": [
    {
     "name": "stdout",
     "output_type": "stream",
     "text": [
      "[0.001] [0.001] [0.001]\n",
      "Example use:\n",
      "\n",
      "              IAST([0.5,0.5], [xe_isotherm, kr_isotherm], verboseflag=true)\n"
     ]
    },
    {
     "ename": "Exception",
     "evalue": "Length of partial pressures != length of array of isotherms...",
     "output_type": "error",
     "traceback": [
      "\u001b[0;31m---------------------------------------------------------------------------\u001b[0m",
      "\u001b[0;31mException\u001b[0m                                 Traceback (most recent call last)",
      "\u001b[0;32m<ipython-input-59-94fd3ed8c237>\u001b[0m in \u001b[0;36m<module>\u001b[0;34m\u001b[0m\n\u001b[0;32m----> 1\u001b[0;31m \u001b[0mV\u001b[0m\u001b[0;34m(\u001b[0m\u001b[0mX\u001b[0m\u001b[0;34m,\u001b[0m \u001b[0mY\u001b[0m\u001b[0;34m,\u001b[0m \u001b[0mZ\u001b[0m\u001b[0;34m)\u001b[0m\u001b[0;34m\u001b[0m\u001b[0;34m\u001b[0m\u001b[0m\n\u001b[0m",
      "\u001b[0;32m<ipython-input-57-5eb6a367c103>\u001b[0m in \u001b[0;36mV\u001b[0;34m(x, y, z)\u001b[0m\n\u001b[1;32m      3\u001b[0m     \u001b[0mprint\u001b[0m\u001b[0;34m(\u001b[0m\u001b[0mx\u001b[0m\u001b[0;34m,\u001b[0m \u001b[0my\u001b[0m\u001b[0;34m,\u001b[0m \u001b[0mz\u001b[0m\u001b[0;34m)\u001b[0m\u001b[0;34m\u001b[0m\u001b[0;34m\u001b[0m\u001b[0m\n\u001b[1;32m      4\u001b[0m     \u001b[0;32mif\u001b[0m \u001b[0mx\u001b[0m \u001b[0;34m+\u001b[0m \u001b[0my\u001b[0m \u001b[0;34m+\u001b[0m \u001b[0mz\u001b[0m \u001b[0;34m<=\u001b[0m \u001b[0;36m1\u001b[0m\u001b[0;34m:\u001b[0m\u001b[0;34m\u001b[0m\u001b[0;34m\u001b[0m\u001b[0m\n\u001b[0;32m----> 5\u001b[0;31m         \u001b[0;32mreturn\u001b[0m \u001b[0madsorbed_mass\u001b[0m\u001b[0;34m(\u001b[0m\u001b[0;34m[\u001b[0m\u001b[0;36m1\u001b[0m \u001b[0;34m-\u001b[0m \u001b[0mx\u001b[0m \u001b[0;34m-\u001b[0m \u001b[0my\u001b[0m \u001b[0;34m-\u001b[0m \u001b[0mz\u001b[0m\u001b[0;34m,\u001b[0m \u001b[0mx\u001b[0m\u001b[0;34m,\u001b[0m \u001b[0my\u001b[0m\u001b[0;34m,\u001b[0m \u001b[0mz\u001b[0m\u001b[0;34m]\u001b[0m\u001b[0;34m)\u001b[0m\u001b[0;34m\u001b[0m\u001b[0;34m\u001b[0m\u001b[0m\n\u001b[0m\u001b[1;32m      6\u001b[0m     \u001b[0;32melse\u001b[0m\u001b[0;34m:\u001b[0m\u001b[0;34m\u001b[0m\u001b[0;34m\u001b[0m\u001b[0m\n\u001b[1;32m      7\u001b[0m         \u001b[0;32mreturn\u001b[0m \u001b[0mNaN\u001b[0m\u001b[0;34m\u001b[0m\u001b[0;34m\u001b[0m\u001b[0m\n",
      "\u001b[0;32m<ipython-input-44-a7aea68136a4>\u001b[0m in \u001b[0;36madsorbed_mass\u001b[0;34m(mol_fxns)\u001b[0m\n\u001b[1;32m      1\u001b[0m \u001b[0;32mdef\u001b[0m \u001b[0madsorbed_mass\u001b[0m\u001b[0;34m(\u001b[0m\u001b[0mmol_fxns\u001b[0m\u001b[0;34m)\u001b[0m\u001b[0;34m:\u001b[0m\u001b[0;34m\u001b[0m\u001b[0;34m\u001b[0m\u001b[0m\n\u001b[0;32m----> 2\u001b[0;31m     \u001b[0mq\u001b[0m \u001b[0;34m=\u001b[0m \u001b[0miast\u001b[0m\u001b[0;34m.\u001b[0m\u001b[0miast\u001b[0m\u001b[0;34m(\u001b[0m\u001b[0mmol_fxns\u001b[0m\u001b[0;34m,\u001b[0m \u001b[0;34m[\u001b[0m\u001b[0misotherms\u001b[0m\u001b[0;34m[\u001b[0m\u001b[0mgas\u001b[0m\u001b[0;34m]\u001b[0m \u001b[0;32mfor\u001b[0m \u001b[0mgas\u001b[0m \u001b[0;32min\u001b[0m \u001b[0mgases\u001b[0m\u001b[0;34m]\u001b[0m\u001b[0;34m,\u001b[0m \u001b[0mwarningoff\u001b[0m\u001b[0;34m=\u001b[0m\u001b[0;32mTrue\u001b[0m\u001b[0;34m)\u001b[0m\u001b[0;34m\u001b[0m\u001b[0;34m\u001b[0m\u001b[0m\n\u001b[0m\u001b[1;32m      3\u001b[0m     \u001b[0;31m# q: mmol/g mof\u001b[0m\u001b[0;34m\u001b[0m\u001b[0;34m\u001b[0m\u001b[0;34m\u001b[0m\u001b[0m\n\u001b[1;32m      4\u001b[0m     \u001b[0;31m# mol_wts: g gas/mol\u001b[0m\u001b[0;34m\u001b[0m\u001b[0;34m\u001b[0m\u001b[0;34m\u001b[0m\u001b[0m\n\u001b[1;32m      5\u001b[0m     \u001b[0;31m# m_ads: g gas/g mof\u001b[0m\u001b[0;34m\u001b[0m\u001b[0;34m\u001b[0m\u001b[0;34m\u001b[0m\u001b[0m\n",
      "\u001b[0;32m~/.local/lib/python3.6/site-packages/pyiast/iast.py\u001b[0m in \u001b[0;36miast\u001b[0;34m(partial_pressures, isotherms, verboseflag, warningoff, adsorbed_mole_fraction_guess)\u001b[0m\n\u001b[1;32m     54\u001b[0m         print(\"\"\"Example use:\\n\n\u001b[1;32m     55\u001b[0m               IAST([0.5,0.5], [xe_isotherm, kr_isotherm], verboseflag=true)\"\"\")\n\u001b[0;32m---> 56\u001b[0;31m         raise Exception(\"Length of partial pressures != length of array of\"\n\u001b[0m\u001b[1;32m     57\u001b[0m                         \" isotherms...\")\n\u001b[1;32m     58\u001b[0m \u001b[0;34m\u001b[0m\u001b[0m\n",
      "\u001b[0;31mException\u001b[0m: Length of partial pressures != length of array of isotherms..."
     ]
    }
   ],
   "source": [
    "V(X, Y, Z)"
   ]
  },
  {
   "cell_type": "code",
   "execution_count": null,
   "metadata": {},
   "outputs": [],
   "source": [
    "from mayavi import mlab\n",
    "mlab.contour3d(X, Y, Z, V)"
   ]
  },
  {
   "cell_type": "code",
   "execution_count": null,
   "metadata": {},
   "outputs": [],
   "source": [
    "figure, tax = tern.figure(scale=100)\n",
    "tax.heatmapf(adsorbed_mass, boundary=False, style=\"hexagonal\")\n",
    "tax.gridlines(multiple=10)\n",
    "tax.ticks(multiple=10)\n",
    "tax.set_title(\"Heatmap\")\n",
    "tax.left_axis_label(gases[2])\n",
    "tax.right_axis_label(gases[1])\n",
    "tax.bottom_axis_label(gases[0])"
   ]
  },
  {
   "cell_type": "code",
   "execution_count": null,
   "metadata": {},
   "outputs": [],
   "source": [
    "# near-pure CH4\n",
    "adsorbed_mass([0.99,0.005,0.005])"
   ]
  },
  {
   "cell_type": "code",
   "execution_count": null,
   "metadata": {},
   "outputs": [],
   "source": [
    "# near-pure N2\n",
    "adsorbed_mass([0.005, 0.99, 0.005])"
   ]
  },
  {
   "cell_type": "code",
   "execution_count": null,
   "metadata": {},
   "outputs": [],
   "source": [
    "# near-pure CO2\n",
    "adsorbed_mass([0.005,0.005,0.99])"
   ]
  },
  {
   "cell_type": "code",
   "execution_count": null,
   "metadata": {},
   "outputs": [],
   "source": [
    "figure, tax = tern.figure(scale=100)\n",
    "tax.scatter([[1,0,0]])\n",
    "tax.ticks(multiple=25)"
   ]
  },
  {
   "cell_type": "code",
   "execution_count": null,
   "metadata": {},
   "outputs": [],
   "source": [
    "plt.figure()\n",
    "plt.plot(x_ch4, m_ads)\n",
    "plt.ylim(ymin=0)\n",
    "plt.xlabel(\"Fraction of CH4\")\n",
    "plt.ylabel(\"Total Adsorbed Mass (g/g)\")\n",
    "plt.title(\"Calibration Curve\")"
   ]
  },
  {
   "cell_type": "code",
   "execution_count": null,
   "metadata": {},
   "outputs": [],
   "source": []
  }
 ],
 "metadata": {
  "kernelspec": {
   "display_name": "Python 3",
   "language": "python",
   "name": "python3"
  },
  "language_info": {
   "codemirror_mode": {
    "name": "ipython",
    "version": 3
   },
   "file_extension": ".py",
   "mimetype": "text/x-python",
   "name": "python",
   "nbconvert_exporter": "python",
   "pygments_lexer": "ipython3",
   "version": "3.6.9"
  }
 },
 "nbformat": 4,
 "nbformat_minor": 4
}
