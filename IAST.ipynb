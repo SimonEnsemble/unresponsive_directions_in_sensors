{
 "cells": [
  {
   "cell_type": "code",
   "execution_count": 65,
   "metadata": {},
   "outputs": [],
   "source": [
    "import pandas as pd\n",
    "import matplotlib.pyplot as plt\n",
    "import pyiast as iast\n",
    "import numpy as np\n",
    "import ternary as tern\n",
    "import math\n",
    "import numdifftools as ndt"
   ]
  },
  {
   "cell_type": "code",
   "execution_count": 48,
   "metadata": {},
   "outputs": [],
   "source": [
    "gases = [\"CH4\", \n",
    "         #\"N2\", \n",
    "         \"CO2\", \n",
    "         \"C2H6\"\n",
    "        ]"
   ]
  },
  {
   "cell_type": "code",
   "execution_count": 49,
   "metadata": {},
   "outputs": [],
   "source": [
    "#df_dict = {\"N2\" : pd.read_csv(\"N2_HKUST-1.csv\", comment='#'), \"CH4\" : pd.read_csv(\"CH4_HKUST-1.csv\", comment='#')}\n",
    "df_dict = dict(zip(gases, [pd.read_csv(gas+\"_HKUST-1.csv\", comment='#') for gas in gases]))"
   ]
  },
  {
   "cell_type": "code",
   "execution_count": 50,
   "metadata": {},
   "outputs": [
    {
     "ename": "KeyError",
     "evalue": "'N2'",
     "output_type": "error",
     "traceback": [
      "\u001b[0;31m---------------------------------------------------------------------------\u001b[0m",
      "\u001b[0;31mKeyError\u001b[0m                                  Traceback (most recent call last)",
      "\u001b[0;32m<ipython-input-50-dd0c84a97044>\u001b[0m in \u001b[0;36m<module>\u001b[0;34m\u001b[0m\n\u001b[0;32m----> 1\u001b[0;31m \u001b[0mdf_dict\u001b[0m\u001b[0;34m[\u001b[0m\u001b[0;34m\"N2\"\u001b[0m\u001b[0;34m]\u001b[0m\u001b[0;34m[\u001b[0m\u001b[0;34m\"p(bar)\"\u001b[0m\u001b[0;34m]\u001b[0m \u001b[0;34m=\u001b[0m \u001b[0mdf_dict\u001b[0m\u001b[0;34m[\u001b[0m\u001b[0;34m\"N2\"\u001b[0m\u001b[0;34m]\u001b[0m\u001b[0;34m[\u001b[0m\u001b[0;34m\"p(MPa)\"\u001b[0m\u001b[0;34m]\u001b[0m \u001b[0;34m*\u001b[0m \u001b[0;36m10\u001b[0m\u001b[0;34m\u001b[0m\u001b[0;34m\u001b[0m\u001b[0m\n\u001b[0m",
      "\u001b[0;31mKeyError\u001b[0m: 'N2'"
     ]
    }
   ],
   "source": [
    "df_dict[\"N2\"][\"p(bar)\"] = df_dict[\"N2\"][\"p(MPa)\"] * 10"
   ]
  },
  {
   "cell_type": "code",
   "execution_count": 51,
   "metadata": {},
   "outputs": [
    {
     "data": {
      "text/plain": [
       "'\\nunit conversion\\ncm3/g --> mmol/g\\n\\n* L/1000cm3 * mol/22.4L * 1000mmol/mol\\n'"
      ]
     },
     "execution_count": 51,
     "metadata": {},
     "output_type": "execute_result"
    }
   ],
   "source": [
    "\"\"\"\n",
    "unit conversion\n",
    "cm3/g --> mmol/g\n",
    "\n",
    "* L/1000cm3 * mol/22.4L * 1000mmol/mol\n",
    "\"\"\""
   ]
  },
  {
   "cell_type": "code",
   "execution_count": 52,
   "metadata": {},
   "outputs": [],
   "source": [
    "df_dict[\"CH4\"][\"N(mmol/g)\"] = df_dict[\"CH4\"][\"cm3/g\"] / 22.4"
   ]
  },
  {
   "cell_type": "code",
   "execution_count": 53,
   "metadata": {},
   "outputs": [],
   "source": [
    "hkust1_density = 879 # kg/m^3\n",
    "\"\"\"\n",
    "cm^3stp/cm^3mof * Lstp/1000cm^3stp * mol/22.4Lstp * 1000mmol/mol * m^3/879kg * kg/1000g * 10^6cm^3mof/m^3\n",
    "\n",
    "1000/(22.4*879)\n",
    "\"\"\"\n",
    "df_dict[\"C2H6\"][\"N(mmol/g)\"] = df_dict[\"C2H6\"][\"N(cm3STP_cm3)\"] * 1000/22.4/hkust1_density\n",
    "df_dict[\"C2H6\"][\"p(bar)\"] = df_dict[\"C2H6\"][\"P(mmHg)\"] / 750"
   ]
  },
  {
   "cell_type": "code",
   "execution_count": 54,
   "metadata": {},
   "outputs": [],
   "source": [
    "isotherm_dict = {}\n",
    "for gas in gases:\n",
    "    isotherm_dict[gas] = iast.ModelIsotherm(df_dict[gas], loading_key=\"N(mmol/g)\", pressure_key=\"p(bar)\", model=\"Langmuir\")"
   ]
  },
  {
   "cell_type": "code",
   "execution_count": 55,
   "metadata": {},
   "outputs": [
    {
     "data": {
      "text/plain": [
       "<matplotlib.legend.Legend at 0x7f1f3ddaa370>"
      ]
     },
     "execution_count": 55,
     "metadata": {},
     "output_type": "execute_result"
    },
    {
     "data": {
      "image/png": "[encoded data removed]",
      "text/plain": [
       "<Figure size 432x288 with 1 Axes>"
      ]
     },
     "metadata": {
      "needs_background": "light"
     },
     "output_type": "display_data"
    }
   ],
   "source": [
    "plt.figure()\n",
    "\n",
    "p_range = np.linspace(0, 100, 500)\n",
    "\n",
    "for gas in gases:\n",
    "    plt.scatter(df_dict[gas][\"p(bar)\"], df_dict[gas][\"N(mmol/g)\"], marker='o', label=gas)\n",
    "    plt.plot(p_range, isotherm_dict[gas].loading(p_range))\n",
    "    \n",
    "#plt.xlim(0, 1)\n",
    "plt.xlabel(\"p (bar)\")\n",
    "plt.ylabel(\"N (mmol/g)\")\n",
    "plt.legend()"
   ]
  },
  {
   "cell_type": "code",
   "execution_count": 56,
   "metadata": {},
   "outputs": [],
   "source": [
    "x_ch4 = np.linspace(0, 1)\n",
    "m_ads = np.zeros(len(x_ch4))\n",
    "mol_wts = {\"N2\" : 28., \"CH4\" : 16., \"CO2\" : 44.009, \"C2H6\" : 30.07}"
   ]
  },
  {
   "cell_type": "code",
   "execution_count": 57,
   "metadata": {},
   "outputs": [],
   "source": [
    "def adsorbed_mass(mol_fxns):\n",
    "    q = iast.iast(mol_fxns, [isotherm_dict[gas] for gas in gases], warningoff=True)\n",
    "    # q: mmol/g mof\n",
    "    # mol_wts: g gas/mol \n",
    "    # m_ads: g gas/g mof\n",
    "    return np.sum([q[j] * mol_wts[gases[j]] for j in range(len(gases))]) / 1000"
   ]
  },
  {
   "cell_type": "code",
   "execution_count": 58,
   "metadata": {},
   "outputs": [],
   "source": [
    "delta = 0.005\n",
    "x = np.arange(0.01, 0.3, delta)\n",
    "y = np.arange(0.01, 0.3, delta)\n",
    "X, Y = np.meshgrid(x, y)\n",
    "Z = np.zeros(np.shape(X))\n",
    "for i in range(np.shape(X)[0]):\n",
    "    for j in range(np.shape(Y)[1]):\n",
    "        mol_fxn = [1 - x[i] - y[j], x[i], y[j]]\n",
    "        Z[j,i] = adsorbed_mass(mol_fxn)"
   ]
  },
  {
   "cell_type": "code",
   "execution_count": 93,
   "metadata": {},
   "outputs": [
    {
     "name": "stdout",
     "output_type": "stream",
     "text": [
      "[-0.67135381 -0.74113701] \n",
      " [-0.74113701  0.67135381] \n",
      " [[-0.67135381 -0.74113701]\n",
      " [-0.74113701  0.67135381]]\n"
     ]
    },
    {
     "name": "stderr",
     "output_type": "stream",
     "text": [
      "/home/adrian/.julia/conda/3/lib/python3.8/site-packages/pyiast/isotherms.py:351: RuntimeWarning: invalid value encountered in log\n",
      "  return self.params[\"M\"] * np.log(1.0 + self.params[\"K\"] * pressure)\n"
     ]
    }
   ],
   "source": [
    "op_pt = np.array([0.7, 0.15, 0.15])\n",
    "m_op = adsorbed_mass(op_pt)\n",
    "J = ndt.Jacobian(adsorbed_mass, method=\"forward\")\n",
    "j_op = J(op_pt)[0][1:]\n",
    "v1, v2 = np.linalg.svd([j_op])[2]"
   ]
  },
  {
   "cell_type": "code",
   "execution_count": 106,
   "metadata": {},
   "outputs": [
    {
     "data": {
      "text/plain": [
       "(0.01, 0.295, 0.01, 0.295)"
      ]
     },
     "execution_count": 106,
     "metadata": {},
     "output_type": "execute_result"
    },
    {
     "data": {
      "image/png": "[encoded data removed]",
      "text/plain": [
       "<Figure size 432x288 with 1 Axes>"
      ]
     },
     "metadata": {
      "needs_background": "light"
     },
     "output_type": "display_data"
    }
   ],
   "source": [
    "fig, ax = plt.subplots()\n",
    "CS = ax.contour(X, Y, Z)\n",
    "ax.clabel(CS, inline=True, fontsize=10)\n",
    "ax.set_title('Adsorption Contours')\n",
    "ax.set_xlabel(gases[1] + \" Fraction\")\n",
    "ax.set_ylabel(gases[2] + \" Fraction\")\n",
    "plt.plot([op_pt[1], op_pt[1] - v1[0]/10], [op_pt[2], op_pt[2] - v1[1]/10], color='k')\n",
    "plt.plot([op_pt[1], op_pt[1] - v2[0]/10], [op_pt[2], op_pt[2] - v2[1]/10], color='k')\n",
    "plt.axis(\"equal\")"
   ]
  },
  {
   "cell_type": "code",
   "execution_count": 25,
   "metadata": {},
   "outputs": [],
   "source": [
    "def V(x, y, z):\n",
    "    x, y, z = x[0][0], y[0][0], z[0][0]\n",
    "    print(x, y, z)\n",
    "    if x + y + z <= 1:\n",
    "        return adsorbed_mass([1 - x - y - z, x, y, z])\n",
    "    else:\n",
    "        return NaN"
   ]
  },
  {
   "cell_type": "code",
   "execution_count": null,
   "metadata": {},
   "outputs": [],
   "source": [
    "X, Y, Z = np.mgrid[0.001:0.003:0.999, 0.001:0.003:0.999, 0.001:0.003:0.999]\n",
    "X, Y, Z"
   ]
  },
  {
   "cell_type": "code",
   "execution_count": null,
   "metadata": {},
   "outputs": [],
   "source": [
    "V(X, Y, Z)"
   ]
  },
  {
   "cell_type": "code",
   "execution_count": null,
   "metadata": {},
   "outputs": [],
   "source": [
    "from mayavi import mlab\n",
    "mlab.contour3d(X, Y, Z, V)"
   ]
  },
  {
   "cell_type": "code",
   "execution_count": null,
   "metadata": {},
   "outputs": [],
   "source": [
    "figure, tax = tern.figure(scale=100)\n",
    "tax.heatmapf(adsorbed_mass, boundary=False, style=\"hexagonal\")\n",
    "tax.gridlines(multiple=10)\n",
    "tax.ticks(multiple=10)\n",
    "tax.set_title(\"Heatmap\")\n",
    "tax.left_axis_label(gases[2])\n",
    "tax.right_axis_label(gases[1])\n",
    "tax.bottom_axis_label(gases[0])"
   ]
  },
  {
   "cell_type": "code",
   "execution_count": null,
   "metadata": {},
   "outputs": [],
   "source": [
    "# near-pure CH4\n",
    "adsorbed_mass([0.99,0.005,0.005])"
   ]
  },
  {
   "cell_type": "code",
   "execution_count": null,
   "metadata": {},
   "outputs": [],
   "source": [
    "# near-pure N2\n",
    "adsorbed_mass([0.005, 0.99, 0.005])"
   ]
  },
  {
   "cell_type": "code",
   "execution_count": null,
   "metadata": {},
   "outputs": [],
   "source": [
    "# near-pure CO2\n",
    "adsorbed_mass([0.005,0.005,0.99])"
   ]
  },
  {
   "cell_type": "code",
   "execution_count": null,
   "metadata": {},
   "outputs": [],
   "source": [
    "figure, tax = tern.figure(scale=100)\n",
    "tax.scatter([[1,0,0]])\n",
    "tax.ticks(multiple=25)"
   ]
  },
  {
   "cell_type": "code",
   "execution_count": null,
   "metadata": {},
   "outputs": [],
   "source": [
    "plt.figure()\n",
    "plt.plot(x_ch4, m_ads)\n",
    "plt.ylim(ymin=0)\n",
    "plt.xlabel(\"Fraction of CH4\")\n",
    "plt.ylabel(\"Total Adsorbed Mass (g/g)\")\n",
    "plt.title(\"Calibration Curve\")"
   ]
  },
  {
   "cell_type": "code",
   "execution_count": null,
   "metadata": {},
   "outputs": [],
   "source": []
  }
 ],
 "metadata": {
  "kernelspec": {
   "display_name": "Python 3",
   "language": "python",
   "name": "python3"
  },
  "language_info": {
   "codemirror_mode": {
    "name": "ipython",
    "version": 3
   },
   "file_extension": ".py",
   "mimetype": "text/x-python",
   "name": "python",
   "nbconvert_exporter": "python",
   "pygments_lexer": "ipython3",
   "version": "3.8.5"
  }
 },
 "nbformat": 4,
 "nbformat_minor": 4
}
