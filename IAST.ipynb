{
 "cells": [
  {
   "cell_type": "code",
   "execution_count": 1,
   "metadata": {},
   "outputs": [],
   "source": [
    "import pandas as pd\n",
    "import matplotlib.pyplot as plt\n",
    "from mpl_toolkits.mplot3d import Axes3D\n",
    "from matplotlib.patches import FancyArrowPatch\n",
    "from mpl_toolkits.mplot3d.proj3d import proj_transform\n",
    "import pyiast as iast\n",
    "import numpy as np\n",
    "import math\n",
    "import warnings\n",
    "import numdifftools as ndt"
   ]
  },
  {
   "cell_type": "code",
   "execution_count": 2,
   "metadata": {},
   "outputs": [],
   "source": [
    "cool_colors = {'green': (0.0, 0.716, 0.554), 'red': (1.0, 0.403, 0.397), 'blue': (0.0, 0.747, 1.0), \"yellow\": (0.830929, 0.793470, 0.225663), \"purple\": (0.745987, 0.663119, 1.000000)}"
   ]
  },
  {
   "cell_type": "markdown",
   "metadata": {},
   "source": [
    "# load gas adsorption data\n",
    "\n",
    "define set of MOFs and gases."
   ]
  },
  {
   "cell_type": "code",
   "execution_count": 3,
   "metadata": {},
   "outputs": [],
   "source": [
    "mofs = [\"HKUST-1\", \"Co-MOF-74\"]\n",
    "\n",
    "gases = [\"CH4\", \n",
    "          \"N2\", \n",
    "         \"CO2\", \n",
    "         \"C2H6\"\n",
    "        ]"
   ]
  },
  {
   "cell_type": "code",
   "execution_count": 4,
   "metadata": {},
   "outputs": [],
   "source": [
    "xtal_density = {\"HKUST-1\" : 879.1, \"Co-MOF-74\" : 1172.8} # kg/m^3. see compute_density.jl\n",
    "\n",
    "mol_wts = {\"N2\" : 28., \"CH4\" : 16., \"CO2\" : 44.009, \"C2H6\" : 30.07} # g/mol\n",
    "\n",
    "# for plots\n",
    "gas_to_color = dict(zip(gases, [\"C{0}\".format(i) for i in range(len(gases))]))\n",
    "gas_to_label = {\"CH4\": \"CH$_4$\", \"N2\": \"N$_2$\", \"CO2\": \"CO$_2$\", \"C2H6\": \"C$_2$H$_6$\"}\n",
    "gas_to_symbol = {\"CH4\": \"o\", \"N2\": \"s\", \"CO2\": \"P\", \"C2H6\": \"X\"}"
   ]
  },
  {
   "cell_type": "markdown",
   "metadata": {},
   "source": [
    "read in `.csv` files containing experimental adsorption data from the literature. see the header of the `.csv` for the data source."
   ]
  },
  {
   "cell_type": "code",
   "execution_count": 5,
   "metadata": {},
   "outputs": [],
   "source": [
    "isotherm_data = dict()\n",
    "for mof in mofs:\n",
    "    isotherm_data[mof] = dict()\n",
    "    for gas in gases:\n",
    "        isotherm_data[mof][gas] = pd.read_csv(\"data/\" + mof + \"/\" + gas + \".csv\", comment='#')"
   ]
  },
  {
   "cell_type": "markdown",
   "metadata": {},
   "source": [
    "unit conversions. goal:\n",
    "* loading: mmol gas / g MOF [keep it in mmol for IAST!]\n",
    "* pressure: bar"
   ]
  },
  {
   "cell_type": "code",
   "execution_count": 6,
   "metadata": {},
   "outputs": [],
   "source": [
    "# special cases for each MOF\n",
    "isotherm_data[\"HKUST-1\"][\"N2\"][\"p(bar)\"] = isotherm_data[\"HKUST-1\"][\"N2\"][\"p(MPa)\"] * 10\n",
    "isotherm_data[\"HKUST-1\"][\"CH4\"][\"N(mmol/g)\"] = isotherm_data[\"HKUST-1\"][\"CH4\"][\"cm3/g\"] / 22.4\n",
    "\n",
    "for gas in [\"CH4\", \"N2\", \"CO2\"]:\n",
    "    isotherm_data[\"Co-MOF-74\"][gas][\"N(mmol/g)\"] = isotherm_data[\"Co-MOF-74\"][gas][\"N(mol/g)\"] * 1000.0\n",
    "    isotherm_data[\"Co-MOF-74\"][gas][\"p(bar)\"] = isotherm_data[\"Co-MOF-74\"][gas][\"p(kPa)\"] * 0.01\n",
    "# where both MOFs need the treatment\n",
    "for mof in mofs:\n",
    "    # cm3 STP  *  L STP      *   mol        * 1000mmol\n",
    "    #  g      1000 cm3 STP    22.4 L STP       1 mol\n",
    "\n",
    "    isotherm_data[mof][\"C2H6\"][\"p(bar)\"] = isotherm_data[mof][\"C2H6\"][\"P(mmHg)\"] / 750.062\n",
    "    # cm3 STP  *  L STP      *   mol      * 1000mmol *    m3 MOF    *   kg      * (100^3) cm3 MOF\n",
    "    # cm3 MOF  1000 cm3 STP   22.4 L STP     1 mol      ρ_MOF kg      1000 g         m3 MOF\n",
    "    isotherm_data[mof][\"C2H6\"][\"N(mmol/g)\"] = isotherm_data[mof][\"C2H6\"][\"N(cm3STP/cm3)\"] * 100 ** 3 / 1000 / 22.4 / xtal_density[mof]\n",
    "    \n",
    "# check for success\n",
    "for mof in mofs:\n",
    "    for gas in gases:\n",
    "        try:\n",
    "            isotherm_data[mof][gas][\"N(mmol/g)\"]\n",
    "            isotherm_data[mof][gas][\"p(bar)\"]\n",
    "        except KeyError:\n",
    "            print(\"failed unit conversion! mof = \", mof, \"gas = \", gas)"
   ]
  },
  {
   "cell_type": "markdown",
   "metadata": {},
   "source": [
    "convert to absolute for the Co-MOF-74 data."
   ]
  },
  {
   "cell_type": "code",
   "execution_count": 7,
   "metadata": {},
   "outputs": [],
   "source": [
    "V_pore_co_mof_74 = 0.48 # cm3 / g from Table S1 here: http://www.rsc.org/suppdata/sc/c3/c3sc51319j/c3sc51319j.pdf"
   ]
  },
  {
   "cell_type": "code",
   "execution_count": 8,
   "metadata": {},
   "outputs": [],
   "source": [
    "bulk_gas_density = dict() # 298 K\n",
    "for gas in [\"CH4\", \"N2\", \"CO2\"]:\n",
    "    bulk_gas_density[gas] = pd.read_csv(\"data/bulk_gas/\" + gas + \".cgi\", delimiter=\"\\t\") # read .cgi files\n",
    "    \n",
    "def rho_bulk(gas, p):\n",
    "    # https://numpy.org/doc/stable/reference/generated/numpy.interp.html\n",
    "    return np.interp(p, bulk_gas_density[gas][\"Pressure (bar)\"], bulk_gas_density[gas][\"Density (mol/l)\"])"
   ]
  },
  {
   "cell_type": "code",
   "execution_count": 9,
   "metadata": {},
   "outputs": [],
   "source": [
    "# convert vol: mmol/cc = mol/L\n",
    "for gas in [\"CH4\", \"N2\", \"CO2\"]:\n",
    "    #  cm3  mol     1 L      1000 mmol\n",
    "    #   g    L    1000 cm3      1 mol\n",
    "    # => cm3 / g * mol / L [=] mmol/g\n",
    "    isotherm_data[\"Co-MOF-74\"][gas][\"N(mmol/g)\"] = isotherm_data[\"Co-MOF-74\"][gas][\"N(mmol/g)\"] + V_pore_co_mof_74 * rho_bulk(gas, \n",
    "                                                                                                                              isotherm_data[\"Co-MOF-74\"][gas][\"p(bar)\"])"
   ]
  },
  {
   "cell_type": "markdown",
   "metadata": {},
   "source": [
    "plot raw data"
   ]
  },
  {
   "cell_type": "code",
   "execution_count": 10,
   "metadata": {},
   "outputs": [
    {
     "data": {
      "image/png": "[encoded data removed]",
      "text/plain": [
       "<Figure size 432x288 with 1 Axes>"
      ]
     },
     "metadata": {
      "needs_background": "light"
     },
     "output_type": "display_data"
    },
    {
     "data": {
      "image/png": "[encoded data removed]",
      "text/plain": [
       "<Figure size 432x288 with 1 Axes>"
      ]
     },
     "metadata": {
      "needs_background": "light"
     },
     "output_type": "display_data"
    }
   ],
   "source": [
    "for mof in mofs:\n",
    "    plt.figure()\n",
    "    plt.xlabel(\"pressure (bar)\")\n",
    "    plt.ylabel(\"gas uptake (mmol/g)\")\n",
    "    for gas in gases:\n",
    "        plt.scatter(isotherm_data[mof][gas][\"p(bar)\"], isotherm_data[mof][gas][\"N(mmol/g)\"], \n",
    "                    marker=gas_to_symbol[gas], label=gas_to_label[gas], color=gas_to_color[gas])\n",
    "    plt.xscale(\"log\")\n",
    "    plt.title(mof)\n",
    "    plt.legend()"
   ]
  },
  {
   "cell_type": "markdown",
   "metadata": {},
   "source": [
    "# fit isotherm models to data for IAST"
   ]
  },
  {
   "cell_type": "code",
   "execution_count": 11,
   "metadata": {},
   "outputs": [],
   "source": [
    "isotherms = dict()\n",
    "for mof in mofs:\n",
    "    isotherms[mof] = dict()\n",
    "    for gas in gases:\n",
    "        model = \"Langmuir\"\n",
    "        if mof == \"Co-MOF-74\":\n",
    "            if gas in [\"C2H6\", \"CH4\"]:\n",
    "                model = \"Quadratic\"\n",
    "            if gas == \"CO2\":\n",
    "                model = \"DSLangmuir\"\n",
    "        isotherms[mof][gas] = iast.ModelIsotherm(isotherm_data[mof][gas], \n",
    "                                                 loading_key=\"N(mmol/g)\", pressure_key=\"p(bar)\", model=model)"
   ]
  },
  {
   "cell_type": "code",
   "execution_count": 12,
   "metadata": {},
   "outputs": [
    {
     "data": {
      "text/plain": [
       "{'M': 10.516199609074071, 'Ka': 2.869526816810471, 'Kb': -0.388998873067832}"
      ]
     },
     "execution_count": 12,
     "metadata": {},
     "output_type": "execute_result"
    }
   ],
   "source": [
    "isotherms[\"Co-MOF-74\"][\"C2H6\"].params"
   ]
  },
  {
   "cell_type": "code",
   "execution_count": 13,
   "metadata": {},
   "outputs": [
    {
     "data": {
      "image/png": "[encoded data removed]",
      "text/plain": [
       "<Figure size 432x288 with 1 Axes>"
      ]
     },
     "metadata": {
      "needs_background": "light"
     },
     "output_type": "display_data"
    },
    {
     "data": {
      "image/png": "[encoded data removed]",
      "text/plain": [
       "<Figure size 432x288 with 1 Axes>"
      ]
     },
     "metadata": {
      "needs_background": "light"
     },
     "output_type": "display_data"
    }
   ],
   "source": [
    "for mof in mofs:\n",
    "    pressures = np.logspace(-3, 2.5, 500)\n",
    "    \n",
    "    plt.figure()# figsize=[0.8*6.4, 0.7*4.8])\n",
    "    for gas in gases:\n",
    "        plt.scatter(isotherm_data[mof][gas][\"p(bar)\"], isotherm_data[mof][gas][\"N(mmol/g)\"], \n",
    "                    marker=gas_to_symbol[gas], label=gas_to_label[gas], color=gas_to_color[gas])\n",
    "        plt.plot(pressures, isotherms[mof][gas].loading(pressures), color=gas_to_color[gas])\n",
    "    plt.xscale(\"log\")\n",
    "    plt.ylim(ymax=15)\n",
    "    plt.xlim([0.004, 120])\n",
    "    plt.xlabel(\"pressure [bar]\")\n",
    "    plt.ylabel(\"gas uptake [mmol/g]\")\n",
    "    plt.title(mof)\n",
    "    plt.legend()\n",
    "    plt.tight_layout()\n",
    "    plt.savefig(mof + \"isotherms.pdf\", format=\"pdf\")"
   ]
  },
  {
   "cell_type": "markdown",
   "metadata": {},
   "source": [
    "# set up single-MOF IAST calculations\n",
    "to obtain $m(\\mathbf{x})$, the total mass adsorbed in a given MOF with composition at pressure $\\mathbf{x}$."
   ]
  },
  {
   "cell_type": "code",
   "execution_count": 14,
   "metadata": {},
   "outputs": [],
   "source": [
    "p_total = 1.0 # total pressure [bar]"
   ]
  },
  {
   "cell_type": "code",
   "execution_count": 15,
   "metadata": {},
   "outputs": [],
   "source": [
    "\"\"\"\n",
    "compute *total* mass of adsorbed gas in the MOF.\n",
    "returns units: g gas / g MOF\n",
    "\n",
    "# example:\n",
    "mol_fxns = {'C2H6': 0.4, 'CH4': 0.6}\n",
    "adsorbed_mass(\"HKUST-1\", mol_fxns)\n",
    "\"\"\"\n",
    "def adsorbed_mass(mof, mol_fxns):\n",
    "    # mol fractions must add to 1.0\n",
    "    if ~ np.isclose(np.sum([x_i for x_i in mol_fxns.values()]), 1.0):\n",
    "        raise Exception(\"mol fxns dont add to 1\")\n",
    "    \n",
    "    # if any components are zero, remove that component\n",
    "    mol_fxns = {gas: x_i for gas, x_i in mol_fxns.items() if x_i != 0}\n",
    "    \n",
    "    # if we are left with a pure gas, use the pure-component isotherm...\n",
    "    if len(mol_fxns) == 1:\n",
    "        gas = list(mol_fxns.keys())[0]\n",
    "        return isotherms[mof][gas].loading(p_total) * mol_wts[gas] / 1000.0\n",
    "    \n",
    "    pressures = np.array([p_total * x_i for x_i in mol_fxns.values()])\n",
    "    \n",
    "    q = iast.iast(pressures, [isotherms[mof][gas] for gas in mol_fxns.keys()], warningoff=True)\n",
    "    # q: mmol/g mof\n",
    "    # mol_wts: g gas/mol \n",
    "    # m_ads: g gas/g mof\n",
    "    return np.sum([q[j] * mol_wts[gas] for j, gas in enumerate(mol_fxns.keys())]) / 1000"
   ]
  },
  {
   "cell_type": "code",
   "execution_count": 16,
   "metadata": {},
   "outputs": [
    {
     "data": {
      "text/plain": [
       "0.028415169796121787"
      ]
     },
     "execution_count": 16,
     "metadata": {},
     "output_type": "execute_result"
    }
   ],
   "source": [
    "mol_fxns = {'C2H6': 0.01, 'CH4': 0.99}\n",
    "adsorbed_mass(mof, mol_fxns)"
   ]
  },
  {
   "cell_type": "markdown",
   "metadata": {},
   "source": [
    "# a single-MOF sensor"
   ]
  },
  {
   "cell_type": "code",
   "execution_count": 17,
   "metadata": {},
   "outputs": [],
   "source": [
    "mof = \"Co-MOF-74\"\n",
    "mof = \"HKUST-1\""
   ]
  },
  {
   "cell_type": "code",
   "execution_count": 18,
   "metadata": {},
   "outputs": [],
   "source": [
    "\"\"\"\n",
    "convert mol fraction vector with contaminant mole fractions into a mol_fxn dictionary.\n",
    "\"\"\"\n",
    "def x_to_mol_fxns(x, contaminants):\n",
    "    assert len(x) == len(contaminants)\n",
    "    mol_fxns = dict()\n",
    "    mol_fxns[\"CH4\"] = 1.0 - np.sum(x)\n",
    "    for i, contaminant in enumerate(contaminants):\n",
    "        mol_fxns[contaminant] = x[i]\n",
    "    return mol_fxns\n",
    "\n",
    "\"\"\"\n",
    "convert mole fraction dict to x\n",
    "\"\"\"\n",
    "def mol_fxns_to_x(mol_fxns, contaminants):\n",
    "    return np.array([mol_fxns[contaminant] for contaminant in contaminants])\n",
    "\n",
    "\"\"\"\n",
    "numerically compute jacobian matrix of m(x) at a given point\n",
    "\"\"\"\n",
    "def jacobian_matrix_of_m(mof, mol_fxns, contaminants):\n",
    "    # complicated b/c adsorbed mass takes in a dictionary.\n",
    "    # construct J(x)\n",
    "    J = ndt.Jacobian(lambda x: adsorbed_mass(mof, x_to_mol_fxns(x, contaminants)), step=0.001)\n",
    "    \n",
    "    # compute x for given mole fractions\n",
    "    x = mol_fxns_to_x(mol_fxns, contaminants)\n",
    "    return J(x)"
   ]
  },
  {
   "cell_type": "markdown",
   "metadata": {},
   "source": [
    "### two contaminants"
   ]
  },
  {
   "cell_type": "code",
   "execution_count": 19,
   "metadata": {},
   "outputs": [],
   "source": [
    "contaminants = [\"N2\", \"CO2\"]\n",
    "contaminants = [\"N2\", \"C2H6\"]\n",
    "# contaminants = [\"C2H6\", \"CO2\"]"
   ]
  },
  {
   "cell_type": "markdown",
   "metadata": {},
   "source": [
    "create heapmap to visualize $m(\\mathbf{x})$"
   ]
  },
  {
   "cell_type": "code",
   "execution_count": 20,
   "metadata": {},
   "outputs": [],
   "source": [
    "delta = 0.005\n",
    "x_1 = np.arange(0.00, 0.3, delta)\n",
    "x_2 = np.arange(0.00, 0.3, delta)\n",
    "X_1, X_2 = np.meshgrid(x_1, x_2)\n",
    "M = np.zeros(np.shape(X_1))\n",
    "for i in range(np.shape(X_1)[0]):\n",
    "    for j in range(np.shape(X_2)[1]):\n",
    "        mol_fxns = x_to_mol_fxns([x_1[i], x_2[j]], contaminants)\n",
    "        M[j, i] = adsorbed_mass(mof, mol_fxns)\n",
    "        \n",
    "assert np.sum(np.isnan(M)) == 0"
   ]
  },
  {
   "cell_type": "markdown",
   "metadata": {},
   "source": [
    "define operating point about which to linearize, compute adsorbed mass at the operating point."
   ]
  },
  {
   "cell_type": "code",
   "execution_count": 21,
   "metadata": {},
   "outputs": [
    {
     "data": {
      "text/plain": [
       "{'CH4': 0.85, 'N2': 0.05, 'C2H6': 0.1}"
      ]
     },
     "execution_count": 21,
     "metadata": {},
     "output_type": "execute_result"
    }
   ],
   "source": [
    "mol_fxns_op = {\"CH4\": 0.85, contaminants[0]: 0.05, contaminants[1]: 0.1}\n",
    "mol_fxns_op"
   ]
  },
  {
   "cell_type": "code",
   "execution_count": 22,
   "metadata": {},
   "outputs": [
    {
     "data": {
      "text/plain": [
       "array([0.05, 0.1 ])"
      ]
     },
     "execution_count": 22,
     "metadata": {},
     "output_type": "execute_result"
    }
   ],
   "source": [
    "x_op = mol_fxns_to_x(mol_fxns_op, contaminants)\n",
    "x_op"
   ]
  },
  {
   "cell_type": "code",
   "execution_count": 23,
   "metadata": {},
   "outputs": [
    {
     "data": {
      "text/plain": [
       "0.04077483194591936"
      ]
     },
     "execution_count": 23,
     "metadata": {},
     "output_type": "execute_result"
    }
   ],
   "source": [
    "m_op = adsorbed_mass(mof, mol_fxns_op)\n",
    "m_op"
   ]
  },
  {
   "cell_type": "markdown",
   "metadata": {},
   "source": [
    "compute Jacobian matrix of $m(\\mathbf{x})$."
   ]
  },
  {
   "cell_type": "code",
   "execution_count": 24,
   "metadata": {},
   "outputs": [],
   "source": [
    "# Jacobian at operating point\n",
    "J_op = jacobian_matrix_of_m(mof, mol_fxns_op, contaminants)\n",
    "\n",
    "# right singular vectors\n",
    "v1, v2 = np.linalg.svd(J_op)[2]\n",
    "if mof == \"HKUST-1\" and \"N2\" in contaminants:\n",
    "    v2 = - v2\n",
    "    v1 = - v1"
   ]
  },
  {
   "cell_type": "code",
   "execution_count": 25,
   "metadata": {},
   "outputs": [
    {
     "data": {
      "text/plain": [
       "array([0.05, 0.1 ])"
      ]
     },
     "execution_count": 25,
     "metadata": {},
     "output_type": "execute_result"
    }
   ],
   "source": [
    "x_op"
   ]
  },
  {
   "cell_type": "code",
   "execution_count": 26,
   "metadata": {},
   "outputs": [],
   "source": [
    "# draw vector from x0 to x+x0\n",
    "def sketch_vector(x0, x, label=None, dx_mag=0.015, color=\"k\"):\n",
    "    plt.arrow(x0[0], x0[1], x[0], x[1], color=color, length_includes_head=True, lw=4)\n",
    "    dx = dx_mag * x / np.linalg.norm(x)\n",
    "    plt.text(x0[0] + x[0] + dx[0], x0[1] + x[1] + dx[1], label, ha=\"center\", va=\"center\")"
   ]
  },
  {
   "cell_type": "code",
   "execution_count": 27,
   "metadata": {},
   "outputs": [
    {
     "data": {
      "image/png": "[encoded data removed]",
      "text/plain": [
       "<Figure size 432x288 with 1 Axes>"
      ]
     },
     "metadata": {
      "needs_background": "light"
     },
     "output_type": "display_data"
    }
   ],
   "source": [
    "fig, ax = plt.subplots()\n",
    "# option to show an image\n",
    "# ims = ax.imshow(M, extent=[x_1[0], x_1[-1], x_2[0], x_2[-1]], \n",
    "#                origin='lower',\n",
    "#                cmap='viridis', alpha=0.5)\n",
    "# plt.colorbar(ims, label=\"$m$ [g gas/g MOF]\")\n",
    "CS = ax.contour(X_1, X_2, M, levels=10)# , colors=\"k\")\n",
    "# plt.colorbar(CS, label=\"$m$ [g gas/g MOF]\")\n",
    "ax.clabel(CS, inline=True) # labels contours with numbers\n",
    "ax.set_title(\"$m(\\mathbf{x})$ [g gas/g MOF]\")\n",
    "ax.set_xlabel(gas_to_label[contaminants[0]] + \" mole fraction\")\n",
    "ax.set_ylabel(gas_to_label[contaminants[1]] + \" mole fraction\")\n",
    "# sketch operating point and directions\n",
    "plt.scatter(x_op[0], x_op[1], color=\"k\", label=\"$\\mathbf{x}_{op}$\", zorder=1000)\n",
    "sketch_vector(x_op, -v1/15, label=\"$\\mathbf{v}_1$\", color=cool_colors[\"green\"], dx_mag=0.0125)\n",
    "sketch_vector(x_op, -v2/15, label=\"$\\mathbf{v}_2$\", color=cool_colors[\"red\"], dx_mag=0.0175)\n",
    "plt.legend()\n",
    "# plt.plot([x_op[0], x_op[0] - v1[0]/10], [x_op[1], x_op[1] - v1[1]/10], color='k')\n",
    "# plt.plot([x_op[0], x_op[0] - v2[0]/10], [x_op[1], x_op[1] - v2[1]/10], color='k')\n",
    "plt.gca().set_aspect('equal', 'box')\n",
    "plt.tight_layout()\n",
    "plt.savefig(mof + \"_\" + contaminants[0] + \"_\" + contaminants[1] + \".pdf\", format=\"pdf\", bbox_inches=\"tight\")"
   ]
  },
  {
   "cell_type": "markdown",
   "metadata": {},
   "source": [
    "## three contaminants"
   ]
  },
  {
   "cell_type": "code",
   "execution_count": 28,
   "metadata": {},
   "outputs": [],
   "source": [
    "mof = \"HKUST-1\"\n",
    "contaminants = [\"N2\", \"CO2\", \"C2H6\"]"
   ]
  },
  {
   "cell_type": "markdown",
   "metadata": {},
   "source": [
    "discretize composition space"
   ]
  },
  {
   "cell_type": "code",
   "execution_count": 29,
   "metadata": {},
   "outputs": [],
   "source": [
    "n_pts = 15\n",
    "max_x = 0.3\n",
    "X1, X2, X3 = np.mgrid[0:max_x:complex(0,n_pts), 0:max_x:complex(0,n_pts), 0:max_x:complex(0,n_pts)]"
   ]
  },
  {
   "cell_type": "markdown",
   "metadata": {},
   "source": [
    "store adsorbed mass at each point in a 3D tensor"
   ]
  },
  {
   "cell_type": "code",
   "execution_count": 30,
   "metadata": {},
   "outputs": [],
   "source": [
    "M = np.zeros(np.shape(X1))\n",
    "for i in range(n_pts):\n",
    "    for j in range(n_pts):\n",
    "        for k in range(n_pts):\n",
    "            mol_fxns = {\"CH4\": 1 - (X1[i, j, k] + X2[i, j, k] + X3[i, j, k]), \n",
    "                        contaminants[0]: X1[i, j, k], \n",
    "                        contaminants[1]: X2[i, j, k], \n",
    "                        contaminants[2]: X3[i, j, k]}\n",
    "            M[i, j, k] = adsorbed_mass(mof, mol_fxns)"
   ]
  },
  {
   "cell_type": "markdown",
   "metadata": {},
   "source": [
    "define operating point"
   ]
  },
  {
   "cell_type": "code",
   "execution_count": 31,
   "metadata": {},
   "outputs": [
    {
     "data": {
      "text/plain": [
       "{'CH4': 0.7, 'N2': 0.05, 'CO2': 0.1, 'C2H6': 0.15}"
      ]
     },
     "execution_count": 31,
     "metadata": {},
     "output_type": "execute_result"
    }
   ],
   "source": [
    "mol_fxns_op = {\"CH4\": 0.7, contaminants[0]: 0.05, contaminants[1]: 0.1, contaminants[2]: 0.15}\n",
    "mol_fxns_op"
   ]
  },
  {
   "cell_type": "code",
   "execution_count": 32,
   "metadata": {},
   "outputs": [
    {
     "data": {
      "text/plain": [
       "array([0.05, 0.1 , 0.15])"
      ]
     },
     "execution_count": 32,
     "metadata": {},
     "output_type": "execute_result"
    }
   ],
   "source": [
    "x_op = mol_fxns_to_x(mol_fxns_op, contaminants)\n",
    "x_op"
   ]
  },
  {
   "cell_type": "code",
   "execution_count": 33,
   "metadata": {},
   "outputs": [
    {
     "data": {
      "text/plain": [
       "0.07226064596659788"
      ]
     },
     "execution_count": 33,
     "metadata": {},
     "output_type": "execute_result"
    }
   ],
   "source": [
    "m_op = adsorbed_mass(mof, mol_fxns_op)\n",
    "m_op"
   ]
  },
  {
   "cell_type": "markdown",
   "metadata": {},
   "source": [
    "compute Jacobian at operating point and find its right singular vectors"
   ]
  },
  {
   "cell_type": "code",
   "execution_count": 34,
   "metadata": {},
   "outputs": [
    {
     "data": {
      "text/plain": [
       "(array([-0.021254  ,  0.66731251,  0.7444745 ]),\n",
       " array([ 0.66731251,  0.56396157, -0.48645797]),\n",
       " array([ 0.7444745 , -0.48645797,  0.45729243]))"
      ]
     },
     "execution_count": 34,
     "metadata": {},
     "output_type": "execute_result"
    }
   ],
   "source": [
    "J_op = jacobian_matrix_of_m(mof, mol_fxns_op, contaminants)\n",
    "\n",
    "# right singular vectors\n",
    "v1, v2, v3 = np.linalg.svd(J_op)[2]\n",
    "v1, v2, v3"
   ]
  },
  {
   "cell_type": "markdown",
   "metadata": {},
   "source": [
    "write to file for visualization in mayavi"
   ]
  },
  {
   "cell_type": "code",
   "execution_count": 35,
   "metadata": {},
   "outputs": [],
   "source": [
    "np.savez(\"{}_{}_{}_{}.npz\".format(mof, contaminants[0], contaminants[1], contaminants[2]), \n",
    "         M=M, X1=X1, X2=X2, X3=X3, v1=v1, v2=v2, v3=v3, x_op=x_op)"
   ]
  },
  {
   "cell_type": "markdown",
   "metadata": {},
   "source": [
    "# two-MOF sensor array for three contaminants\n",
    "define the two MOFs and the three contaminants"
   ]
  },
  {
   "cell_type": "code",
   "execution_count": 36,
   "metadata": {},
   "outputs": [],
   "source": [
    "mofs = [\"HKUST-1\", \"Co-MOF-74\"]\n",
    "contaminants = [\"N2\", \"CO2\", \"C2H6\"]"
   ]
  },
  {
   "cell_type": "markdown",
   "metadata": {},
   "source": [
    "define an operating point"
   ]
  },
  {
   "cell_type": "code",
   "execution_count": 37,
   "metadata": {},
   "outputs": [
    {
     "data": {
      "text/plain": [
       "{'CH4': 0.7, 'N2': 0.05, 'CO2': 0.1, 'C2H6': 0.15}"
      ]
     },
     "execution_count": 37,
     "metadata": {},
     "output_type": "execute_result"
    }
   ],
   "source": [
    "mol_fxns_op = {\"CH4\": 0.7, contaminants[0]: 0.05, contaminants[1]: 0.1, contaminants[2]: 0.15}\n",
    "mol_fxns_op"
   ]
  },
  {
   "cell_type": "code",
   "execution_count": 38,
   "metadata": {},
   "outputs": [
    {
     "data": {
      "text/plain": [
       "array([0.05, 0.1 , 0.15])"
      ]
     },
     "execution_count": 38,
     "metadata": {},
     "output_type": "execute_result"
    }
   ],
   "source": [
    "x_op = mol_fxns_to_x(mol_fxns_op, contaminants)\n",
    "x_op"
   ]
  },
  {
   "cell_type": "code",
   "execution_count": 39,
   "metadata": {},
   "outputs": [
    {
     "data": {
      "text/plain": [
       "[0.07226064596659788, 0.15644577818396938]"
      ]
     },
     "execution_count": 39,
     "metadata": {},
     "output_type": "execute_result"
    }
   ],
   "source": [
    "m_op = [adsorbed_mass(mof, mol_fxns_op) for mof in mofs]\n",
    "m_op"
   ]
  },
  {
   "cell_type": "markdown",
   "metadata": {},
   "source": [
    "compute the Jacobian matrix at the operating point"
   ]
  },
  {
   "cell_type": "code",
   "execution_count": 40,
   "metadata": {},
   "outputs": [],
   "source": [
    "J_op = [jacobian_matrix_of_m(mof, mol_fxns_op, contaminants) for mof in mofs]\n",
    "J_op = np.reshape(J_op, (2, 3))"
   ]
  },
  {
   "cell_type": "markdown",
   "metadata": {},
   "source": [
    "compute the right singular vectors of the Jacobian matrix"
   ]
  },
  {
   "cell_type": "code",
   "execution_count": 41,
   "metadata": {},
   "outputs": [
    {
     "data": {
      "text/plain": [
       "(array([-0.00171389, -0.88600719, -0.46366833]),\n",
       " array([ 0.06513546,  0.46258546, -0.88417875]),\n",
       " array([ 0.99787496, -0.03171664,  0.05691766]))"
      ]
     },
     "execution_count": 41,
     "metadata": {},
     "output_type": "execute_result"
    }
   ],
   "source": [
    "# right singular vectors\n",
    "v1, v2, v3 = np.linalg.svd(J_op)[2]\n",
    "v1, v2, v3"
   ]
  },
  {
   "cell_type": "markdown",
   "metadata": {},
   "source": [
    "for drawing arrows in 3D"
   ]
  },
  {
   "cell_type": "code",
   "execution_count": 42,
   "metadata": {},
   "outputs": [],
   "source": [
    "# https://gist.github.com/WetHat/1d6cd0f7309535311a539b42cccca89c\n",
    "class Arrow3D(FancyArrowPatch):\n",
    "    def __init__(self, x, y, z, dx, dy, dz, *args, **kwargs):\n",
    "        super().__init__((0, 0), (0, 0), *args, **kwargs)\n",
    "        self._xyz = (x, y, z)\n",
    "        self._dxdydz = (dx, dy, dz)\n",
    "\n",
    "    def draw(self, renderer):\n",
    "        x1, y1, z1 = self._xyz\n",
    "        dx, dy, dz = self._dxdydz\n",
    "        x2, y2, z2 = (x1 + dx, y1 + dy, z1 + dz)\n",
    "\n",
    "        xs, ys, zs = proj_transform((x1, x2), (y1, y2), (z1, z2), self.axes.M)\n",
    "        self.set_positions((xs[0], ys[0]), (xs[1], ys[1]))\n",
    "        super().draw(renderer)\n",
    "\n",
    "def _arrow3D(ax, x, y, z, dx, dy, dz, muh_label, label_stretch, *args, **kwargs):\n",
    "    '''Add an 3d arrow to an `Axes3D` instance.'''\n",
    "\n",
    "    arrow = Arrow3D(x, y, z, dx, dy, dz, *args, **kwargs)\n",
    "    ax.add_artist(arrow)\n",
    "    dd = np.array([x+dx, y+dy, z+dz])\n",
    "    dd = dd / np.linalg.norm(dd)\n",
    "\n",
    "    ax.text(x+dx+label_stretch*dd[0], y+dy+label_stretch*dd[1], z+dz+label_stretch*dd[2], muh_label, ha=\"center\", va=\"center\")\n",
    "\n",
    "setattr(Axes3D, 'arrow3D', _arrow3D)\n",
    "\n",
    "def sketch_vector(x0, x, label=None, dx_mag=0.1):\n",
    "    plt.arrow(x0[0], x0[1], x[0], x[1], color=\"k\", head_width=0.5, length_includes_head=True, lw=2)\n",
    "    dx = dx_mag * x / np.linalg.norm(x)\n",
    "    plt.text(x0[0] + x[0] + dx[0], x0[1] + x[1] + dx[1], label, ha=\"center\", va=\"center\")"
   ]
  },
  {
   "cell_type": "code",
   "execution_count": 43,
   "metadata": {},
   "outputs": [
    {
     "data": {
      "image/png": "[encoded data removed]",
      "text/plain": [
       "<Figure size 432x288 with 1 Axes>"
      ]
     },
     "metadata": {
      "needs_background": "light"
     },
     "output_type": "display_data"
    }
   ],
   "source": [
    "r = 0.05\n",
    "\n",
    "fig, ax = plt.subplots(subplot_kw={\"projection\": \"3d\"})\n",
    "\n",
    "plt.xticks(rotation=90)\n",
    "plt.yticks(rotation=90)\n",
    "ax.tick_params(axis=\"x\", pad=0)\n",
    "ax.tick_params(axis=\"y\", pad=0)\n",
    "ax.tick_params(axis=\"z\", pad=10)\n",
    "ax.set_xlabel(gas_to_label[contaminants[0]] + \"\\nmole fraction\", labelpad=16) \n",
    "ax.set_ylabel(gas_to_label[contaminants[1]] + \"\\nmole fraction\", labelpad=22) \n",
    "ax.set_zlabel(gas_to_label[contaminants[2]] + \"\\nmole fraction\", labelpad=35) \n",
    "       \n",
    "ax.set_title(\"gas composition space\")\n",
    "\n",
    "ax.scatter(x_op[0], x_op[1], x_op[2], color=\"k\", s=50, label=\"$\\mathbf{x}_{op}$\")\n",
    "v_labels = [\"$\\mathbf{v}_1$\", \"$\\mathbf{v}_2$\", \"$\\mathbf{v}_3$\"]\n",
    "v_label_stretches = [-0.02, 0.02, -0.02]\n",
    "\n",
    "for (i, v) in enumerate([v1, v2, v3]):\n",
    "    color = \"k\"\n",
    "    if i == 2:\n",
    "        color = cool_colors[\"red\"]\n",
    "    if i == 0:\n",
    "        color = cool_colors[\"green\"]\n",
    "    if i == 1:\n",
    "        color = cool_colors[\"yellow\"]\n",
    "    ax.arrow3D(x_op[0], x_op[1], x_op[2],\n",
    "               r*v[0], r*v[1], r*v[2],\n",
    "               v_labels[i],\n",
    "               v_label_stretches[i],\n",
    "               mutation_scale=20,\n",
    "               ec=color,\n",
    "               fc=color)\n",
    "# https://github.com/matplotlib/matplotlib/issues/17172\n",
    "\n",
    "ax.set_xlim(xmin=0)\n",
    "ax.set_ylim(ymin=0)\n",
    "ax.set_zlim(zmin=0)\n",
    "ax.set_box_aspect([ub - lb for lb, ub in (getattr(ax, f'get_{a}lim')() for a in 'xyz')])\n",
    "\n",
    "ax.legend()\n",
    "ax.view_init(elev=15., azim=50)\n",
    "\n",
    "plt.plot([0, ax.get_xlim()[1]], [0, 0], [0, 0], c=\"grey\", zorder=1)\n",
    "plt.plot([0, 0], [0, ax.get_ylim()[1]], [0, 0], c=\"grey\", zorder=1)\n",
    "plt.plot([0, 0], [0, 0], [0, ax.get_zlim()[1]], c=\"grey\", zorder=1)\n",
    "ax.dist = 15\n",
    "\n",
    "plt.tight_layout()\n",
    "plt.savefig(\"two_mof_composition_space.pdf\", format=\"pdf\", bbox_inches=\"tight\")\n",
    "plt.show()"
   ]
  },
  {
   "cell_type": "code",
   "execution_count": 62,
   "metadata": {},
   "outputs": [],
   "source": [
    "# args: mof pitch roll yaw\n",
    "%run mayavi_viz.py \"HKUST-1\" 0.0 0.0 -20.0"
   ]
  }
 ],
 "metadata": {
  "kernelspec": {
   "display_name": "Python 3",
   "language": "python",
   "name": "python3"
  },
  "language_info": {
   "codemirror_mode": {
    "name": "ipython",
    "version": 3
   },
   "file_extension": ".py",
   "mimetype": "text/x-python",
   "name": "python",
   "nbconvert_exporter": "python",
   "pygments_lexer": "ipython3",
   "version": "3.8.5"
  }
 },
 "nbformat": 4,
 "nbformat_minor": 4
}
