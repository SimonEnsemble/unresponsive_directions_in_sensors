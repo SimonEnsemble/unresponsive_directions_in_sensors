{
 "cells": [
  {
   "cell_type": "code",
   "execution_count": 203,
   "metadata": {},
   "outputs": [],
   "source": [
    "import pandas as pd\n",
    "import matplotlib.pyplot as plt\n",
    "from mpl_toolkits.mplot3d import Axes3D\n",
    "from matplotlib.patches import FancyArrowPatch\n",
    "from mpl_toolkits.mplot3d.proj3d import proj_transform\n",
    "import pyiast as iast\n",
    "import seaborn as sns\n",
    "import numpy as np\n",
    "from scipy.spatial import ConvexHull\n",
    "import math\n",
    "import warnings\n",
    "import numdifftools as ndt"
   ]
  },
  {
   "cell_type": "code",
   "execution_count": 204,
   "metadata": {},
   "outputs": [],
   "source": [
    "cool_colors = {'green': (0.0, 0.716, 0.554), 'red': (1.0, 0.403, 0.397), 'blue': (0.0, 0.747, 1.0), \"yellow\": (0.830929, 0.793470, 0.225663), \"purple\": (0.745987, 0.663119, 1.000000)}"
   ]
  },
  {
   "cell_type": "markdown",
   "metadata": {},
   "source": [
    "# load gas adsorption data\n",
    "\n",
    "define set of MOFs and gases."
   ]
  },
  {
   "cell_type": "code",
   "execution_count": 205,
   "metadata": {},
   "outputs": [],
   "source": [
    "mofs = [\"HKUST-1\", \"Co-MOF-74\"]\n",
    "\n",
    "gases = [\"CH4\", \n",
    "          \"N2\", \n",
    "         \"CO2\", \n",
    "         \"C2H6\"\n",
    "        ]"
   ]
  },
  {
   "cell_type": "code",
   "execution_count": 206,
   "metadata": {},
   "outputs": [],
   "source": [
    "xtal_density = {\"HKUST-1\" : 879.1, \"Co-MOF-74\" : 1172.8} # kg/m^3. see compute_density.jl\n",
    "\n",
    "mol_wts = {\"N2\" : 28., \"CH4\" : 16., \"CO2\" : 44.009, \"C2H6\" : 30.07} # g/mol\n",
    "\n",
    "# for plots\n",
    "gas_to_color = dict(zip(gases, [\"C{0}\".format(i) for i in range(len(gases))]))\n",
    "gas_to_label = {\"CH4\": \"CH$_4$\", \"N2\": \"N$_2$\", \"CO2\": \"CO$_2$\", \"C2H6\": \"C$_2$H$_6$\"}\n",
    "gas_to_symbol = {\"CH4\": \"o\", \"N2\": \"s\", \"CO2\": \"P\", \"C2H6\": \"X\"}"
   ]
  },
  {
   "cell_type": "markdown",
   "metadata": {},
   "source": [
    "read in `.csv` files containing experimental adsorption data from the literature. see the header of the `.csv` for the data source."
   ]
  },
  {
   "cell_type": "code",
   "execution_count": 207,
   "metadata": {},
   "outputs": [],
   "source": [
    "isotherm_data = dict()\n",
    "for mof in mofs:\n",
    "    isotherm_data[mof] = dict()\n",
    "    for gas in gases:\n",
    "        isotherm_data[mof][gas] = pd.read_csv(\"data/\" + mof + \"/\" + gas + \".csv\", comment='#')"
   ]
  },
  {
   "cell_type": "markdown",
   "metadata": {},
   "source": [
    "unit conversions. goal:\n",
    "* loading: mmol gas / g MOF [keep it in mmol for IAST!]\n",
    "* pressure: bar"
   ]
  },
  {
   "cell_type": "code",
   "execution_count": 208,
   "metadata": {},
   "outputs": [],
   "source": [
    "# special cases for each MOF\n",
    "isotherm_data[\"HKUST-1\"][\"N2\"][\"p(bar)\"] = isotherm_data[\"HKUST-1\"][\"N2\"][\"p(MPa)\"] * 10\n",
    "isotherm_data[\"HKUST-1\"][\"CH4\"][\"N(mmol/g)\"] = isotherm_data[\"HKUST-1\"][\"CH4\"][\"cm3/g\"] / 22.4\n",
    "\n",
    "for gas in [\"CH4\", \"N2\", \"CO2\"]:\n",
    "    isotherm_data[\"Co-MOF-74\"][gas][\"N(mmol/g)\"] = isotherm_data[\"Co-MOF-74\"][gas][\"N(mol/g)\"] * 1000.0\n",
    "    isotherm_data[\"Co-MOF-74\"][gas][\"p(bar)\"] = isotherm_data[\"Co-MOF-74\"][gas][\"p(kPa)\"] * 0.01\n",
    "# where both MOFs need the treatment\n",
    "for mof in mofs:\n",
    "    # cm3 STP  *  L STP      *   mol        * 1000mmol\n",
    "    #  g      1000 cm3 STP    22.4 L STP       1 mol\n",
    "\n",
    "    isotherm_data[mof][\"C2H6\"][\"p(bar)\"] = isotherm_data[mof][\"C2H6\"][\"P(mmHg)\"] / 750.062\n",
    "    # cm3 STP  *  L STP      *   mol      * 1000mmol *    m3 MOF    *   kg      * (100^3) cm3 MOF\n",
    "    # cm3 MOF  1000 cm3 STP   22.4 L STP     1 mol      ρ_MOF kg      1000 g         m3 MOF\n",
    "    isotherm_data[mof][\"C2H6\"][\"N(mmol/g)\"] = isotherm_data[mof][\"C2H6\"][\"N(cm3STP/cm3)\"] * 100 ** 3 / 1000 / 22.4 / xtal_density[mof]\n",
    "    \n",
    "# check for success\n",
    "for mof in mofs:\n",
    "    for gas in gases:\n",
    "        try:\n",
    "            isotherm_data[mof][gas][\"N(mmol/g)\"]\n",
    "            isotherm_data[mof][gas][\"p(bar)\"]\n",
    "        except KeyError:\n",
    "            print(\"failed unit conversion! mof = \", mof, \"gas = \", gas)"
   ]
  },
  {
   "cell_type": "markdown",
   "metadata": {},
   "source": [
    "convert to absolute for the Co-MOF-74 data."
   ]
  },
  {
   "cell_type": "code",
   "execution_count": 209,
   "metadata": {},
   "outputs": [],
   "source": [
    "V_pore_co_mof_74 = 0.48 # cm3 / g from Table S1 here: http://www.rsc.org/suppdata/sc/c3/c3sc51319j/c3sc51319j.pdf"
   ]
  },
  {
   "cell_type": "code",
   "execution_count": 210,
   "metadata": {},
   "outputs": [],
   "source": [
    "bulk_gas_density = dict() # 298 K\n",
    "for gas in [\"CH4\", \"N2\", \"CO2\"]:\n",
    "    bulk_gas_density[gas] = pd.read_csv(\"data/bulk_gas/\" + gas + \".cgi\", delimiter=\"\\t\") # read .cgi files\n",
    "    \n",
    "def rho_bulk(gas, p):\n",
    "    # https://numpy.org/doc/stable/reference/generated/numpy.interp.html\n",
    "    return np.interp(p, bulk_gas_density[gas][\"Pressure (bar)\"], bulk_gas_density[gas][\"Density (mol/l)\"])"
   ]
  },
  {
   "cell_type": "code",
   "execution_count": 211,
   "metadata": {},
   "outputs": [],
   "source": [
    "# convert vol: mmol/cc = mol/L\n",
    "for gas in [\"CH4\", \"N2\", \"CO2\"]:\n",
    "    #  cm3  mol     1 L      1000 mmol\n",
    "    #   g    L    1000 cm3      1 mol\n",
    "    # => cm3 / g * mol / L [=] mmol/g\n",
    "    isotherm_data[\"Co-MOF-74\"][gas][\"N(mmol/g)\"] = isotherm_data[\"Co-MOF-74\"][gas][\"N(mmol/g)\"] + V_pore_co_mof_74 * rho_bulk(gas, \n",
    "                                                                                                                              isotherm_data[\"Co-MOF-74\"][gas][\"p(bar)\"])"
   ]
  },
  {
   "cell_type": "markdown",
   "metadata": {},
   "source": [
    "plot raw data"
   ]
  },
  {
   "cell_type": "code",
   "execution_count": 212,
   "metadata": {},
   "outputs": [
    {
     "data": {
      "image/png": "[encoded data removed]",
      "text/plain": [
       "<Figure size 432x288 with 1 Axes>"
      ]
     },
     "metadata": {
      "needs_background": "light"
     },
     "output_type": "display_data"
    },
    {
     "data": {
      "image/png": "[encoded data removed]",
      "text/plain": [
       "<Figure size 432x288 with 1 Axes>"
      ]
     },
     "metadata": {
      "needs_background": "light"
     },
     "output_type": "display_data"
    }
   ],
   "source": [
    "for mof in mofs:\n",
    "    plt.figure()\n",
    "    plt.xlabel(\"pressure (bar)\")\n",
    "    plt.ylabel(\"gas uptake (mmol/g)\")\n",
    "    for gas in gases:\n",
    "        plt.scatter(isotherm_data[mof][gas][\"p(bar)\"], isotherm_data[mof][gas][\"N(mmol/g)\"], \n",
    "                    marker=gas_to_symbol[gas], label=gas_to_label[gas], color=gas_to_color[gas])\n",
    "    plt.xscale(\"log\")\n",
    "    plt.title(mof)\n",
    "    plt.legend()"
   ]
  },
  {
   "cell_type": "markdown",
   "metadata": {},
   "source": [
    "# fit isotherm models to data for IAST"
   ]
  },
  {
   "cell_type": "code",
   "execution_count": 11,
   "metadata": {},
   "outputs": [],
   "source": [
    "ads_models = dict()\n",
    "for mof in mofs:\n",
    "    ads_models[mof] = dict()\n",
    "    for gas in gases:\n",
    "        ads_models[mof][gas] = \"Langmuir\"\n",
    "ads_models[\"Co-MOF-74\"][\"C2H6\"] = \"Quadratic\"\n",
    "ads_models[\"Co-MOF-74\"][\"CH4\"] = \"Quadratic\"\n",
    "ads_models[\"Co-MOF-74\"][\"CO2\"] = \"DSLangmuir\""
   ]
  },
  {
   "cell_type": "code",
   "execution_count": 12,
   "metadata": {},
   "outputs": [],
   "source": [
    "isotherms = dict()\n",
    "for mof in mofs:\n",
    "    isotherms[mof] = dict()\n",
    "    for gas in gases:\n",
    "        isotherms[mof][gas] = iast.ModelIsotherm(isotherm_data[mof][gas], \n",
    "                                                 loading_key=\"N(mmol/g)\", pressure_key=\"p(bar)\", model=ads_models[mof][gas])"
   ]
  },
  {
   "cell_type": "code",
   "execution_count": 13,
   "metadata": {},
   "outputs": [
    {
     "data": {
      "text/plain": [
       "{'M': 3.4935519530486188, 'Ka': 4.73447976239299, 'Kb': 30.366262557965044}"
      ]
     },
     "execution_count": 13,
     "metadata": {},
     "output_type": "execute_result"
    }
   ],
   "source": [
    "isotherms[\"Co-MOF-74\"][\"C2H6\"].params"
   ]
  },
  {
   "cell_type": "code",
   "execution_count": 14,
   "metadata": {},
   "outputs": [
    {
     "data": {
      "image/png": "[encoded data removed]",
      "text/plain": [
       "<Figure size 432x288 with 1 Axes>"
      ]
     },
     "metadata": {
      "needs_background": "light"
     },
     "output_type": "display_data"
    },
    {
     "data": {
      "image/png": "[encoded data removed]",
      "text/plain": [
       "<Figure size 432x288 with 1 Axes>"
      ]
     },
     "metadata": {
      "needs_background": "light"
     },
     "output_type": "display_data"
    }
   ],
   "source": [
    "for mof in mofs:\n",
    "    pressures = np.logspace(-3, 2.5, 500)\n",
    "    \n",
    "    plt.figure()# figsize=[0.8*6.4, 0.7*4.8])\n",
    "    for gas in gases:\n",
    "        plt.plot(pressures, isotherms[mof][gas].loading(pressures), color=gas_to_color[gas], label=ads_models[mof][gas] + \" model\")\n",
    "        plt.scatter(isotherm_data[mof][gas][\"p(bar)\"], isotherm_data[mof][gas][\"N(mmol/g)\"], \n",
    "                    marker=gas_to_symbol[gas], label=gas_to_label[gas], color=gas_to_color[gas], zorder=1000)\n",
    "    plt.xscale(\"log\")\n",
    "    plt.ylim(ymax=15)\n",
    "    plt.xlim([0.004, 120])\n",
    "    plt.xlabel(\"pressure [bar]\")\n",
    "    plt.ylabel(\"gas uptake [mmol/g]\")\n",
    "    plt.title(mof)\n",
    "    # legend\n",
    "    handles, labels = plt.gca().get_legend_handles_labels()\n",
    "    # sort both labels and handles by labels\n",
    "    plt.legend(handles[4:8] + handles[0:4], labels[4:8] + labels[0:4])\n",
    "\n",
    "#     plt.legend()\n",
    "    plt.tight_layout()\n",
    "    plt.savefig(mof + \"isotherms.pdf\", format=\"pdf\")"
   ]
  },
  {
   "cell_type": "markdown",
   "metadata": {},
   "source": [
    "# set up single-MOF IAST calculations\n",
    "to obtain $m(\\mathbf{x})$, the total mass adsorbed in a given MOF with composition at pressure $\\mathbf{x}$."
   ]
  },
  {
   "cell_type": "code",
   "execution_count": 15,
   "metadata": {},
   "outputs": [],
   "source": [
    "p_total = 1.0 # total pressure [bar]"
   ]
  },
  {
   "cell_type": "code",
   "execution_count": 185,
   "metadata": {},
   "outputs": [],
   "source": [
    "\"\"\"\n",
    "compute *total* mass of adsorbed gas in the MOF.\n",
    "returns units: g gas / g MOF\n",
    "\n",
    "# example:\n",
    "mol_fxns = {'C2H6': 0.4, 'CH4': 0.6}\n",
    "adsorbed_mass(\"HKUST-1\", mol_fxns)\n",
    "\"\"\"\n",
    "def adsorbed_mass(mof, mol_fxns, return_components=False):\n",
    "    # mol fractions must add to 1.0\n",
    "    if ~ np.isclose(np.sum([x_i for x_i in mol_fxns.values()]), 1.0):\n",
    "        raise Exception(\"mol fxns dont add to 1\")\n",
    "    \n",
    "    # if any components are zero, remove that component\n",
    "    mol_fxns = {gas: x_i for gas, x_i in mol_fxns.items() if x_i != 0}\n",
    "    \n",
    "    # if we are left with a pure gas, use the pure-component isotherm...\n",
    "    if len(mol_fxns) == 1:\n",
    "        gas = list(mol_fxns.keys())[0]\n",
    "        return isotherms[mof][gas].loading(p_total) * mol_wts[gas] / 1000.0\n",
    "    \n",
    "    pressures = np.array([p_total * x_i for x_i in mol_fxns.values()])\n",
    "    \n",
    "    q = iast.iast(pressures, [isotherms[mof][gas] for gas in mol_fxns.keys()], warningoff=True)\n",
    "    \n",
    "    # q: mmol/g mof\n",
    "    # mol_wts: g gas/mol \n",
    "    # m_ads: g gas/g mof\n",
    "    total_uptake = np.sum([q[j] * mol_wts[gas] for j, gas in enumerate(mol_fxns.keys())]) / 1000\n",
    "    \n",
    "    if return_components:\n",
    "        gas_uptake = {}\n",
    "        for j, gas in enumerate(mol_fxns.keys()):\n",
    "            gas_uptake[gas] = q[j] * mol_wts[gas] / 1000 # g/g\n",
    "        return gas_uptake\n",
    "            \n",
    "    return total_uptake"
   ]
  },
  {
   "cell_type": "code",
   "execution_count": 189,
   "metadata": {},
   "outputs": [
    {
     "data": {
      "text/plain": [
       "0.017867680731083642"
      ]
     },
     "execution_count": 189,
     "metadata": {},
     "output_type": "execute_result"
    }
   ],
   "source": [
    "mol_fxns = {'C2H6': 0.01, 'CH4': 0.99}\n",
    "adsorbed_mass(mof, mol_fxns, False)"
   ]
  },
  {
   "cell_type": "markdown",
   "metadata": {},
   "source": [
    "# a single-MOF sensor"
   ]
  },
  {
   "cell_type": "code",
   "execution_count": 213,
   "metadata": {},
   "outputs": [],
   "source": [
    "mof = \"Co-MOF-74\"\n",
    "mof = \"HKUST-1\""
   ]
  },
  {
   "cell_type": "code",
   "execution_count": 214,
   "metadata": {},
   "outputs": [],
   "source": [
    "\"\"\"\n",
    "convert mol fraction vector with contaminant mole fractions into a mol_fxn dictionary.\n",
    "\"\"\"\n",
    "def x_to_mol_fxns(x, contaminants):\n",
    "    assert len(x) == len(contaminants)\n",
    "    mol_fxns = dict()\n",
    "    mol_fxns[\"CH4\"] = 1.0 - np.sum(x)\n",
    "    for i, contaminant in enumerate(contaminants):\n",
    "        mol_fxns[contaminant] = x[i]\n",
    "    return mol_fxns\n",
    "\n",
    "\"\"\"\n",
    "convert mole fraction dict to x\n",
    "\"\"\"\n",
    "def mol_fxns_to_x(mol_fxns, contaminants):\n",
    "    return np.array([mol_fxns[contaminant] for contaminant in contaminants])\n",
    "\n",
    "\"\"\"\n",
    "numerically compute jacobian matrix of m(x) at a given point\n",
    "\"\"\"\n",
    "def jacobian_matrix_of_m(mof, mol_fxns, contaminants):\n",
    "    # complicated b/c adsorbed mass takes in a dictionary.\n",
    "    # construct J(x)\n",
    "    J = ndt.Jacobian(lambda x: adsorbed_mass(mof, x_to_mol_fxns(x, contaminants)), step=0.001)\n",
    "    \n",
    "    # compute x for given mole fractions\n",
    "    x = mol_fxns_to_x(mol_fxns, contaminants)\n",
    "    return J(x)"
   ]
  },
  {
   "cell_type": "markdown",
   "metadata": {},
   "source": [
    "### two contaminants"
   ]
  },
  {
   "cell_type": "code",
   "execution_count": 215,
   "metadata": {},
   "outputs": [],
   "source": [
    "contaminants = [\"N2\", \"CO2\"]\n",
    "contaminants = [\"N2\", \"C2H6\"]\n",
    "contaminants = [\"C2H6\", \"CO2\"]"
   ]
  },
  {
   "cell_type": "markdown",
   "metadata": {},
   "source": [
    "create heapmap to visualize $m(\\mathbf{x})$"
   ]
  },
  {
   "cell_type": "code",
   "execution_count": 216,
   "metadata": {},
   "outputs": [],
   "source": [
    "delta = 0.005\n",
    "x_1 = np.arange(0.00, 0.305, delta)\n",
    "x_2 = np.arange(0.00, 0.305, delta)\n",
    "X_1, X_2 = np.meshgrid(x_1, x_2)\n",
    "M = np.zeros(np.shape(X_1))\n",
    "for i in range(np.shape(X_1)[0]):\n",
    "    for j in range(np.shape(X_2)[1]):\n",
    "        mol_fxns = x_to_mol_fxns([x_1[i], x_2[j]], contaminants)\n",
    "        M[j, i] = adsorbed_mass(mof, mol_fxns)\n",
    "        \n",
    "assert np.sum(np.isnan(M)) == 0"
   ]
  },
  {
   "cell_type": "markdown",
   "metadata": {},
   "source": [
    "define operating point about which to linearize, compute adsorbed mass at the operating point."
   ]
  },
  {
   "cell_type": "code",
   "execution_count": 217,
   "metadata": {},
   "outputs": [
    {
     "data": {
      "text/plain": [
       "{'CH4': 0.85, 'C2H6': 0.05, 'CO2': 0.1}"
      ]
     },
     "execution_count": 217,
     "metadata": {},
     "output_type": "execute_result"
    }
   ],
   "source": [
    "mol_fxns_op = {\"CH4\": 0.85, contaminants[0]: 0.05, contaminants[1]: 0.1}\n",
    "mol_fxns_op"
   ]
  },
  {
   "cell_type": "code",
   "execution_count": 218,
   "metadata": {},
   "outputs": [
    {
     "data": {
      "text/plain": [
       "array([0.05, 0.1 ])"
      ]
     },
     "execution_count": 218,
     "metadata": {},
     "output_type": "execute_result"
    }
   ],
   "source": [
    "x_op = mol_fxns_to_x(mol_fxns_op, contaminants)\n",
    "x_op"
   ]
  },
  {
   "cell_type": "code",
   "execution_count": 219,
   "metadata": {},
   "outputs": [
    {
     "data": {
      "text/plain": [
       "0.0503879843193028"
      ]
     },
     "execution_count": 219,
     "metadata": {},
     "output_type": "execute_result"
    }
   ],
   "source": [
    "m_op = adsorbed_mass(mof, mol_fxns_op)\n",
    "m_op"
   ]
  },
  {
   "cell_type": "markdown",
   "metadata": {},
   "source": [
    "compute Jacobian matrix of $m(\\mathbf{x})$."
   ]
  },
  {
   "cell_type": "code",
   "execution_count": 220,
   "metadata": {},
   "outputs": [],
   "source": [
    "# Jacobian at operating point\n",
    "J_op = jacobian_matrix_of_m(mof, mol_fxns_op, contaminants)\n",
    "\n",
    "# right singular vectors\n",
    "v1, v2 = np.linalg.svd(J_op)[2]\n",
    "if mof == \"HKUST-1\" and \"N2\" in contaminants:\n",
    "    v2 = - v2\n",
    "    v1 = - v1"
   ]
  },
  {
   "cell_type": "code",
   "execution_count": 221,
   "metadata": {},
   "outputs": [
    {
     "data": {
      "text/plain": [
       "array([0.05, 0.1 ])"
      ]
     },
     "execution_count": 221,
     "metadata": {},
     "output_type": "execute_result"
    }
   ],
   "source": [
    "x_op"
   ]
  },
  {
   "cell_type": "code",
   "execution_count": 222,
   "metadata": {},
   "outputs": [],
   "source": [
    "# draw vector from x0 to x+x0\n",
    "def sketch_vector(x0, x, label=None, dx_mag=0.015, color=\"k\"):\n",
    "    plt.arrow(x0[0], x0[1], x[0], x[1], color=color, length_includes_head=True, lw=4)\n",
    "    dx = dx_mag * x / np.linalg.norm(x)\n",
    "    plt.text(x0[0] + x[0] + dx[0], x0[1] + x[1] + dx[1], label, ha=\"center\", va=\"center\")"
   ]
  },
  {
   "cell_type": "code",
   "execution_count": 223,
   "metadata": {},
   "outputs": [],
   "source": [
    "mof_to_levels = {'HKUST-1': np.linspace(0.0, 0.12, 10),\n",
    "                'Co-MOF-74': np.linspace(0.0, 0.22, 10)}"
   ]
  },
  {
   "cell_type": "code",
   "execution_count": 224,
   "metadata": {},
   "outputs": [
    {
     "data": {
      "image/png": "[encoded data removed]",
      "text/plain": [
       "<Figure size 432x288 with 1 Axes>"
      ]
     },
     "metadata": {
      "needs_background": "light"
     },
     "output_type": "display_data"
    }
   ],
   "source": [
    "fig, ax = plt.subplots()\n",
    "# option to show an image\n",
    "# ims = ax.imshow(M, extent=[x_1[0], x_1[-1], x_2[0], x_2[-1]], \n",
    "#                origin='lower',\n",
    "#                cmap='viridis', alpha=0.5)\n",
    "# plt.colorbar(ims, label=\"$m$ [g gas/g MOF]\")\n",
    "CS = ax.contour(X_1, X_2, M, levels=mof_to_levels[mof], vmin=0.0, vmax=np.max(mof_to_levels[mof]))# , colors=\"k\")\n",
    "# plt.colorbar(CS, label=\"$m$ [g gas/g MOF]\")\n",
    "ax.clabel(CS, inline=True) # labels contours with numbers\n",
    "ax.set_title(\"$a(\\mathbf{x})$ [g gas/g MOF]\")\n",
    "ax.set_xlabel(gas_to_label[contaminants[0]] + \" mole fraction\")\n",
    "ax.set_ylabel(gas_to_label[contaminants[1]] + \" mole fraction\")\n",
    "# sketch operating point and directions\n",
    "plt.scatter(x_op[0], x_op[1], color=\"k\", label=\"$\\mathbf{x}_{op}$\", zorder=1000)\n",
    "sketch_vector(x_op, -v1/15, label=\"$\\epsilon\\mathbf{v}_1$\", color=cool_colors[\"green\"], dx_mag=0.0125)\n",
    "sketch_vector(x_op, -v2/15, label=\"$\\epsilon\\mathbf{v}_2$\", color=cool_colors[\"red\"], dx_mag=0.0175)\n",
    "plt.legend()\n",
    "# plt.plot([x_op[0], x_op[0] - v1[0]/10], [x_op[1], x_op[1] - v1[1]/10], color='k')\n",
    "# plt.plot([x_op[0], x_op[0] - v2[0]/10], [x_op[1], x_op[1] - v2[1]/10], color='k')\n",
    "plt.gca().set_aspect('equal', 'box')\n",
    "plt.tight_layout()\n",
    "plt.savefig(mof + \"_\" + contaminants[0] + \"_\" + contaminants[1] + \".pdf\", format=\"pdf\", bbox_inches=\"tight\")"
   ]
  },
  {
   "cell_type": "markdown",
   "metadata": {},
   "source": [
    "for the blind spot toy figure in the intro"
   ]
  },
  {
   "cell_type": "code",
   "execution_count": 232,
   "metadata": {},
   "outputs": [],
   "source": [
    "def plot_composition(x, savename=None, xlabel=\"\", xmax=0.8):\n",
    "#     the_bottom = 0.0\n",
    "#     for gas, x_i in x.items():\n",
    "#         plt.barh([0.0], [x_i], left=the_bottom, label=gas_to_label[gas])\n",
    "#         the_bottom = the_bottom + x_i\n",
    "#     plt.legend()\n",
    "    plt.figure(figsize=(6.4, 2.0))\n",
    "    plt.gca().spines['top'].set_visible(False)\n",
    "    plt.gca().spines['right'].set_visible(False)\n",
    "    plt.barh([gas_to_label[gas] for gas in x.keys()], [x_i for x_i in x.values()], color=sns.color_palette(\"Accent\", 3))\n",
    "    plt.yticks(fontsize=16)\n",
    "    plt.xticks(fontsize=16)\n",
    "    plt.xlim(xmax=xmax)\n",
    "    plt.xlabel(xlabel, fontsize=16)\n",
    "    plt.tight_layout()\n",
    "    if not (savename == None):\n",
    "        plt.savefig(savename + \".pdf\", format=\"pdf\")"
   ]
  },
  {
   "cell_type": "code",
   "execution_count": 233,
   "metadata": {},
   "outputs": [
    {
     "name": "stdout",
     "output_type": "stream",
     "text": [
      "mof =  HKUST-1\n",
      "\n",
      "x_1 =  {'C2H6': 0.2, 'CO2': 0.01, 'CH4': 0.79}\n",
      "a(x_1) =  0.06612216575453553\n",
      "\n",
      "x_2 =  {'C2H6': 0.03388068574856931, 'CO2': 0.19682712178009493, 'CH4': 0.7692921924713357}\n",
      "a(x_2) =  0.06633094378306202\n"
     ]
    },
    {
     "data": {
      "image/png": "[encoded data removed]",
      "text/plain": [
       "<Figure size 460.8x144 with 1 Axes>"
      ]
     },
     "metadata": {
      "needs_background": "light"
     },
     "output_type": "display_data"
    },
    {
     "data": {
      "image/png": "[encoded data removed]",
      "text/plain": [
       "<Figure size 460.8x144 with 1 Axes>"
      ]
     },
     "metadata": {
      "needs_background": "light"
     },
     "output_type": "display_data"
    },
    {
     "data": {
      "image/png": "[encoded data removed]",
      "text/plain": [
       "<Figure size 460.8x144 with 1 Axes>"
      ]
     },
     "metadata": {
      "needs_background": "light"
     },
     "output_type": "display_data"
    },
    {
     "data": {
      "image/png": "[encoded data removed]",
      "text/plain": [
       "<Figure size 460.8x144 with 1 Axes>"
      ]
     },
     "metadata": {
      "needs_background": "light"
     },
     "output_type": "display_data"
    }
   ],
   "source": [
    "x_1 = {'C2H6': 0.2, 'CO2': 0.01, 'CH4': 1 - 0.01 - 0.2}\n",
    "\n",
    "print(\"mof = \", mof)\n",
    "print(\"\\nx_1 = \", x_1)\n",
    "print(\"a(x_1) = \", adsorbed_mass(mof, x_1))\n",
    "m_1 = adsorbed_mass(mof, x_1, True)\n",
    "\n",
    "# get blind spot\n",
    "J_op = jacobian_matrix_of_m(mof, x_1, contaminants)\n",
    "v1, v2 = np.linalg.svd(J_op)[2]\n",
    "\n",
    "x_2 = {}\n",
    "for c in range(len(contaminants)):\n",
    "    x_2[contaminants[c]] = x_1[contaminants[c]] + v2[c] / 4\n",
    "x_2['CH4'] = 1.0 - sum(x_2[c] for c in contaminants)\n",
    "m_2 = adsorbed_mass(mof, x_2, True)\n",
    "\n",
    "print(\"\\nx_2 = \", x_2)\n",
    "print(\"a(x_2) = \", adsorbed_mass(mof, x_2))\n",
    "\n",
    "        \n",
    "plot_composition(x_1, xlabel=\"mole fraction\", savename=\"gas_comp_1\")\n",
    "plot_composition(m_1, xlabel=\"uptake [g/g]\", savename=\"ads_comp_1\", xmax=0.06)\n",
    "plot_composition(x_2, xlabel=\"mole fraction\", savename=\"gas_comp_2\")\n",
    "plot_composition(m_2, xlabel=\"uptake [g/g]\", savename=\"ads_comp_1\", xmax=0.06)"
   ]
  },
  {
   "cell_type": "markdown",
   "metadata": {},
   "source": [
    "## three contaminants"
   ]
  },
  {
   "cell_type": "code",
   "execution_count": 30,
   "metadata": {},
   "outputs": [],
   "source": [
    "mof = \"HKUST-1\"\n",
    "# mof = \"Co-MOF-74\"\n",
    "contaminants = [\"N2\", \"CO2\", \"C2H6\"]"
   ]
  },
  {
   "cell_type": "markdown",
   "metadata": {},
   "source": [
    "discretize composition space"
   ]
  },
  {
   "cell_type": "code",
   "execution_count": 31,
   "metadata": {},
   "outputs": [],
   "source": [
    "n_pts = 15\n",
    "max_x = 0.3\n",
    "X1, X2, X3 = np.mgrid[0:max_x:complex(0,n_pts), 0:max_x:complex(0,n_pts), 0:max_x:complex(0,n_pts)]"
   ]
  },
  {
   "cell_type": "markdown",
   "metadata": {},
   "source": [
    "store adsorbed mass at each point in a 3D tensor"
   ]
  },
  {
   "cell_type": "code",
   "execution_count": 32,
   "metadata": {},
   "outputs": [],
   "source": [
    "M = np.zeros(np.shape(X1))\n",
    "for i in range(n_pts):\n",
    "    for j in range(n_pts):\n",
    "        for k in range(n_pts):\n",
    "            mol_fxns = {\"CH4\": 1 - (X1[i, j, k] + X2[i, j, k] + X3[i, j, k]), \n",
    "                        contaminants[0]: X1[i, j, k], \n",
    "                        contaminants[1]: X2[i, j, k], \n",
    "                        contaminants[2]: X3[i, j, k]}\n",
    "            M[i, j, k] = adsorbed_mass(mof, mol_fxns)"
   ]
  },
  {
   "cell_type": "markdown",
   "metadata": {},
   "source": [
    "define operating point"
   ]
  },
  {
   "cell_type": "code",
   "execution_count": 33,
   "metadata": {},
   "outputs": [
    {
     "data": {
      "text/plain": [
       "{'CH4': 0.35, 'N2': 0.25, 'CO2': 0.2, 'C2H6': 0.2}"
      ]
     },
     "execution_count": 33,
     "metadata": {},
     "output_type": "execute_result"
    }
   ],
   "source": [
    "mol_fxns_op = {\"CH4\": 0.35, contaminants[0]: 0.25, contaminants[1]: 0.2, contaminants[2]: 0.2}\n",
    "mol_fxns_op"
   ]
  },
  {
   "cell_type": "code",
   "execution_count": 34,
   "metadata": {},
   "outputs": [
    {
     "data": {
      "text/plain": [
       "array([0.25, 0.2 , 0.2 ])"
      ]
     },
     "execution_count": 34,
     "metadata": {},
     "output_type": "execute_result"
    }
   ],
   "source": [
    "x_op = mol_fxns_to_x(mol_fxns_op, contaminants)\n",
    "x_op"
   ]
  },
  {
   "cell_type": "code",
   "execution_count": 35,
   "metadata": {},
   "outputs": [
    {
     "data": {
      "text/plain": [
       "0.09865523609028941"
      ]
     },
     "execution_count": 35,
     "metadata": {},
     "output_type": "execute_result"
    }
   ],
   "source": [
    "m_op = adsorbed_mass(mof, mol_fxns_op)\n",
    "m_op"
   ]
  },
  {
   "cell_type": "markdown",
   "metadata": {},
   "source": [
    "compute Jacobian at operating point and find its right singular vectors"
   ]
  },
  {
   "cell_type": "code",
   "execution_count": 36,
   "metadata": {},
   "outputs": [
    {
     "data": {
      "text/plain": [
       "(array([-0.01942431,  0.67391241,  0.73855586]),\n",
       " array([ 0.67391241,  0.55449567, -0.48823827]),\n",
       " array([ 0.73855586, -0.48823827,  0.46492864]))"
      ]
     },
     "execution_count": 36,
     "metadata": {},
     "output_type": "execute_result"
    }
   ],
   "source": [
    "J_op = jacobian_matrix_of_m(mof, mol_fxns_op, contaminants)\n",
    "\n",
    "# right singular vectors\n",
    "v1, v2, v3 = np.linalg.svd(J_op)[2]\n",
    "v1, v2, v3"
   ]
  },
  {
   "cell_type": "markdown",
   "metadata": {},
   "source": [
    "write to file for visualization in mayavi"
   ]
  },
  {
   "cell_type": "code",
   "execution_count": 37,
   "metadata": {},
   "outputs": [],
   "source": [
    "np.savez(\"{}_{}_{}_{}.npz\".format(mof, contaminants[0], contaminants[1], contaminants[2]), \n",
    "         M=M, X1=X1, X2=X2, X3=X3, v1=v1, v2=v2, v3=v3, x_op=x_op)"
   ]
  },
  {
   "cell_type": "markdown",
   "metadata": {},
   "source": [
    "# two-MOF sensor array for three contaminants\n",
    "define the two MOFs and the three contaminants"
   ]
  },
  {
   "cell_type": "code",
   "execution_count": 38,
   "metadata": {},
   "outputs": [],
   "source": [
    "mofs = [\"HKUST-1\", \"Co-MOF-74\"]\n",
    "contaminants = [\"N2\", \"CO2\", \"C2H6\"]"
   ]
  },
  {
   "cell_type": "markdown",
   "metadata": {},
   "source": [
    "define an operating point"
   ]
  },
  {
   "cell_type": "code",
   "execution_count": 39,
   "metadata": {},
   "outputs": [
    {
     "data": {
      "text/plain": [
       "{'CH4': 0.7, 'N2': 0.05, 'CO2': 0.1, 'C2H6': 0.15}"
      ]
     },
     "execution_count": 39,
     "metadata": {},
     "output_type": "execute_result"
    }
   ],
   "source": [
    "mol_fxns_op = {\"CH4\": 0.7, contaminants[0]: 0.05, contaminants[1]: 0.1, contaminants[2]: 0.15}\n",
    "mol_fxns_op"
   ]
  },
  {
   "cell_type": "code",
   "execution_count": 40,
   "metadata": {},
   "outputs": [
    {
     "data": {
      "text/plain": [
       "array([0.05, 0.1 , 0.15])"
      ]
     },
     "execution_count": 40,
     "metadata": {},
     "output_type": "execute_result"
    }
   ],
   "source": [
    "x_op = mol_fxns_to_x(mol_fxns_op, contaminants)\n",
    "x_op"
   ]
  },
  {
   "cell_type": "code",
   "execution_count": 41,
   "metadata": {},
   "outputs": [
    {
     "data": {
      "text/plain": [
       "[0.07226043704997846, 0.1583979528174021]"
      ]
     },
     "execution_count": 41,
     "metadata": {},
     "output_type": "execute_result"
    }
   ],
   "source": [
    "m_op = [adsorbed_mass(mof, mol_fxns_op) for mof in mofs]\n",
    "m_op"
   ]
  },
  {
   "cell_type": "markdown",
   "metadata": {},
   "source": [
    "compute the Jacobian matrix at the operating point"
   ]
  },
  {
   "cell_type": "code",
   "execution_count": 42,
   "metadata": {},
   "outputs": [],
   "source": [
    "J_op = [jacobian_matrix_of_m(mof, mol_fxns_op, contaminants) for mof in mofs]\n",
    "J_op = np.reshape(J_op, (2, 3))"
   ]
  },
  {
   "cell_type": "markdown",
   "metadata": {},
   "source": [
    "compute the right singular vectors of the Jacobian matrix"
   ]
  },
  {
   "cell_type": "code",
   "execution_count": 43,
   "metadata": {},
   "outputs": [],
   "source": [
    "# SVD of Jacobian\n",
    "svd = np.linalg.svd(J_op)\n",
    "u1, u2 = np.transpose(svd[0])\n",
    "sigmas = svd[1]\n",
    "v1, v2, v3 = svd[2]"
   ]
  },
  {
   "cell_type": "markdown",
   "metadata": {},
   "source": [
    "for drawing arrows in 3D"
   ]
  },
  {
   "cell_type": "code",
   "execution_count": 44,
   "metadata": {},
   "outputs": [],
   "source": [
    "# https://gist.github.com/WetHat/1d6cd0f7309535311a539b42cccca89c\n",
    "class Arrow3D(FancyArrowPatch):\n",
    "    def __init__(self, x, y, z, dx, dy, dz, *args, **kwargs):\n",
    "        super().__init__((0, 0), (0, 0), *args, **kwargs)\n",
    "        self._xyz = (x, y, z)\n",
    "        self._dxdydz = (dx, dy, dz)\n",
    "\n",
    "    def draw(self, renderer):\n",
    "        x1, y1, z1 = self._xyz\n",
    "        dx, dy, dz = self._dxdydz\n",
    "        x2, y2, z2 = (x1 + dx, y1 + dy, z1 + dz)\n",
    "\n",
    "        xs, ys, zs = proj_transform((x1, x2), (y1, y2), (z1, z2), self.axes.M)\n",
    "        self.set_positions((xs[0], ys[0]), (xs[1], ys[1]))\n",
    "        super().draw(renderer)\n",
    "\n",
    "def _arrow3D(ax, x, y, z, dx, dy, dz, muh_label, label_stretch, *args, **kwargs):\n",
    "    '''Add an 3d arrow to an `Axes3D` instance.'''\n",
    "\n",
    "    arrow = Arrow3D(x, y, z, dx, dy, dz, *args, **kwargs)\n",
    "    ax.add_artist(arrow)\n",
    "    dd = np.array([x+dx, y+dy, z+dz])\n",
    "    dd = dd / np.linalg.norm(dd)\n",
    "\n",
    "    ax.text(x+dx+label_stretch*dd[0], y+dy+label_stretch*dd[1], z+dz+label_stretch*dd[2], muh_label, ha=\"center\", va=\"center\")\n",
    "\n",
    "setattr(Axes3D, 'arrow3D', _arrow3D)"
   ]
  },
  {
   "cell_type": "markdown",
   "metadata": {},
   "source": [
    "show how a sphere is mapped to an ellipse-ish (this is a non-linear mapping!). use convex hull to show image of sphere in composition space."
   ]
  },
  {
   "cell_type": "code",
   "execution_count": 45,
   "metadata": {},
   "outputs": [],
   "source": [
    "n_pts = 35\n",
    "r = 0.04   # radius of sphere\n",
    "\n",
    "# construct sphere\n",
    "theta = np.linspace(0, 2 * np.pi, n_pts)\n",
    "phi   = np.linspace(0, np.pi, n_pts)\n",
    "\n",
    "X1 = r * np.outer(np.cos(theta), np.sin(phi)) + x_op[0]\n",
    "X2 = r * np.outer(np.sin(theta), np.sin(phi)) + x_op[1]\n",
    "X3 = r * np.outer(np.ones(np.size(theta)), np.cos(phi)) + x_op[2]\n",
    "\n",
    "assert np.all(X1 > 0) and np.all(X2 > 0) and np.all(X3 > 0)\n",
    "\n",
    "# find image of these points\n",
    "M = np.zeros((n_pts**2, 2))\n",
    "count = 0\n",
    "for i in range(n_pts):\n",
    "    for j in range(n_pts):\n",
    "        mol_fxns = {\"CH4\": 1 - (X1[i, j] + X2[i, j] + X3[i, j]), \n",
    "                    contaminants[0]: X1[i, j], \n",
    "                    contaminants[1]: X2[i, j], \n",
    "                    contaminants[2]: X3[i, j]}\n",
    "        for m in range(2):\n",
    "            M[count, m] = adsorbed_mass(mofs[m], mol_fxns)\n",
    "        count += 1\n",
    "\n",
    "# get convex hull of these points\n",
    "hull = ConvexHull(M)"
   ]
  },
  {
   "cell_type": "code",
   "execution_count": 46,
   "metadata": {},
   "outputs": [
    {
     "data": {
      "image/png": "[encoded data removed]",
      "text/plain": [
       "<Figure size 432x288 with 1 Axes>"
      ]
     },
     "metadata": {
      "needs_background": "light"
     },
     "output_type": "display_data"
    }
   ],
   "source": [
    "fig, ax = plt.subplots(subplot_kw={\"projection\": \"3d\"})\n",
    "\n",
    "plt.xticks(rotation=90)\n",
    "plt.yticks(rotation=90)\n",
    "ax.tick_params(axis=\"x\", pad=0)\n",
    "ax.tick_params(axis=\"y\", pad=0)\n",
    "ax.tick_params(axis=\"z\", pad=10)\n",
    "ax.set_xlabel(gas_to_label[contaminants[0]] + \"\\nmole fraction\", labelpad=22) \n",
    "ax.set_ylabel(gas_to_label[contaminants[1]] + \"\\nmole fraction\", labelpad=22) \n",
    "ax.set_zlabel(gas_to_label[contaminants[2]] + \"\\nmole fraction\", labelpad=35) \n",
    "       \n",
    "ax.set_title(\"gas composition space\")\n",
    "\n",
    "ax.scatter(x_op[0], x_op[1], x_op[2], color=\"k\", s=50, label=\"$\\mathbf{x}_{op}$\")\n",
    "v_labels = [\"$\\epsilon\\mathbf{v}_1$\", \"$\\epsilon\\mathbf{v}_2$\", \"$\\epsilon\\mathbf{v}_3$\"]\n",
    "v_label_stretches = [-0.02, 0.02, -0.02]\n",
    "\n",
    "for (i, v) in enumerate([v1, v2, v3]):\n",
    "    color = \"k\"\n",
    "    if i == 2:\n",
    "        color = cool_colors[\"red\"]\n",
    "    if i == 0:\n",
    "        color = cool_colors[\"green\"]\n",
    "    if i == 1:\n",
    "        color = cool_colors[\"yellow\"]\n",
    "    ax.arrow3D(x_op[0], x_op[1], x_op[2],\n",
    "               r*v[0], r*v[1], r*v[2],\n",
    "               v_labels[i],\n",
    "               v_label_stretches[i],\n",
    "               mutation_scale=20,\n",
    "               ec=color,\n",
    "               fc=color)\n",
    "# https://github.com/matplotlib/matplotlib/issues/17172\n",
    "\n",
    "surf = ax.plot_surface(X1, X2, X3, alpha=0.2, rstride=1, cstride=1, color=cool_colors[\"blue\"])\n",
    "\n",
    "# ax.set_xlim(xmin=0)\n",
    "# ax.set_ylim(ymin=0)\n",
    "# ax.set_zlim(zmin=0)\n",
    "ax.set_box_aspect([ub - lb for lb, ub in (getattr(ax, f'get_{a}lim')() for a in 'xyz')])\n",
    "\n",
    "ax.legend()\n",
    "ax.view_init(elev=15., azim=50)\n",
    "\n",
    "# plt.plot([0, ax.get_xlim()[1]], [0, 0], [0, 0], c=\"grey\", zorder=1)\n",
    "# plt.plot([0, 0], [0, ax.get_ylim()[1]], [0, 0], c=\"grey\", zorder=1)\n",
    "# plt.plot([0, 0], [0, 0], [0, ax.get_zlim()[1]], c=\"grey\", zorder=1)\n",
    "ax.dist = 15\n",
    "\n",
    "plt.tight_layout()\n",
    "plt.savefig(\"two_mofs_three_contaminants_composition_space.pdf\", format=\"pdf\", bbox_inches=\"tight\")\n",
    "plt.show()"
   ]
  },
  {
   "cell_type": "markdown",
   "metadata": {},
   "source": [
    "viz sphere to ellipse mapping"
   ]
  },
  {
   "cell_type": "code",
   "execution_count": 47,
   "metadata": {},
   "outputs": [
    {
     "data": {
      "image/png": "[encoded data removed]",
      "text/plain": [
       "<Figure size 432x288 with 1 Axes>"
      ]
     },
     "metadata": {
      "needs_background": "light"
     },
     "output_type": "display_data"
    }
   ],
   "source": [
    "# from x0 to x.\n",
    "def sketch_vector(x0, x, label=None, dx_mag=0.003, color=\"k\"):#, scale_back=0.924):\n",
    "    plt.arrow(x0[0], x0[1], x[0], x[1], color=color, head_width=0.0025, length_includes_head=True, lw=2, head_starts_at_zero=False, zorder=100, ec=\"None\")\n",
    "#     plt.plot([x0[0], x0[0] + x[0]], [x0[1], x0[1] + x[1]], lw=3, color=color) # because head overhangs if not\n",
    "    dx = dx_mag * x / np.linalg.norm(x)\n",
    "    plt.text(x0[0] + x[0] + dx[0], x0[1] + x[1] + dx[1], label, ha=\"center\", va=\"center\")\n",
    "    \n",
    "fig, ax = plt.subplots()\n",
    "plt.scatter(m_op[0], m_op[1], label=\"$\\mathbf{m}_{op}$\", color=\"k\", s=55)\n",
    "# plt.plot(x+m_op[0], y+m_op[1], color=cool_colors[\"blue\"], zorder=0, lw=2)\n",
    "# \n",
    "plt.fill(M[hull.vertices, 0], M[hull.vertices, 1], color=cool_colors[\"blue\"], alpha=0.3, ec=\"None\")\n",
    "ax.set(xlabel=\"$m_1$ [g/g] in \" + mofs[0], ylabel=\"$m_2$ [g/g] in \" + mofs[1], title=\"sensor response space\")\n",
    "sketch_vector(m_op, sigmas[0] * r * u1, label=\"$\\epsilon\\sigma_1\\mathbf{u}_1$\", color=cool_colors[\"green\"], dx_mag=0.001)\n",
    "sketch_vector(m_op, sigmas[1] * r * u2, label=\"$\\epsilon\\sigma_2\\mathbf{u}_2$\", color=cool_colors[\"yellow\"], dx_mag=0.003)\n",
    "# plt.arrow(m_op[0], m_op[1], sigmas[0] * u1[0], sigmas[0] * u1[1], head_width=0.5, length_includes_head=True, color=\"k\")\n",
    "# plt.arrow(m_op[0], m_op[1], sigmas[1] * u2[0], sigmas[1] * u2[1], head_width=0.5, length_includes_head=True, color=\"k\")\n",
    "# plt.text(x0[0] + x[0] + dx_label, x0[1] + x[1] + dx_label, label, ha=\"center\", va=\"center\")\n",
    "ax.set_aspect('equal', 'box')\n",
    "# plt.xlim(xmin=0.0)\n",
    "# plt.ylim(ymin=0.0)\n",
    "plt.xlim(xmax=plt.gca().get_xlim()[1]+0.0025)\n",
    "# plt.xlim((0.0, 16.02451477673121))\n",
    "# plt.ylim((0.0, 22.591244938837093))\n",
    "plt.tight_layout()\n",
    "plt.legend(loc=\"upper left\")\n",
    "plt.savefig(\"two_mofs_three_contaminants_sensor_response.pdf\", format=\"pdf\", bbox_inches='tight')"
   ]
  }
 ],
 "metadata": {
  "kernelspec": {
   "display_name": "Python 3",
   "language": "python",
   "name": "python3"
  },
  "language_info": {
   "codemirror_mode": {
    "name": "ipython",
    "version": 3
   },
   "file_extension": ".py",
   "mimetype": "text/x-python",
   "name": "python",
   "nbconvert_exporter": "python",
   "pygments_lexer": "ipython3",
   "version": "3.8.5"
  }
 },
 "nbformat": 4,
 "nbformat_minor": 4
}
