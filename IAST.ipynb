{
 "cells": [
  {
   "cell_type": "code",
   "execution_count": 1,
   "metadata": {},
   "outputs": [
    {
     "name": "stdout",
     "output_type": "stream",
     "text": [
      "Cory's build to enable cubic interp\n"
     ]
    }
   ],
   "source": [
    "import pandas as pd\n",
    "import matplotlib.pyplot as plt\n",
    "import pyiast as iast\n",
    "import numpy as np\n",
    "import ternary as tern\n",
    "import math\n",
    "import warnings\n",
    "import numdifftools as ndt"
   ]
  },
  {
   "cell_type": "markdown",
   "metadata": {},
   "source": [
    "# load gas adsorption data\n",
    "\n",
    "define set of MOFs and gases."
   ]
  },
  {
   "cell_type": "code",
   "execution_count": 2,
   "metadata": {},
   "outputs": [],
   "source": [
    "mofs = [\"HKUST-1\", \"Co-MOF-74\"]\n",
    "\n",
    "gases = [\"CH4\", \n",
    "          \"N2\", \n",
    "         \"CO2\", \n",
    "         \"C2H6\"\n",
    "        ]"
   ]
  },
  {
   "cell_type": "code",
   "execution_count": 3,
   "metadata": {},
   "outputs": [],
   "source": [
    "xtal_density = {\"HKUST-1\" : 879.1, \"Co-MOF-74\" : 1172.8} # kg/m^3. see compute_density.jl\n",
    "\n",
    "mol_wts = {\"N2\" : 28., \"CH4\" : 16., \"CO2\" : 44.009, \"C2H6\" : 30.07} # g/mol\n",
    "\n",
    "# for plots\n",
    "gas_to_color = dict(zip(gases, [\"C{0}\".format(i) for i in range(len(gases))]))\n",
    "gas_to_label = {\"CH4\": \"CH$_4$\", \"N2\": \"N$_2$\", \"CO2\": \"CO$_2$\", \"C2H6\": \"C$_2$H$_6$\"}"
   ]
  },
  {
   "cell_type": "markdown",
   "metadata": {},
   "source": [
    "read in `.csv` files containing experimental adsorption data from the literature. see the header of the `.csv` for the data source."
   ]
  },
  {
   "cell_type": "code",
   "execution_count": 4,
   "metadata": {},
   "outputs": [],
   "source": [
    "isotherm_data = dict()\n",
    "for mof in mofs:\n",
    "    isotherm_data[mof] = dict()\n",
    "    for gas in gases:\n",
    "        isotherm_data[mof][gas] = pd.read_csv(\"data/\" + mof + \"/\" + gas + \".csv\", comment='#')"
   ]
  },
  {
   "cell_type": "markdown",
   "metadata": {},
   "source": [
    "unit conversions. goal:\n",
    "* loading: mmol gas / g MOF [keep it in mmol for IAST!]\n",
    "* pressure: bar"
   ]
  },
  {
   "cell_type": "code",
   "execution_count": 5,
   "metadata": {},
   "outputs": [],
   "source": [
    "# special cases for each MOF\n",
    "isotherm_data[\"HKUST-1\"][\"N2\"][\"p(bar)\"] = isotherm_data[\"HKUST-1\"][\"N2\"][\"p(MPa)\"] * 10\n",
    "isotherm_data[\"HKUST-1\"][\"CH4\"][\"N(mmol/g)\"] = isotherm_data[\"HKUST-1\"][\"CH4\"][\"cm3/g\"] / 22.4\n",
    "\n",
    "for gas in [\"CH4\", \"N2\", \"CO2\"]:\n",
    "    isotherm_data[\"Co-MOF-74\"][gas][\"N(mmol/g)\"] = isotherm_data[\"Co-MOF-74\"][gas][\"N(mol/g)\"] * 1000.0\n",
    "    isotherm_data[\"Co-MOF-74\"][gas][\"p(bar)\"] = isotherm_data[\"Co-MOF-74\"][gas][\"p(kPa)\"] * 0.01\n",
    "# where both MOFs need the treatment\n",
    "for mof in mofs:\n",
    "    # cm3 STP  *  L STP      *   mol        * 1000mmol\n",
    "    #  g      1000 cm3 STP    22.4 L STP       1 mol\n",
    "\n",
    "    isotherm_data[mof][\"C2H6\"][\"p(bar)\"] = isotherm_data[mof][\"C2H6\"][\"P(mmHg)\"] / 750.062\n",
    "    # cm3 STP  *  L STP      *   mol      * 1000mmol *    m3 MOF    *   kg      * (100^3) cm3 MOF\n",
    "    # cm3 MOF  1000 cm3 STP   22.4 L STP     1 mol      ρ_MOF kg      1000 g         m3 MOF\n",
    "    isotherm_data[mof][\"C2H6\"][\"N(mmol/g)\"] = isotherm_data[mof][\"C2H6\"][\"N(cm3STP/cm3)\"] * 100 ** 3 / 1000 / 22.4 / xtal_density[mof]\n",
    "    \n",
    "# check for success\n",
    "for mof in mofs:\n",
    "    for gas in gases:\n",
    "        try:\n",
    "            isotherm_data[mof][gas][\"N(mmol/g)\"]\n",
    "            isotherm_data[mof][gas][\"p(bar)\"]\n",
    "        except KeyError:\n",
    "            print(\"failed unit conversion! mof = \", mof, \"gas = \", gas)"
   ]
  },
  {
   "cell_type": "markdown",
   "metadata": {},
   "source": [
    "convert to absolute for the Co-MOF-74 data."
   ]
  },
  {
   "cell_type": "code",
   "execution_count": 6,
   "metadata": {},
   "outputs": [],
   "source": [
    "V_pore_co_mof_74 = 0.48 # cm3 / g from Table S1 here: http://www.rsc.org/suppdata/sc/c3/c3sc51319j/c3sc51319j.pdf"
   ]
  },
  {
   "cell_type": "code",
   "execution_count": 7,
   "metadata": {},
   "outputs": [],
   "source": [
    "bulk_gas_density = dict() # 298 K\n",
    "for gas in [\"CH4\", \"N2\", \"CO2\"]:\n",
    "    bulk_gas_density[gas] = pd.read_csv(\"data/bulk_gas/\" + gas + \".cgi\", delimiter=\"\\t\") # read .cgi files\n",
    "    \n",
    "def rho_bulk(gas, p):\n",
    "    # https://numpy.org/doc/stable/reference/generated/numpy.interp.html\n",
    "    return np.interp(p, bulk_gas_density[gas][\"Pressure (bar)\"], bulk_gas_density[gas][\"Density (mol/l)\"])"
   ]
  },
  {
   "cell_type": "code",
   "execution_count": 8,
   "metadata": {},
   "outputs": [],
   "source": [
    "# convert vol: mmol/cc = mol/L\n",
    "for gas in [\"CH4\", \"N2\", \"CO2\"]:\n",
    "    #  cm3  mol     1 L      1000 mmol\n",
    "    #   g    L    1000 cm3      1 mol\n",
    "    # => cm3 / g * mol / L [=] mmol/g\n",
    "    isotherm_data[\"Co-MOF-74\"][gas][\"N(mmol/g)\"] = isotherm_data[\"Co-MOF-74\"][gas][\"N(mmol/g)\"] + V_pore_co_mof_74 * rho_bulk(gas, \n",
    "                                                                                                                              isotherm_data[\"Co-MOF-74\"][gas][\"p(bar)\"])"
   ]
  },
  {
   "cell_type": "markdown",
   "metadata": {},
   "source": [
    "plot raw data"
   ]
  },
  {
   "cell_type": "code",
   "execution_count": 9,
   "metadata": {},
   "outputs": [
    {
     "data": {
      "image/png": "[encoded data removed]",
      "text/plain": [
       "<Figure size 432x288 with 1 Axes>"
      ]
     },
     "metadata": {
      "needs_background": "light"
     },
     "output_type": "display_data"
    },
    {
     "data": {
      "image/png": "[encoded data removed]",
      "text/plain": [
       "<Figure size 432x288 with 1 Axes>"
      ]
     },
     "metadata": {
      "needs_background": "light"
     },
     "output_type": "display_data"
    }
   ],
   "source": [
    "for mof in mofs:\n",
    "    plt.figure()\n",
    "    plt.xlabel(\"pressure (bar)\")\n",
    "    plt.ylabel(\"gas uptake (mmol/g)\")\n",
    "    for gas in gases:\n",
    "        plt.scatter(isotherm_data[mof][gas][\"p(bar)\"], isotherm_data[mof][gas][\"N(mmol/g)\"], \n",
    "                    marker='o', label=gas_to_label[gas], color=gas_to_color[gas])\n",
    "    plt.xscale(\"log\")\n",
    "    plt.title(mof)\n",
    "    plt.legend()"
   ]
  },
  {
   "cell_type": "markdown",
   "metadata": {},
   "source": [
    "# fit isotherm models to data for IAST"
   ]
  },
  {
   "cell_type": "code",
   "execution_count": 10,
   "metadata": {},
   "outputs": [],
   "source": [
    "isotherms = dict()\n",
    "for mof in mofs:\n",
    "    isotherms[mof] = dict()\n",
    "    for gas in gases:\n",
    "        model = \"Langmuir\"\n",
    "        if mof == \"Co-MOF-74\":\n",
    "            if gas in [\"C2H6\", \"CH4\"]:\n",
    "                model = \"Quadratic\"\n",
    "            if gas == \"CO2\":\n",
    "                model = \"DSLangmuir\"\n",
    "        isotherms[mof][gas] = iast.ModelIsotherm(isotherm_data[mof][gas], \n",
    "                                                 loading_key=\"N(mmol/g)\", pressure_key=\"p(bar)\", model=model)"
   ]
  },
  {
   "cell_type": "code",
   "execution_count": 11,
   "metadata": {},
   "outputs": [
    {
     "data": {
      "text/plain": [
       "{'M': 3.4935519530486188, 'Ka': 4.73447976239299, 'Kb': 30.366262557965044}"
      ]
     },
     "execution_count": 11,
     "metadata": {},
     "output_type": "execute_result"
    }
   ],
   "source": [
    "isotherms[\"Co-MOF-74\"][\"C2H6\"].params"
   ]
  },
  {
   "cell_type": "code",
   "execution_count": 12,
   "metadata": {},
   "outputs": [
    {
     "data": {
      "image/png": "[encoded data removed]",
      "text/plain": [
       "<Figure size 432x288 with 1 Axes>"
      ]
     },
     "metadata": {
      "needs_background": "light"
     },
     "output_type": "display_data"
    },
    {
     "data": {
      "image/png": "[encoded data removed]",
      "text/plain": [
       "<Figure size 432x288 with 1 Axes>"
      ]
     },
     "metadata": {
      "needs_background": "light"
     },
     "output_type": "display_data"
    }
   ],
   "source": [
    "for mof in mofs:\n",
    "    pressures = np.logspace(-2, 2, 500)\n",
    "    \n",
    "    plt.figure()\n",
    "    for gas in gases:\n",
    "        plt.scatter(isotherm_data[mof][gas][\"p(bar)\"], isotherm_data[mof][gas][\"N(mmol/g)\"], \n",
    "                    marker='o', label=gas_to_label[gas], color=gas_to_color[gas])\n",
    "        plt.plot(pressures, isotherms[mof][gas].loading(pressures), color=gas_to_color[gas])\n",
    "    plt.xscale(\"log\")\n",
    "#     plt.xlim([0, 1])\n",
    "    plt.xlabel(\"pressure [bar]\")\n",
    "    plt.ylabel(\"gas uptake [mmol/g]\")\n",
    "    plt.title(mof)\n",
    "    plt.legend()"
   ]
  },
  {
   "cell_type": "markdown",
   "metadata": {},
   "source": [
    "# set up single-MOF IAST calculations\n",
    "to obtain $m(\\mathbf{x})$, the total mass adsorbed in a given MOF with composition at pressure $\\mathbf{x}$."
   ]
  },
  {
   "cell_type": "code",
   "execution_count": 13,
   "metadata": {},
   "outputs": [],
   "source": [
    "p_total = 1.0 # total pressure [bar]"
   ]
  },
  {
   "cell_type": "code",
   "execution_count": 14,
   "metadata": {},
   "outputs": [],
   "source": [
    "\"\"\"\n",
    "compute *total* mass of adsorbed gas in the MOF.\n",
    "returns units: g gas / g MOF\n",
    "\n",
    "# example:\n",
    "mol_fxns = {'C2H6': 0.4, 'CH4': 0.6}\n",
    "adsorbed_mass(\"HKUST-1\", mol_fxns)\n",
    "\"\"\"\n",
    "def adsorbed_mass(mof, mol_fxns):\n",
    "    # mol fractions must add to 1.0\n",
    "    if ~ np.isclose(np.sum([x_i for x_i in mol_fxns.values()]), 1.0):\n",
    "        raise Exception(\"mol fxns dont add to 1\")\n",
    "    \n",
    "    # if any components are zero, remove that component\n",
    "    mol_fxns = {gas: x_i for gas, x_i in mol_fxns.items() if x_i != 0}\n",
    "    \n",
    "    # if we are left with a pure gas, use the pure-component isotherm...\n",
    "    if len(mol_fxns) == 1:\n",
    "        gas = list(mol_fxns.keys())[0]\n",
    "        return isotherms[mof][gas].loading(p_total) * mol_wts[gas] / 1000.0\n",
    "    \n",
    "    pressures = np.array([p_total * x_i for x_i in mol_fxns.values()])\n",
    "    \n",
    "    q = iast.iast(pressures, [isotherms[mof][gas] for gas in mol_fxns.keys()], warningoff=True)\n",
    "    # q: mmol/g mof\n",
    "    # mol_wts: g gas/mol \n",
    "    # m_ads: g gas/g mof\n",
    "    return np.sum([q[j] * mol_wts[gas] for j, gas in enumerate(mol_fxns.keys())]) / 1000"
   ]
  },
  {
   "cell_type": "code",
   "execution_count": 15,
   "metadata": {},
   "outputs": [
    {
     "data": {
      "text/plain": [
       "0.026933664127890507"
      ]
     },
     "execution_count": 15,
     "metadata": {},
     "output_type": "execute_result"
    }
   ],
   "source": [
    "mol_fxns = {'C2H6': 0.01, 'CH4': 0.99}\n",
    "adsorbed_mass(mof, mol_fxns)"
   ]
  },
  {
   "cell_type": "markdown",
   "metadata": {},
   "source": [
    "# a single-MOF sensor"
   ]
  },
  {
   "cell_type": "code",
   "execution_count": 16,
   "metadata": {},
   "outputs": [],
   "source": [
    "mof = \"Co-MOF-74\""
   ]
  },
  {
   "cell_type": "code",
   "execution_count": 17,
   "metadata": {},
   "outputs": [],
   "source": [
    "\"\"\"\n",
    "convert mol fraction vector with contaminant mole fractions into a mol_fxn dictionary.\n",
    "\"\"\"\n",
    "def x_to_mol_fxns(x, contaminants):\n",
    "    assert len(x) == len(contaminants)\n",
    "    mol_fxns = dict()\n",
    "    mol_fxns[\"CH4\"] = 1.0 - np.sum(x)\n",
    "    for i, contaminant in enumerate(contaminants):\n",
    "        mol_fxns[contaminant] = x[i]\n",
    "    return mol_fxns\n",
    "\n",
    "\"\"\"\n",
    "convert mole fraction dict to x\n",
    "\"\"\"\n",
    "def mol_fxns_to_x(mol_fxns, contaminants):\n",
    "    return np.array([mol_fxns[contaminant] for contaminant in contaminants])\n",
    "\n",
    "\"\"\"\n",
    "numerically compute jacobian matrix of m(x) at a given point\n",
    "\"\"\"\n",
    "def jacobian_matrix_of_m(mof, mol_fxns, contaminants):\n",
    "    # complicated b/c adsorbed mass takes in a dictionary.\n",
    "    # construct J(x)\n",
    "    J = ndt.Jacobian(lambda x: adsorbed_mass(mof, x_to_mol_fxns(x, contaminants)), step=0.001)\n",
    "    \n",
    "    # compute x for given mole fractions\n",
    "    x = mol_fxns_to_x(mol_fxns, contaminants)\n",
    "    return J(x)"
   ]
  },
  {
   "cell_type": "markdown",
   "metadata": {},
   "source": [
    "### two contaminants"
   ]
  },
  {
   "cell_type": "code",
   "execution_count": 18,
   "metadata": {},
   "outputs": [],
   "source": [
    "contaminants = [\"C2H6\", \"CO2\"]"
   ]
  },
  {
   "cell_type": "markdown",
   "metadata": {},
   "source": [
    "create heapmap to visualize $m(\\mathbf{x})$"
   ]
  },
  {
   "cell_type": "code",
   "execution_count": 19,
   "metadata": {},
   "outputs": [],
   "source": [
    "delta = 0.005\n",
    "x_1 = np.arange(0.00, 0.3, delta)\n",
    "x_2 = np.arange(0.00, 0.3, delta)\n",
    "X_1, X_2 = np.meshgrid(x_1, x_2)\n",
    "M = np.zeros(np.shape(X_1))\n",
    "for i in range(np.shape(X_1)[0]):\n",
    "    for j in range(np.shape(X_2)[1]):\n",
    "        mol_fxns = x_to_mol_fxns([x_1[i], x_2[j]], contaminants)\n",
    "        M[j, i] = adsorbed_mass(mof, mol_fxns)\n",
    "        \n",
    "assert np.sum(np.isnan(M)) == 0"
   ]
  },
  {
   "cell_type": "markdown",
   "metadata": {},
   "source": [
    "define operating point about which to linearize, compute adsorbed mass at the operating point."
   ]
  },
  {
   "cell_type": "code",
   "execution_count": 20,
   "metadata": {},
   "outputs": [
    {
     "data": {
      "text/plain": [
       "{'CH4': 0.85, 'C2H6': 0.05, 'CO2': 0.1}"
      ]
     },
     "execution_count": 20,
     "metadata": {},
     "output_type": "execute_result"
    }
   ],
   "source": [
    "mol_fxns_op = {\"CH4\": 0.85, contaminants[0]: 0.05, contaminants[1]: 0.1}\n",
    "mol_fxns_op"
   ]
  },
  {
   "cell_type": "code",
   "execution_count": 21,
   "metadata": {},
   "outputs": [
    {
     "data": {
      "text/plain": [
       "array([0.05, 0.1 ])"
      ]
     },
     "execution_count": 21,
     "metadata": {},
     "output_type": "execute_result"
    }
   ],
   "source": [
    "x_op = mol_fxns_to_x(mol_fxns_op, contaminants)\n",
    "x_op"
   ]
  },
  {
   "cell_type": "code",
   "execution_count": 22,
   "metadata": {},
   "outputs": [
    {
     "data": {
      "text/plain": [
       "0.13662454087452983"
      ]
     },
     "execution_count": 22,
     "metadata": {},
     "output_type": "execute_result"
    }
   ],
   "source": [
    "m_op = adsorbed_mass(mof, mol_fxns_op)\n",
    "m_op"
   ]
  },
  {
   "cell_type": "markdown",
   "metadata": {},
   "source": [
    "compute Jacobian matrix of $m(\\mathbf{x})$."
   ]
  },
  {
   "cell_type": "code",
   "execution_count": 23,
   "metadata": {},
   "outputs": [],
   "source": [
    "# Jacobian at operating point\n",
    "J_op = jacobian_matrix_of_m(mof, mol_fxns_op, contaminants)\n",
    "\n",
    "# right singular vectors\n",
    "v1, v2 = np.linalg.svd(J_op)[2]"
   ]
  },
  {
   "cell_type": "code",
   "execution_count": 24,
   "metadata": {},
   "outputs": [
    {
     "data": {
      "text/plain": [
       "array([0.05, 0.1 ])"
      ]
     },
     "execution_count": 24,
     "metadata": {},
     "output_type": "execute_result"
    }
   ],
   "source": [
    "x_op"
   ]
  },
  {
   "cell_type": "code",
   "execution_count": 29,
   "metadata": {},
   "outputs": [],
   "source": [
    "# draw vector from x0 to x+x0\n",
    "def sketch_vector(x0, x, label=None, dx_mag=0.01):\n",
    "    plt.arrow(x0[0], x0[1], x[0], x[1], color=\"k\", length_includes_head=True)\n",
    "    dx = dx_mag * x / np.linalg.norm(x)\n",
    "    plt.text(x0[0] + x[0] + dx[0], x0[1] + x[1] + dx[1], label, ha=\"center\", va=\"center\")"
   ]
  },
  {
   "cell_type": "code",
   "execution_count": 30,
   "metadata": {},
   "outputs": [
    {
     "data": {
      "image/png": "[encoded data removed]",
      "text/plain": [
       "<Figure size 432x288 with 1 Axes>"
      ]
     },
     "metadata": {
      "needs_background": "light"
     },
     "output_type": "display_data"
    }
   ],
   "source": [
    "fig, ax = plt.subplots()\n",
    "# option to show an image\n",
    "# ims = ax.imshow(M, extent=[x_1[0], x_1[-1], x_2[0], x_2[-1]], \n",
    "#                origin='lower',\n",
    "#                cmap='viridis', alpha=0.5)\n",
    "# plt.colorbar(ims, label=\"$m$ [g gas/g MOF]\")\n",
    "CS = ax.contour(X_1, X_2, M, levels=10)# , colors=\"k\")\n",
    "# plt.colorbar(CS, label=\"$m$ [g gas/g MOF]\")\n",
    "ax.clabel(CS, inline=True) # labels contours with numbers\n",
    "ax.set_title(\"$m(\\mathbf{x})$ [g gas/g MOF]\")\n",
    "ax.set_xlabel(gas_to_label[contaminants[0]] + \" mole fraction\")\n",
    "ax.set_ylabel(gas_to_label[contaminants[1]] + \" mole fraction\")\n",
    "# sketch operating point and directions\n",
    "plt.scatter(x_op[0], x_op[1], color=\"r\", label=\"$\\mathbf{x}_{op}$\")\n",
    "sketch_vector(x_op, -v1/15, label=\"$\\mathbf{v}_1$\")\n",
    "sketch_vector(x_op, -v2/15, label=\"$\\mathbf{v}_2$\")\n",
    "plt.legend()\n",
    "# plt.plot([x_op[0], x_op[0] - v1[0]/10], [x_op[1], x_op[1] - v1[1]/10], color='k')\n",
    "# plt.plot([x_op[0], x_op[0] - v2[0]/10], [x_op[1], x_op[1] - v2[1]/10], color='k')\n",
    "plt.gca().set_aspect('equal', 'box')"
   ]
  },
  {
   "cell_type": "markdown",
   "metadata": {},
   "source": [
    "## three contaminants"
   ]
  },
  {
   "cell_type": "code",
   "execution_count": 33,
   "metadata": {},
   "outputs": [],
   "source": [
    "contaminants = [\"N2\", \"CO2\", \"C2H6\"]"
   ]
  },
  {
   "cell_type": "markdown",
   "metadata": {},
   "source": [
    "discretize composition space"
   ]
  },
  {
   "cell_type": "code",
   "execution_count": 48,
   "metadata": {},
   "outputs": [],
   "source": [
    "n_pts = 15\n",
    "max_x = 0.3\n",
    "X1, X2, X3 = np.mgrid[0:max_x:complex(0,n_pts), 0:max_x:complex(0,n_pts), 0:max_x:complex(0,n_pts)]"
   ]
  },
  {
   "cell_type": "markdown",
   "metadata": {},
   "source": [
    "store adsorbed mass at each point in a 3D tensor"
   ]
  },
  {
   "cell_type": "code",
   "execution_count": 49,
   "metadata": {},
   "outputs": [],
   "source": [
    "M = np.zeros(np.shape(X1))\n",
    "for i in range(n_pts):\n",
    "    for j in range(n_pts):\n",
    "        for k in range(n_pts):\n",
    "            mol_fxns = {\"CH4\": 1 - (X1[i, j, k] + X2[i, j, k] + X3[i, j, k]), \n",
    "                        contaminants[0]: X1[i, j, k], \n",
    "                        contaminants[1]: X2[i, j, k], \n",
    "                        contaminants[2]: X3[i, j, k]}\n",
    "            M[i, j, k] = adsorbed_mass(mof, mol_fxns)"
   ]
  },
  {
   "cell_type": "markdown",
   "metadata": {},
   "source": [
    "define operating point"
   ]
  },
  {
   "cell_type": "code",
   "execution_count": 50,
   "metadata": {},
   "outputs": [
    {
     "data": {
      "text/plain": [
       "{'CH4': 0.7, 'N2': 0.05, 'CO2': 0.1, 'C2H6': 0.15}"
      ]
     },
     "execution_count": 50,
     "metadata": {},
     "output_type": "execute_result"
    }
   ],
   "source": [
    "mol_fxns_op = {\"CH4\": 0.7, contaminants[0]: 0.05, contaminants[1]: 0.1, contaminants[2]: 0.15}\n",
    "mol_fxns_op"
   ]
  },
  {
   "cell_type": "code",
   "execution_count": 51,
   "metadata": {},
   "outputs": [
    {
     "data": {
      "text/plain": [
       "array([0.05, 0.1 , 0.15])"
      ]
     },
     "execution_count": 51,
     "metadata": {},
     "output_type": "execute_result"
    }
   ],
   "source": [
    "x_op = mol_fxns_to_x(mol_fxns_op, contaminants)\n",
    "x_op"
   ]
  },
  {
   "cell_type": "code",
   "execution_count": 52,
   "metadata": {},
   "outputs": [
    {
     "data": {
      "text/plain": [
       "0.1583979528174021"
      ]
     },
     "execution_count": 52,
     "metadata": {},
     "output_type": "execute_result"
    }
   ],
   "source": [
    "m_op = adsorbed_mass(mof, mol_fxns_op)\n",
    "m_op"
   ]
  },
  {
   "cell_type": "markdown",
   "metadata": {},
   "source": [
    "compute Jacobian at operating point and find its right singular vectors"
   ]
  },
  {
   "cell_type": "code",
   "execution_count": 53,
   "metadata": {},
   "outputs": [
    {
     "data": {
      "text/plain": [
       "(array([-0.0113151 , -0.92946781, -0.36872965]),\n",
       " array([-0.92946781,  0.14575545, -0.33888779]),\n",
       " array([-0.36872965, -0.33888779,  0.86555965]))"
      ]
     },
     "execution_count": 53,
     "metadata": {},
     "output_type": "execute_result"
    }
   ],
   "source": [
    "J_op = jacobian_matrix_of_m(mof, mol_fxns_op, contaminants)\n",
    "\n",
    "# right singular vectors\n",
    "v1, v2, v3 = np.linalg.svd(J_op)[2]\n",
    "v1, v2, v3"
   ]
  },
  {
   "cell_type": "markdown",
   "metadata": {},
   "source": [
    "write to file for visualization in mayavi"
   ]
  },
  {
   "cell_type": "code",
   "execution_count": 54,
   "metadata": {},
   "outputs": [],
   "source": [
    "np.savez(\"{}_{}_{}_{}.npz\".format(mof, contaminants[0], contaminants[1], contaminants[2]), \n",
    "         M=M, X1=X1, X2=X2, X3=X3, v1=v1, v2=v2, v3=v3, x_op=x_op)"
   ]
  }
 ],
 "metadata": {
  "kernelspec": {
   "display_name": "Python 3",
   "language": "python",
   "name": "python3"
  },
  "language_info": {
   "codemirror_mode": {
    "name": "ipython",
    "version": 3
   },
   "file_extension": ".py",
   "mimetype": "text/x-python",
   "name": "python",
   "nbconvert_exporter": "python",
   "pygments_lexer": "ipython3",
   "version": "3.8.5"
  }
 },
 "nbformat": 4,
 "nbformat_minor": 4
}
