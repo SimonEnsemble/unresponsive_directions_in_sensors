{
 "cells": [
  {
   "cell_type": "code",
   "execution_count": 24,
   "metadata": {},
   "outputs": [],
   "source": [
    "import matplotlib.pyplot as plt\n",
    "from mpl_toolkits.mplot3d import Axes3D\n",
    "from matplotlib.patches import FancyArrowPatch\n",
    "from mpl_toolkits.mplot3d.proj3d import proj_transform\n",
    "import numpy as np\n",
    "# https://github.com/matplotlib/ipympl#installation for matplotlib images to appear in notebook\n",
    "%matplotlib widget"
   ]
  },
  {
   "cell_type": "code",
   "execution_count": 95,
   "metadata": {},
   "outputs": [],
   "source": [
    "x_op = [0.05, 0.1, 0.12]"
   ]
  },
  {
   "cell_type": "code",
   "execution_count": 102,
   "metadata": {},
   "outputs": [],
   "source": [
    "n_pts = 25\n",
    "\n",
    "theta = np.linspace(0, 2 * np.pi, n_pts)\n",
    "phi   = np.linspace(0, np.pi, n_pts)\n",
    "r = 0.1\n",
    "\n",
    "X = r * np.outer(np.cos(theta), np.sin(phi)) + x_op[0]\n",
    "Y = r * np.outer(np.sin(theta), np.sin(phi)) + x_op[1]\n",
    "Z = r * np.outer(np.ones(np.size(theta)), np.cos(phi)) + x_op[2]"
   ]
  },
  {
   "cell_type": "code",
   "execution_count": 301,
   "metadata": {},
   "outputs": [],
   "source": [
    "# https://gist.github.com/WetHat/1d6cd0f7309535311a539b42cccca89c\n",
    "class Arrow3D(FancyArrowPatch):\n",
    "    def __init__(self, x, y, z, dx, dy, dz, *args, **kwargs):\n",
    "        super().__init__((0, 0), (0, 0), *args, **kwargs)\n",
    "        self._xyz = (x, y, z)\n",
    "        self._dxdydz = (dx, dy, dz)\n",
    "\n",
    "    def draw(self, renderer):\n",
    "        x1, y1, z1 = self._xyz\n",
    "        dx, dy, dz = self._dxdydz\n",
    "        x2, y2, z2 = (x1 + dx, y1 + dy, z1 + dz)\n",
    "\n",
    "        xs, ys, zs = proj_transform((x1, x2), (y1, y2), (z1, z2), self.axes.M)\n",
    "        self.set_positions((xs[0], ys[0]), (xs[1], ys[1]))\n",
    "        super().draw(renderer)\n",
    "\n",
    "def _arrow3D(ax, x, y, z, dx, dy, dz, muh_label, *args, **kwargs):\n",
    "    '''Add an 3d arrow to an `Axes3D` instance.'''\n",
    "\n",
    "    arrow = Arrow3D(x, y, z, dx, dy, dz, *args, **kwargs)\n",
    "    ax.add_artist(arrow)\n",
    "    dd = np.array([x+dx, y+dy, z+dz])\n",
    "    dd = dd / np.linalg.norm(dd)\n",
    "    eps = 0.025\n",
    "    ax.text(x+dx+eps*dd[0], y+dy+eps*dd[1], z+dz+eps*dd[2], muh_label, ha=\"center\", va=\"center\")\n",
    "\n",
    "\n",
    "setattr(Axes3D, 'arrow3D', _arrow3D)"
   ]
  },
  {
   "cell_type": "code",
   "execution_count": 285,
   "metadata": {},
   "outputs": [
    {
     "data": {
      "text/plain": [
       "array([[1, 2, 5],\n",
       "       [3, 4, 6]])"
      ]
     },
     "execution_count": 285,
     "metadata": {},
     "output_type": "execute_result"
    }
   ],
   "source": [
    "J = np.array([[1, 2, 5], [3, 4, 6]])\n",
    "J"
   ]
  },
  {
   "cell_type": "code",
   "execution_count": 286,
   "metadata": {},
   "outputs": [
    {
     "data": {
      "text/plain": [
       "array([[-0.56849697,  0.82268536],\n",
       "       [-0.82268536, -0.56849697]])"
      ]
     },
     "execution_count": 286,
     "metadata": {},
     "output_type": "execute_result"
    }
   ],
   "source": [
    "np.linalg.svd(J)[0] # u"
   ]
  },
  {
   "cell_type": "code",
   "execution_count": 287,
   "metadata": {},
   "outputs": [],
   "source": [
    "sigmas = np.linalg.svd(J)[1] # singular values"
   ]
  },
  {
   "cell_type": "code",
   "execution_count": 288,
   "metadata": {},
   "outputs": [],
   "source": [
    "sigmas = sigmas"
   ]
  },
  {
   "cell_type": "code",
   "execution_count": 289,
   "metadata": {},
   "outputs": [
    {
     "data": {
      "text/plain": [
       "array([-0.56849697, -0.82268536])"
      ]
     },
     "execution_count": 289,
     "metadata": {},
     "output_type": "execute_result"
    }
   ],
   "source": [
    "u1, u2 = np.transpose(np.linalg.svd(J)[0])\n",
    "u1"
   ]
  },
  {
   "cell_type": "code",
   "execution_count": 290,
   "metadata": {},
   "outputs": [
    {
     "data": {
      "text/plain": [
       "0.0"
      ]
     },
     "execution_count": 290,
     "metadata": {},
     "output_type": "execute_result"
    }
   ],
   "source": [
    "np.dot(u1, u2)"
   ]
  },
  {
   "cell_type": "code",
   "execution_count": 291,
   "metadata": {},
   "outputs": [
    {
     "data": {
      "text/plain": [
       "array([[-0.32127519, -0.46846588, -0.82299573],\n",
       "       [-0.68355838, -0.48673972,  0.54390476],\n",
       "       [-0.65538554,  0.73730873, -0.16384638]])"
      ]
     },
     "execution_count": 291,
     "metadata": {},
     "output_type": "execute_result"
    }
   ],
   "source": [
    "np.linalg.svd(J)[2] # vt"
   ]
  },
  {
   "cell_type": "code",
   "execution_count": 292,
   "metadata": {},
   "outputs": [
    {
     "data": {
      "text/plain": [
       "array([-0.32127519, -0.46846588, -0.82299573])"
      ]
     },
     "execution_count": 292,
     "metadata": {},
     "output_type": "execute_result"
    }
   ],
   "source": [
    "v1, v2, v3 = np.linalg.svd(J)[2]\n",
    "v1"
   ]
  },
  {
   "cell_type": "code",
   "execution_count": 293,
   "metadata": {},
   "outputs": [
    {
     "data": {
      "text/plain": [
       "array([-5.3731856 , -7.77566347])"
      ]
     },
     "execution_count": 293,
     "metadata": {},
     "output_type": "execute_result"
    }
   ],
   "source": [
    "np.dot(J, v1)"
   ]
  },
  {
   "cell_type": "code",
   "execution_count": 294,
   "metadata": {},
   "outputs": [
    {
     "data": {
      "text/plain": [
       "array([-5.3731856 , -7.77566347])"
      ]
     },
     "execution_count": 294,
     "metadata": {},
     "output_type": "execute_result"
    }
   ],
   "source": [
    "u1 * sigmas[0]"
   ]
  },
  {
   "cell_type": "code",
   "execution_count": 295,
   "metadata": {},
   "outputs": [],
   "source": [
    "theta = np.linspace(0, 2*np.pi)"
   ]
  },
  {
   "cell_type": "code",
   "execution_count": 296,
   "metadata": {},
   "outputs": [
    {
     "data": {
      "text/plain": [
       "array([ 1.06248599,  0.36665527, -0.33519592, -1.0315432 , -1.71095257,\n",
       "       -2.36226814, -2.97479534, -3.53847649, -4.04405594, -4.48323211,\n",
       "       -4.84879373, -5.13473829, -5.33637059, -5.45037984, -5.474894  ,\n",
       "       -5.40951055, -5.25530308, -5.01480369, -4.69196135, -4.29207714,\n",
       "       -3.82171715, -3.28860466, -2.70149338, -2.07002365, -1.40456418,\n",
       "       -0.71604182, -0.01576206,  0.6847765 ,  1.37407106,  2.04080341,\n",
       "        2.67402582,  3.2633408 ,  3.79907181,  4.27242217,  4.67561948,\n",
       "        5.00204325,  5.2463336 ,  5.4044793 ,  5.4738836 ,  5.45340688,\n",
       "        5.34338537,  5.14562562,  4.86337485,  4.50126759,  4.06524964,\n",
       "        3.5624804 ,  3.00121534,  2.3906704 ,  1.74087072,  1.06248599])"
      ]
     },
     "execution_count": 296,
     "metadata": {},
     "output_type": "execute_result"
    }
   ],
   "source": [
    "x = np.array([sigmas[0] * u1[0] * np.sin(t) + sigmas[1] * u2[0] * np.cos(t) for t in theta])\n",
    "y = np.array([sigmas[0] * u1[1] * np.sin(t) + sigmas[1] * u2[1] * np.cos(t) for t in theta])\n",
    "x"
   ]
  },
  {
   "cell_type": "code",
   "execution_count": 297,
   "metadata": {},
   "outputs": [],
   "source": [
    "def sketch_vector(x0, x, label=None, dx_mag=0.1):\n",
    "    plt.arrow(x0[0], x0[1], x[0], x[1], color=\"k\", head_width=0.5, length_includes_head=True)\n",
    "    dx = dx_mag * x / np.linalg.norm(x)\n",
    "    plt.text(x0[0] + x[0] + dx[0], x0[1] + x[1] + dx[1], label, ha=\"center\", va=\"center\")"
   ]
  },
  {
   "cell_type": "code",
   "execution_count": 298,
   "metadata": {},
   "outputs": [
    {
     "data": {
      "application/vnd.jupyter.widget-view+json": {
       "model_id": "32ef77fc655042cc8ed5c0dec8f6aa54",
       "version_major": 2,
       "version_minor": 0
      },
      "text/plain": [
       "Canvas(toolbar=Toolbar(toolitems=[('Home', 'Reset original view', 'home', 'home'), ('Back', 'Back to previous …"
      ]
     },
     "metadata": {},
     "output_type": "display_data"
    },
    {
     "data": {
      "text/plain": [
       "<matplotlib.legend.Legend at 0x7f3335aa55b0>"
      ]
     },
     "execution_count": 298,
     "metadata": {},
     "output_type": "execute_result"
    }
   ],
   "source": [
    "m_op = np.array([10, 14])\n",
    "fig, ax = plt.subplots()\n",
    "plt.scatter(m_op[0], m_op[1], label=\"$\\mathbf{m}_{op}=\\mathbf{u}_3$\", color=\"r\")\n",
    "plt.plot(x+m_op[0], y+m_op[1])\n",
    "ax.set(xlabel=\"$m_1$\", ylabel=\"$m_2$\", title=\"response space\", xticks=[0], yticks=[0])\n",
    "sketch_vector(m_op, sigmas[0] * u1, label=\"$\\mathbf{u}_1$\", dx_mag=0.75)\n",
    "sketch_vector(m_op, sigmas[1] * u2, label=\"$\\mathbf{u}_2$\", dx_mag=0.75)\n",
    "\n",
    "# plt.arrow(m_op[0], m_op[1], sigmas[0] * u1[0], sigmas[0] * u1[1], head_width=0.5, length_includes_head=True, color=\"k\")\n",
    "# plt.arrow(m_op[0], m_op[1], sigmas[1] * u2[0], sigmas[1] * u2[1], head_width=0.5, length_includes_head=True, color=\"k\")\n",
    "# plt.text(x0[0] + x[0] + dx_label, x0[1] + x[1] + dx_label, label, ha=\"center\", va=\"center\")\n",
    "ax.set_aspect('equal', 'box')\n",
    "plt.xlim(xmin=0)\n",
    "plt.ylim(ymin=0)\n",
    "plt.legend()"
   ]
  },
  {
   "cell_type": "code",
   "execution_count": 304,
   "metadata": {},
   "outputs": [
    {
     "data": {
      "application/vnd.jupyter.widget-view+json": {
       "model_id": "c544a952fcd44056971460ca01151e7f",
       "version_major": 2,
       "version_minor": 0
      },
      "text/plain": [
       "Canvas(toolbar=Toolbar(toolitems=[('Home', 'Reset original view', 'home', 'home'), ('Back', 'Back to previous …"
      ]
     },
     "metadata": {},
     "output_type": "display_data"
    }
   ],
   "source": [
    "fig, ax = plt.subplots(subplot_kw={\"projection\": \"3d\"})\n",
    "surf = ax.plot_surface(X, Y, Z, alpha=0.5, rstride=1, cstride=1)\n",
    "ax.set(xlabel=\"$x_1$\", ylabel=\"$x_2$\", zlabel=\"$x_3$\", \n",
    "       xticks=[0], yticks=[0], zticks=[0],\n",
    "      title=\"composition space\")\n",
    "ax.set_xlim(xmin=0)\n",
    "ax.set_ylim(ymin=0)\n",
    "ax.set_zlim(zmin=0)\n",
    "\n",
    "ax.scatter(x_op[0], x_op[1], x_op[2], color=\"r\", s=50, label=\"$x_{op}$\")\n",
    "for (v, muh_label) in zip([v1, v2, v3], [\"$\\mathbf{v}_1$\", \"$\\mathbf{v}_2$\", \"$\\mathbf{v}_3$\"]):\n",
    "    ax.arrow3D(x_op[0], x_op[1], x_op[2],\n",
    "               r*v[0], r*v[1], r*v[2],\n",
    "               mutation_scale=20,\n",
    "               ec='k',\n",
    "               fc='k', muh_label=muh_label)\n",
    "# https://github.com/matplotlib/matplotlib/issues/17172\n",
    "ax.set_box_aspect([ub - lb for lb, ub in (getattr(ax, f'get_{a}lim')() for a in 'xyz')])\n",
    "plt.show()"
   ]
  },
  {
   "cell_type": "code",
   "execution_count": 300,
   "metadata": {},
   "outputs": [
    {
     "data": {
      "text/plain": [
       "array([[ 5.00000000e-02,  6.30526192e-02,  7.58819045e-02,\n",
       "         8.82683432e-02,  1.00000000e-01,  1.10876143e-01,\n",
       "         1.20710678e-01,  1.29335334e-01,  1.36602540e-01,\n",
       "         1.42387953e-01,  1.46592583e-01,  1.49144486e-01,\n",
       "         1.50000000e-01,  1.49144486e-01,  1.46592583e-01,\n",
       "         1.42387953e-01,  1.36602540e-01,  1.29335334e-01,\n",
       "         1.20710678e-01,  1.10876143e-01,  1.00000000e-01,\n",
       "         8.82683432e-02,  7.58819045e-02,  6.30526192e-02,\n",
       "         5.00000000e-02],\n",
       "       [ 5.00000000e-02,  6.26078620e-02,  7.50000000e-02,\n",
       "         8.69643811e-02,  9.82962913e-02,  1.08801839e-01,\n",
       "         1.18301270e-01,  1.26632048e-01,  1.33651630e-01,\n",
       "         1.39239910e-01,  1.43301270e-01,  1.45766220e-01,\n",
       "         1.46592583e-01,  1.45766220e-01,  1.43301270e-01,\n",
       "         1.39239910e-01,  1.33651630e-01,  1.26632048e-01,\n",
       "         1.18301270e-01,  1.08801839e-01,  9.82962913e-02,\n",
       "         8.69643811e-02,  7.50000000e-02,  6.26078620e-02,\n",
       "         5.00000000e-02],\n",
       "       [ 5.00000000e-02,  6.13038998e-02,  7.24143868e-02,\n",
       "         8.31413574e-02,  9.33012702e-02,  1.02720286e-01,\n",
       "         1.11237244e-01,  1.18706415e-01,  1.25000000e-01,\n",
       "         1.30010315e-01,  1.33651630e-01,  1.35861644e-01,\n",
       "         1.36602540e-01,  1.35861644e-01,  1.33651630e-01,\n",
       "         1.30010315e-01,  1.25000000e-01,  1.18706415e-01,\n",
       "         1.11237244e-01,  1.02720286e-01,  9.33012702e-02,\n",
       "         8.31413574e-02,  7.24143868e-02,  6.13038998e-02,\n",
       "         5.00000000e-02],\n",
       "       [ 5.00000000e-02,  5.92295956e-02,  6.83012702e-02,\n",
       "         7.70598050e-02,  8.53553391e-02,  9.30459335e-02,\n",
       "         1.00000000e-01,  1.06098553e-01,  1.11237244e-01,\n",
       "         1.15328148e-01,  1.18301270e-01,  1.20105738e-01,\n",
       "         1.20710678e-01,  1.20105738e-01,  1.18301270e-01,\n",
       "         1.15328148e-01,  1.11237244e-01,  1.06098553e-01,\n",
       "         1.00000000e-01,  9.30459335e-02,  8.53553391e-02,\n",
       "         7.70598050e-02,  6.83012702e-02,  5.92295956e-02,\n",
       "         5.00000000e-02],\n",
       "       [ 5.00000000e-02,  5.65263096e-02,  6.29409523e-02,\n",
       "         6.91341716e-02,  7.50000000e-02,  8.04380715e-02,\n",
       "         8.53553391e-02,  8.96676670e-02,  9.33012702e-02,\n",
       "         9.61939766e-02,  9.82962913e-02,  9.95722431e-02,\n",
       "         1.00000000e-01,  9.95722431e-02,  9.82962913e-02,\n",
       "         9.61939766e-02,  9.33012702e-02,  8.96676670e-02,\n",
       "         8.53553391e-02,  8.04380715e-02,  7.50000000e-02,\n",
       "         6.91341716e-02,  6.29409523e-02,  5.65263096e-02,\n",
       "         5.00000000e-02],\n",
       "       [ 5.00000000e-02,  5.33782664e-02,  5.66987298e-02,\n",
       "         5.99045761e-02,  6.29409523e-02,  6.57559052e-02,\n",
       "         6.83012702e-02,  7.05334954e-02,  7.24143868e-02,\n",
       "         7.39117618e-02,  7.50000000e-02,  7.56604812e-02,\n",
       "         7.58819045e-02,  7.56604812e-02,  7.50000000e-02,\n",
       "         7.39117618e-02,  7.24143868e-02,  7.05334954e-02,\n",
       "         6.83012702e-02,  6.57559052e-02,  6.29409523e-02,\n",
       "         5.99045761e-02,  5.66987298e-02,  5.33782664e-02,\n",
       "         5.00000000e-02],\n",
       "       [ 5.00000000e-02,  5.00000000e-02,  5.00000000e-02,\n",
       "         5.00000000e-02,  5.00000000e-02,  5.00000000e-02,\n",
       "         5.00000000e-02,  5.00000000e-02,  5.00000000e-02,\n",
       "         5.00000000e-02,  5.00000000e-02,  5.00000000e-02,\n",
       "         5.00000000e-02,  5.00000000e-02,  5.00000000e-02,\n",
       "         5.00000000e-02,  5.00000000e-02,  5.00000000e-02,\n",
       "         5.00000000e-02,  5.00000000e-02,  5.00000000e-02,\n",
       "         5.00000000e-02,  5.00000000e-02,  5.00000000e-02,\n",
       "         5.00000000e-02],\n",
       "       [ 5.00000000e-02,  4.66217336e-02,  4.33012702e-02,\n",
       "         4.00954239e-02,  3.70590477e-02,  3.42440948e-02,\n",
       "         3.16987298e-02,  2.94665046e-02,  2.75856132e-02,\n",
       "         2.60882382e-02,  2.50000000e-02,  2.43395188e-02,\n",
       "         2.41180955e-02,  2.43395188e-02,  2.50000000e-02,\n",
       "         2.60882382e-02,  2.75856132e-02,  2.94665046e-02,\n",
       "         3.16987298e-02,  3.42440948e-02,  3.70590477e-02,\n",
       "         4.00954239e-02,  4.33012702e-02,  4.66217336e-02,\n",
       "         5.00000000e-02],\n",
       "       [ 5.00000000e-02,  4.34736904e-02,  3.70590477e-02,\n",
       "         3.08658284e-02,  2.50000000e-02,  1.95619285e-02,\n",
       "         1.46446609e-02,  1.03323330e-02,  6.69872981e-03,\n",
       "         3.80602337e-03,  1.70370869e-03,  4.27756931e-04,\n",
       "         2.08166817e-17,  4.27756931e-04,  1.70370869e-03,\n",
       "         3.80602337e-03,  6.69872981e-03,  1.03323330e-02,\n",
       "         1.46446609e-02,  1.95619285e-02,  2.50000000e-02,\n",
       "         3.08658284e-02,  3.70590477e-02,  4.34736904e-02,\n",
       "         5.00000000e-02],\n",
       "       [ 5.00000000e-02,  4.07704044e-02,  3.16987298e-02,\n",
       "         2.29401950e-02,  1.46446609e-02,  6.95406654e-03,\n",
       "         1.38777878e-17, -6.09855268e-03, -1.12372436e-02,\n",
       "        -1.53281482e-02, -1.83012702e-02, -2.01057385e-02,\n",
       "        -2.07106781e-02, -2.01057385e-02, -1.83012702e-02,\n",
       "        -1.53281482e-02, -1.12372436e-02, -6.09855268e-03,\n",
       "         0.00000000e+00,  6.95406654e-03,  1.46446609e-02,\n",
       "         2.29401950e-02,  3.16987298e-02,  4.07704044e-02,\n",
       "         5.00000000e-02],\n",
       "       [ 5.00000000e-02,  3.86961002e-02,  2.75856132e-02,\n",
       "         1.68586426e-02,  6.69872981e-03, -2.72028624e-03,\n",
       "        -1.12372436e-02, -1.87064147e-02, -2.50000000e-02,\n",
       "        -3.00103145e-02, -3.36516304e-02, -3.58616436e-02,\n",
       "        -3.66025404e-02, -3.58616436e-02, -3.36516304e-02,\n",
       "        -3.00103145e-02, -2.50000000e-02, -1.87064147e-02,\n",
       "        -1.12372436e-02, -2.72028624e-03,  6.69872981e-03,\n",
       "         1.68586426e-02,  2.75856132e-02,  3.86961002e-02,\n",
       "         5.00000000e-02],\n",
       "       [ 5.00000000e-02,  3.73921380e-02,  2.50000000e-02,\n",
       "         1.30356189e-02,  1.70370869e-03, -8.80183863e-03,\n",
       "        -1.83012702e-02, -2.66320481e-02, -3.36516304e-02,\n",
       "        -3.92399101e-02, -4.33012702e-02, -4.57662197e-02,\n",
       "        -4.65925826e-02, -4.57662197e-02, -4.33012702e-02,\n",
       "        -3.92399101e-02, -3.36516304e-02, -2.66320481e-02,\n",
       "        -1.83012702e-02, -8.80183863e-03,  1.70370869e-03,\n",
       "         1.30356189e-02,  2.50000000e-02,  3.73921380e-02,\n",
       "         5.00000000e-02],\n",
       "       [ 5.00000000e-02,  3.69473808e-02,  2.41180955e-02,\n",
       "         1.17316568e-02,  6.93889390e-18, -1.08761429e-02,\n",
       "        -2.07106781e-02, -2.93353340e-02, -3.66025404e-02,\n",
       "        -4.23879533e-02, -4.65925826e-02, -4.91444861e-02,\n",
       "        -5.00000000e-02, -4.91444861e-02, -4.65925826e-02,\n",
       "        -4.23879533e-02, -3.66025404e-02, -2.93353340e-02,\n",
       "        -2.07106781e-02, -1.08761429e-02, -3.46944695e-17,\n",
       "         1.17316568e-02,  2.41180955e-02,  3.69473808e-02,\n",
       "         5.00000000e-02],\n",
       "       [ 5.00000000e-02,  3.73921380e-02,  2.50000000e-02,\n",
       "         1.30356189e-02,  1.70370869e-03, -8.80183863e-03,\n",
       "        -1.83012702e-02, -2.66320481e-02, -3.36516304e-02,\n",
       "        -3.92399101e-02, -4.33012702e-02, -4.57662197e-02,\n",
       "        -4.65925826e-02, -4.57662197e-02, -4.33012702e-02,\n",
       "        -3.92399101e-02, -3.36516304e-02, -2.66320481e-02,\n",
       "        -1.83012702e-02, -8.80183863e-03,  1.70370869e-03,\n",
       "         1.30356189e-02,  2.50000000e-02,  3.73921380e-02,\n",
       "         5.00000000e-02],\n",
       "       [ 5.00000000e-02,  3.86961002e-02,  2.75856132e-02,\n",
       "         1.68586426e-02,  6.69872981e-03, -2.72028624e-03,\n",
       "        -1.12372436e-02, -1.87064147e-02, -2.50000000e-02,\n",
       "        -3.00103145e-02, -3.36516304e-02, -3.58616436e-02,\n",
       "        -3.66025404e-02, -3.58616436e-02, -3.36516304e-02,\n",
       "        -3.00103145e-02, -2.50000000e-02, -1.87064147e-02,\n",
       "        -1.12372436e-02, -2.72028624e-03,  6.69872981e-03,\n",
       "         1.68586426e-02,  2.75856132e-02,  3.86961002e-02,\n",
       "         5.00000000e-02],\n",
       "       [ 5.00000000e-02,  4.07704044e-02,  3.16987298e-02,\n",
       "         2.29401950e-02,  1.46446609e-02,  6.95406654e-03,\n",
       "        -2.08166817e-17, -6.09855268e-03, -1.12372436e-02,\n",
       "        -1.53281482e-02, -1.83012702e-02, -2.01057385e-02,\n",
       "        -2.07106781e-02, -2.01057385e-02, -1.83012702e-02,\n",
       "        -1.53281482e-02, -1.12372436e-02, -6.09855268e-03,\n",
       "        -3.46944695e-17,  6.95406654e-03,  1.46446609e-02,\n",
       "         2.29401950e-02,  3.16987298e-02,  4.07704044e-02,\n",
       "         5.00000000e-02],\n",
       "       [ 5.00000000e-02,  4.34736904e-02,  3.70590477e-02,\n",
       "         3.08658284e-02,  2.50000000e-02,  1.95619285e-02,\n",
       "         1.46446609e-02,  1.03323330e-02,  6.69872981e-03,\n",
       "         3.80602337e-03,  1.70370869e-03,  4.27756931e-04,\n",
       "        -4.16333634e-17,  4.27756931e-04,  1.70370869e-03,\n",
       "         3.80602337e-03,  6.69872981e-03,  1.03323330e-02,\n",
       "         1.46446609e-02,  1.95619285e-02,  2.50000000e-02,\n",
       "         3.08658284e-02,  3.70590477e-02,  4.34736904e-02,\n",
       "         5.00000000e-02],\n",
       "       [ 5.00000000e-02,  4.66217336e-02,  4.33012702e-02,\n",
       "         4.00954239e-02,  3.70590477e-02,  3.42440948e-02,\n",
       "         3.16987298e-02,  2.94665046e-02,  2.75856132e-02,\n",
       "         2.60882382e-02,  2.50000000e-02,  2.43395188e-02,\n",
       "         2.41180955e-02,  2.43395188e-02,  2.50000000e-02,\n",
       "         2.60882382e-02,  2.75856132e-02,  2.94665046e-02,\n",
       "         3.16987298e-02,  3.42440948e-02,  3.70590477e-02,\n",
       "         4.00954239e-02,  4.33012702e-02,  4.66217336e-02,\n",
       "         5.00000000e-02],\n",
       "       [ 5.00000000e-02,  5.00000000e-02,  5.00000000e-02,\n",
       "         5.00000000e-02,  5.00000000e-02,  5.00000000e-02,\n",
       "         5.00000000e-02,  5.00000000e-02,  5.00000000e-02,\n",
       "         5.00000000e-02,  5.00000000e-02,  5.00000000e-02,\n",
       "         5.00000000e-02,  5.00000000e-02,  5.00000000e-02,\n",
       "         5.00000000e-02,  5.00000000e-02,  5.00000000e-02,\n",
       "         5.00000000e-02,  5.00000000e-02,  5.00000000e-02,\n",
       "         5.00000000e-02,  5.00000000e-02,  5.00000000e-02,\n",
       "         5.00000000e-02],\n",
       "       [ 5.00000000e-02,  5.33782664e-02,  5.66987298e-02,\n",
       "         5.99045761e-02,  6.29409523e-02,  6.57559052e-02,\n",
       "         6.83012702e-02,  7.05334954e-02,  7.24143868e-02,\n",
       "         7.39117618e-02,  7.50000000e-02,  7.56604812e-02,\n",
       "         7.58819045e-02,  7.56604812e-02,  7.50000000e-02,\n",
       "         7.39117618e-02,  7.24143868e-02,  7.05334954e-02,\n",
       "         6.83012702e-02,  6.57559052e-02,  6.29409523e-02,\n",
       "         5.99045761e-02,  5.66987298e-02,  5.33782664e-02,\n",
       "         5.00000000e-02],\n",
       "       [ 5.00000000e-02,  5.65263096e-02,  6.29409523e-02,\n",
       "         6.91341716e-02,  7.50000000e-02,  8.04380715e-02,\n",
       "         8.53553391e-02,  8.96676670e-02,  9.33012702e-02,\n",
       "         9.61939766e-02,  9.82962913e-02,  9.95722431e-02,\n",
       "         1.00000000e-01,  9.95722431e-02,  9.82962913e-02,\n",
       "         9.61939766e-02,  9.33012702e-02,  8.96676670e-02,\n",
       "         8.53553391e-02,  8.04380715e-02,  7.50000000e-02,\n",
       "         6.91341716e-02,  6.29409523e-02,  5.65263096e-02,\n",
       "         5.00000000e-02],\n",
       "       [ 5.00000000e-02,  5.92295956e-02,  6.83012702e-02,\n",
       "         7.70598050e-02,  8.53553391e-02,  9.30459335e-02,\n",
       "         1.00000000e-01,  1.06098553e-01,  1.11237244e-01,\n",
       "         1.15328148e-01,  1.18301270e-01,  1.20105738e-01,\n",
       "         1.20710678e-01,  1.20105738e-01,  1.18301270e-01,\n",
       "         1.15328148e-01,  1.11237244e-01,  1.06098553e-01,\n",
       "         1.00000000e-01,  9.30459335e-02,  8.53553391e-02,\n",
       "         7.70598050e-02,  6.83012702e-02,  5.92295956e-02,\n",
       "         5.00000000e-02],\n",
       "       [ 5.00000000e-02,  6.13038998e-02,  7.24143868e-02,\n",
       "         8.31413574e-02,  9.33012702e-02,  1.02720286e-01,\n",
       "         1.11237244e-01,  1.18706415e-01,  1.25000000e-01,\n",
       "         1.30010315e-01,  1.33651630e-01,  1.35861644e-01,\n",
       "         1.36602540e-01,  1.35861644e-01,  1.33651630e-01,\n",
       "         1.30010315e-01,  1.25000000e-01,  1.18706415e-01,\n",
       "         1.11237244e-01,  1.02720286e-01,  9.33012702e-02,\n",
       "         8.31413574e-02,  7.24143868e-02,  6.13038998e-02,\n",
       "         5.00000000e-02],\n",
       "       [ 5.00000000e-02,  6.26078620e-02,  7.50000000e-02,\n",
       "         8.69643811e-02,  9.82962913e-02,  1.08801839e-01,\n",
       "         1.18301270e-01,  1.26632048e-01,  1.33651630e-01,\n",
       "         1.39239910e-01,  1.43301270e-01,  1.45766220e-01,\n",
       "         1.46592583e-01,  1.45766220e-01,  1.43301270e-01,\n",
       "         1.39239910e-01,  1.33651630e-01,  1.26632048e-01,\n",
       "         1.18301270e-01,  1.08801839e-01,  9.82962913e-02,\n",
       "         8.69643811e-02,  7.50000000e-02,  6.26078620e-02,\n",
       "         5.00000000e-02],\n",
       "       [ 5.00000000e-02,  6.30526192e-02,  7.58819045e-02,\n",
       "         8.82683432e-02,  1.00000000e-01,  1.10876143e-01,\n",
       "         1.20710678e-01,  1.29335334e-01,  1.36602540e-01,\n",
       "         1.42387953e-01,  1.46592583e-01,  1.49144486e-01,\n",
       "         1.50000000e-01,  1.49144486e-01,  1.46592583e-01,\n",
       "         1.42387953e-01,  1.36602540e-01,  1.29335334e-01,\n",
       "         1.20710678e-01,  1.10876143e-01,  1.00000000e-01,\n",
       "         8.82683432e-02,  7.58819045e-02,  6.30526192e-02,\n",
       "         5.00000000e-02]])"
      ]
     },
     "execution_count": 300,
     "metadata": {},
     "output_type": "execute_result"
    }
   ],
   "source": [
    "X"
   ]
  },
  {
   "cell_type": "code",
   "execution_count": null,
   "metadata": {},
   "outputs": [],
   "source": [
    "class Arrow3D(FancyArrowPatch):\n",
    "    def __init__(self, xs, ys, zs, *args, **kwargs):\n",
    "        FancyArrowPatch.__init__(self, (0,0), (0,0), *args, **kwargs)\n",
    "        self._verts3d = xs, ys, zs\n",
    "\n",
    "    def draw(self, renderer):\n",
    "        xs3d, ys3d, zs3d = self._verts3d\n",
    "        xs, ys, zs = proj3d.proj_transform(xs3d, ys3d, zs3d, renderer.M)\n",
    "        self.set_positions((xs[0],ys[0]),(xs[1],ys[1]))\n",
    "        FancyArrowPatch.draw(self, renderer)\n",
    "\n",
    "####################################################\n",
    "# This part is just for reference if\n",
    "# you are interested where the data is\n",
    "# coming from\n",
    "# The plot is at the bottom\n",
    "#####################################################\n",
    "\n",
    "# Generate some example data\n",
    "mu_vec1 = np.array([0,0,0])\n",
    "cov_mat1 = np.array([[1,0,0],[0,1,0],[0,0,1]])\n",
    "class1_sample = np.random.multivariate_normal(mu_vec1, cov_mat1, 20)\n",
    "\n",
    "mu_vec2 = np.array([1,1,1])\n",
    "cov_mat2 = np.array([[1,0,0],[0,1,0],[0,0,1]])\n",
    "class2_sample = np.random.multivariate_normal(mu_vec2, cov_mat2, 20)"
   ]
  },
  {
   "cell_type": "code",
   "execution_count": null,
   "metadata": {},
   "outputs": [],
   "source": [
    "# concatenate data for PCA\n",
    "samples = np.concatenate((class1_sample, class2_sample), axis=0)\n",
    "\n",
    "# mean values\n",
    "mean_x = np.mean(samples[:,0])\n",
    "mean_y = np.mean(samples[:,1])\n",
    "mean_z = np.mean(samples[:,2])\n",
    "\n",
    "#eigenvectors and eigenvalues\n",
    "eig_val, eig_vec = np.linalg.eig(cov_mat1)\n",
    "\n",
    "################################\n",
    "#plotting eigenvectors\n",
    "################################    \n",
    "\n",
    "fig = plt.figure(figsize=(15,15))\n",
    "ax = fig.add_subplot(111, projection='3d')\n",
    "\n",
    "ax.plot(samples[:,0], samples[:,1], samples[:,2], 'o', markersize=10, color='g', alpha=0.2)\n",
    "ax.plot([mean_x], [mean_y], [mean_z], 'o', markersize=10, color='red', alpha=0.5)\n",
    "for v in eig_vec:\n",
    "    #ax.plot([mean_x,v[0]], [mean_y,v[1]], [mean_z,v[2]], color='red', alpha=0.8, lw=3)\n",
    "    #I will replace this line with:\n",
    "    a = Arrow3D([mean_x, v[0]], [mean_y, v[1]], \n",
    "                [mean_z, v[2]], mutation_scale=20, \n",
    "                lw=3, arrowstyle=\"-|>\", color=\"r\")\n",
    "    ax.add_artist(a)\n",
    "ax.set_xlabel('x_values')\n",
    "ax.set_ylabel('y_values')\n",
    "ax.set_zlabel('z_values')\n",
    "\n",
    "plt.title('Eigenvectors')\n",
    "\n",
    "plt.draw()\n",
    "plt.show()"
   ]
  },
  {
   "cell_type": "code",
   "execution_count": null,
   "metadata": {},
   "outputs": [],
   "source": []
  }
 ],
 "metadata": {
  "kernelspec": {
   "display_name": "Python 3",
   "language": "python",
   "name": "python3"
  },
  "language_info": {
   "codemirror_mode": {
    "name": "ipython",
    "version": 3
   },
   "file_extension": ".py",
   "mimetype": "text/x-python",
   "name": "python",
   "nbconvert_exporter": "python",
   "pygments_lexer": "ipython3",
   "version": "3.8.5"
  }
 },
 "nbformat": 4,
 "nbformat_minor": 4
}
