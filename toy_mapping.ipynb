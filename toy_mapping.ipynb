{
 "cells": [
  {
   "cell_type": "code",
   "execution_count": 1,
   "metadata": {},
   "outputs": [],
   "source": [
    "import matplotlib.pyplot as plt\n",
    "from mpl_toolkits.mplot3d import Axes3D\n",
    "from matplotlib.patches import FancyArrowPatch\n",
    "from mpl_toolkits.mplot3d.proj3d import proj_transform\n",
    "import numpy as np\n",
    "plt.rcParams.update({'font.size': 14})\n",
    "# https://github.com/matplotlib/ipympl#installation for matplotlib images to appear in notebook\n",
    "# %matplotlib widget"
   ]
  },
  {
   "cell_type": "code",
   "execution_count": 2,
   "metadata": {},
   "outputs": [],
   "source": [
    "cool_colors = {'green': (0.0, 0.716, 0.554), 'red': (1.0, 0.403, 0.397), 'blue': (0.0, 0.747, 1.0), \"yellow\": (0.830929, 0.793470, 0.225663), \"purple\": (0.745987, 0.663119, 1.000000)}"
   ]
  },
  {
   "cell_type": "code",
   "execution_count": 3,
   "metadata": {},
   "outputs": [],
   "source": [
    "x_op = [0.15, 0.2, 0.23]"
   ]
  },
  {
   "cell_type": "code",
   "execution_count": 4,
   "metadata": {},
   "outputs": [],
   "source": [
    "n_pts = 25\n",
    "\n",
    "theta = np.linspace(0, 2 * np.pi, n_pts)\n",
    "phi   = np.linspace(0, np.pi, n_pts)\n",
    "r = 0.075\n",
    "\n",
    "X = r * np.outer(np.cos(theta), np.sin(phi)) + x_op[0]\n",
    "Y = r * np.outer(np.sin(theta), np.sin(phi)) + x_op[1]\n",
    "Z = r * np.outer(np.ones(np.size(theta)), np.cos(phi)) + x_op[2]"
   ]
  },
  {
   "cell_type": "code",
   "execution_count": 5,
   "metadata": {},
   "outputs": [],
   "source": [
    "# https://gist.github.com/WetHat/1d6cd0f7309535311a539b42cccca89c\n",
    "class Arrow3D(FancyArrowPatch):\n",
    "    def __init__(self, x, y, z, dx, dy, dz, *args, **kwargs):\n",
    "        super().__init__((0, 0), (0, 0), *args, **kwargs)\n",
    "        self._xyz = (x, y, z)\n",
    "        self._dxdydz = (dx, dy, dz)\n",
    "\n",
    "    def draw(self, renderer):\n",
    "        x1, y1, z1 = self._xyz\n",
    "        dx, dy, dz = self._dxdydz\n",
    "        x2, y2, z2 = (x1 + dx, y1 + dy, z1 + dz)\n",
    "\n",
    "        xs, ys, zs = proj_transform((x1, x2), (y1, y2), (z1, z2), self.axes.M)\n",
    "        self.set_positions((xs[0], ys[0]), (xs[1], ys[1]))\n",
    "        super().draw(renderer)\n",
    "\n",
    "def _arrow3D(ax, x, y, z, dx, dy, dz, muh_label, label_stretch, *args, **kwargs):\n",
    "    '''Add an 3d arrow to an `Axes3D` instance.'''\n",
    "\n",
    "    arrow = Arrow3D(x, y, z, dx, dy, dz, *args, **kwargs)\n",
    "    ax.add_artist(arrow)\n",
    "    dd = np.array([x+dx, y+dy, z+dz])\n",
    "    dd = dd / np.linalg.norm(dd)\n",
    "\n",
    "    ax.text(x+dx+label_stretch*dd[0], y+dy+label_stretch*dd[1], z+dz+label_stretch*dd[2], muh_label, ha=\"center\", va=\"center\")\n",
    "\n",
    "\n",
    "setattr(Axes3D, 'arrow3D', _arrow3D)"
   ]
  },
  {
   "cell_type": "code",
   "execution_count": 6,
   "metadata": {},
   "outputs": [
    {
     "data": {
      "text/plain": [
       "array([[1, 2, 5],\n",
       "       [3, 4, 6]])"
      ]
     },
     "execution_count": 6,
     "metadata": {},
     "output_type": "execute_result"
    }
   ],
   "source": [
    "J = np.array([[1, 2, 5], [3, 4, 6]])\n",
    "J"
   ]
  },
  {
   "cell_type": "code",
   "execution_count": 7,
   "metadata": {},
   "outputs": [
    {
     "data": {
      "text/plain": [
       "array([[-0.56849697,  0.82268536],\n",
       "       [-0.82268536, -0.56849697]])"
      ]
     },
     "execution_count": 7,
     "metadata": {},
     "output_type": "execute_result"
    }
   ],
   "source": [
    "np.linalg.svd(J)[0] # u"
   ]
  },
  {
   "cell_type": "code",
   "execution_count": 8,
   "metadata": {},
   "outputs": [],
   "source": [
    "sigmas = np.linalg.svd(J)[1] # singular values"
   ]
  },
  {
   "cell_type": "code",
   "execution_count": 9,
   "metadata": {},
   "outputs": [],
   "source": [
    "sigmas = sigmas"
   ]
  },
  {
   "cell_type": "code",
   "execution_count": 10,
   "metadata": {},
   "outputs": [
    {
     "data": {
      "text/plain": [
       "array([-0.56849697, -0.82268536])"
      ]
     },
     "execution_count": 10,
     "metadata": {},
     "output_type": "execute_result"
    }
   ],
   "source": [
    "u1, u2 = np.transpose(np.linalg.svd(J)[0])\n",
    "u1"
   ]
  },
  {
   "cell_type": "code",
   "execution_count": 11,
   "metadata": {},
   "outputs": [
    {
     "data": {
      "text/plain": [
       "0.0"
      ]
     },
     "execution_count": 11,
     "metadata": {},
     "output_type": "execute_result"
    }
   ],
   "source": [
    "np.dot(u1, u2)"
   ]
  },
  {
   "cell_type": "code",
   "execution_count": 12,
   "metadata": {},
   "outputs": [
    {
     "data": {
      "text/plain": [
       "array([[-0.32127519, -0.46846588, -0.82299573],\n",
       "       [-0.68355838, -0.48673972,  0.54390476],\n",
       "       [-0.65538554,  0.73730873, -0.16384638]])"
      ]
     },
     "execution_count": 12,
     "metadata": {},
     "output_type": "execute_result"
    }
   ],
   "source": [
    "np.linalg.svd(J)[2] # vt"
   ]
  },
  {
   "cell_type": "code",
   "execution_count": 13,
   "metadata": {},
   "outputs": [
    {
     "data": {
      "text/plain": [
       "array([-0.32127519, -0.46846588, -0.82299573])"
      ]
     },
     "execution_count": 13,
     "metadata": {},
     "output_type": "execute_result"
    }
   ],
   "source": [
    "v1, v2, v3 = np.linalg.svd(J)[2]\n",
    "v1"
   ]
  },
  {
   "cell_type": "code",
   "execution_count": 14,
   "metadata": {},
   "outputs": [
    {
     "data": {
      "text/plain": [
       "array([-5.3731856 , -7.77566347])"
      ]
     },
     "execution_count": 14,
     "metadata": {},
     "output_type": "execute_result"
    }
   ],
   "source": [
    "np.dot(J, v1)"
   ]
  },
  {
   "cell_type": "code",
   "execution_count": 15,
   "metadata": {},
   "outputs": [
    {
     "data": {
      "text/plain": [
       "array([-5.3731856 , -7.77566347])"
      ]
     },
     "execution_count": 15,
     "metadata": {},
     "output_type": "execute_result"
    }
   ],
   "source": [
    "u1 * sigmas[0]"
   ]
  },
  {
   "cell_type": "code",
   "execution_count": 16,
   "metadata": {},
   "outputs": [],
   "source": [
    "theta = np.linspace(0, 2*np.pi, 250)"
   ]
  },
  {
   "cell_type": "code",
   "execution_count": 17,
   "metadata": {},
   "outputs": [
    {
     "data": {
      "text/plain": [
       "array([ 1.06248599,  0.92657691,  0.79007787,  0.65307579,  0.51565789,\n",
       "        0.37791167,  0.23992483,  0.10178523, -0.03641918, -0.1746004 ,\n",
       "       -0.31267045, -0.45054142, -0.58812553, -0.72533517, -0.862083  ,\n",
       "       -0.99828193, -1.13384525, -1.26868665, -1.40272026, -1.53586076,\n",
       "       -1.66802337, -1.79912394, -1.929079  , -2.05780581, -2.1852224 ,\n",
       "       -2.31124765, -2.43580132, -2.55880411, -2.68017769, -2.79984479,\n",
       "       -2.91772921, -3.0337559 , -3.14785099, -3.25994183, -3.36995704,\n",
       "       -3.47782659, -3.58348179, -3.68685537, -3.78788152, -3.8864959 ,\n",
       "       -3.98263573, -4.0762398 , -4.16724851, -4.25560391, -4.34124975,\n",
       "       -4.4241315 , -4.50419638, -4.58139342, -4.65567346, -4.72698921,\n",
       "       -4.79529527, -4.86054815, -4.92270629, -4.98173011, -5.03758205,\n",
       "       -5.09022654, -5.13963006, -5.18576115, -5.22859044, -5.26809066,\n",
       "       -5.30423667, -5.33700545, -5.36637612, -5.39233001, -5.41485057,\n",
       "       -5.43392347, -5.44953656, -5.46167992, -5.47034579, -5.47552867,\n",
       "       -5.47722526, -5.47543447, -5.47015744, -5.46139755, -5.44916035,\n",
       "       -5.43345365, -5.41428745, -5.39167394, -5.36562753, -5.3361648 ,\n",
       "       -5.30330451, -5.26706758, -5.22747708, -5.18455823, -5.13833834,\n",
       "       -5.08884685, -5.03611527, -4.98017717, -4.92106816, -4.85882589,\n",
       "       -4.79348999, -4.72510204, -4.65370561, -4.57934613, -4.50207097,\n",
       "       -4.42192931, -4.3389722 , -4.25325244, -4.16482461, -4.07374502,\n",
       "       -3.98007166, -3.88386417, -3.78518381, -3.6840934 , -3.58065731,\n",
       "       -3.4749414 , -3.36701298, -3.25694076, -3.14479484, -3.03064661,\n",
       "       -2.91456876, -2.79663518, -2.67692098, -2.55550237, -2.43245665,\n",
       "       -2.30786219, -2.18179829, -2.05434523, -1.92558417, -1.79559707,\n",
       "       -1.66446671, -1.53227657, -1.39911083, -1.26505427, -1.13019224,\n",
       "       -0.99461061, -0.85839571, -0.72163427, -0.58441336, -0.44682034,\n",
       "       -0.30894284, -0.17086863, -0.03268563,  0.10551818,  0.24365481,\n",
       "        0.38163631,  0.51937481,  0.65678262,  0.79377226,  0.9302565 ,\n",
       "        1.06614845,  1.20136157,  1.33580977,  1.46940746,  1.60206958,\n",
       "        1.73371164,  1.86424985,  1.99360108,  2.12168297,  2.24841398,\n",
       "        2.37371341,  2.49750149,  2.6196994 ,  2.74022933,  2.85901455,\n",
       "        2.97597942,  3.09104947,  3.20415143,  3.3152133 ,  3.42416435,\n",
       "        3.53093522,  3.63545793,  3.73766593,  3.83749414,  3.934879  ,\n",
       "        4.0297585 ,  4.12207224,  4.21176143,  4.29876898,  4.38303948,\n",
       "        4.46451927,  4.54315649,  4.61890106,  4.69170476,  4.76152122,\n",
       "        4.828306  ,  4.89201658,  4.95261238,  5.01005484,  5.06430737,\n",
       "        5.11533543,  5.16310654,  5.20759027,  5.24875831,  5.28658443,\n",
       "        5.32104457,  5.35211677,  5.37978125,  5.4040204 ,  5.42481879,\n",
       "        5.44216317,  5.45604249,  5.46644794,  5.47337286,  5.47681287,\n",
       "        5.47676577,  5.47323158,  5.46621256,  5.45571318,  5.44174012,\n",
       "        5.42430228,  5.40341076,  5.37907886,  5.35132208,  5.32015809,\n",
       "        5.28560673,  5.24769   ,  5.20643204,  5.16185912,  5.11399962,\n",
       "        5.06288402,  5.00854485,  4.95101672,  4.89033626,  4.82654209,\n",
       "        4.75967484,  4.68977709,  4.61689333,  4.54106998,  4.46235531,\n",
       "        4.38079943,  4.29645428,  4.20937355,  4.1196127 ,  4.02722887,\n",
       "        3.93228089,  3.83482921,  3.73493587,  3.63266448,  3.52808016,\n",
       "        3.42124949,  3.3122405 ,  3.20112258,  3.0879665 ,  2.9728443 ,\n",
       "        2.85582927,  2.73699592,  2.61641992,  2.49417803,  2.37034808,\n",
       "        2.24500892,  2.11824035,  1.9901231 ,  1.86073872,  1.73016959,\n",
       "        1.59849887,  1.46581037,  1.33218858,  1.19771858,  1.06248599])"
      ]
     },
     "execution_count": 17,
     "metadata": {},
     "output_type": "execute_result"
    }
   ],
   "source": [
    "x = np.array([sigmas[0] * u1[0] * np.sin(t) + sigmas[1] * u2[0] * np.cos(t) for t in theta])\n",
    "y = np.array([sigmas[0] * u1[1] * np.sin(t) + sigmas[1] * u2[1] * np.cos(t) for t in theta])\n",
    "x"
   ]
  },
  {
   "cell_type": "code",
   "execution_count": 137,
   "metadata": {},
   "outputs": [],
   "source": [
    "# from x0 to x.\n",
    "def sketch_vector(x0, x, label=None, dx_mag=0.1, color=\"k\", scale_back=0.95):\n",
    "    plt.arrow(x0[0], x0[1], x[0], x[1], color=color, head_width=0.5, length_includes_head=True, lw=2, head_starts_at_zero=False, zorder=100, ec=\"None\")\n",
    "    plt.plot([x0[0], x0[0]+scale_back*x[0]], [x0[1], x0[1]+scale_back*x[1]], lw=2, color=color) # because head overhangs if not\n",
    "    dx = dx_mag * x / np.linalg.norm(x)\n",
    "    plt.text(x0[0] + x[0] + dx[0], x0[1] + x[1] + dx[1], label, ha=\"center\", va=\"center\")"
   ]
  },
  {
   "cell_type": "code",
   "execution_count": 138,
   "metadata": {},
   "outputs": [],
   "source": [
    "from matplotlib.patches import Ellipse"
   ]
  },
  {
   "cell_type": "code",
   "execution_count": 146,
   "metadata": {},
   "outputs": [
    {
     "data": {
      "text/plain": [
       "<matplotlib.legend.Legend at 0x7f3cadfbf760>"
      ]
     },
     "execution_count": 146,
     "metadata": {},
     "output_type": "execute_result"
    },
    {
     "data": {
      "image/png": "[encoded data removed]",
      "text/plain": [
       "<Figure size 432x288 with 1 Axes>"
      ]
     },
     "metadata": {
      "needs_background": "light"
     },
     "output_type": "display_data"
    }
   ],
   "source": [
    "m_op = np.array([10, 14])\n",
    "fig, ax = plt.subplots()\n",
    "plt.scatter(m_op[0], m_op[1], label=\"$\\mathbf{m}_{op}$\", color=\"k\", s=55)\n",
    "# plt.plot(x+m_op[0], y+m_op[1], color=cool_colors[\"blue\"], zorder=0, lw=2)\n",
    "angle_of_ellipse = -np.arccos(np.dot(np.array([1, 0]), u1)) * 180/np.pi\n",
    "ellipse = Ellipse((m_op[0], m_op[1]), 2*sigmas[0], 2*sigmas[1], angle=angle_of_ellipse, alpha=0.3, color=cool_colors[\"blue\"], ec=cool_colors[\"blue\"])\n",
    "ax.add_artist(ellipse)\n",
    "ax.set(xlabel=\"$m_1$\", ylabel=\"$m_2$\", title=\"sensor response space\", xticks=[0], yticks=[0])\n",
    "sketch_vector(m_op, sigmas[0] * u1, label=\"$\\sigma_1\\mathbf{u}_1$\", dx_mag=0.95, color=cool_colors[\"green\"])\n",
    "sketch_vector(m_op, sigmas[1] * u2, label=\"$\\sigma_2\\mathbf{u}_2$\", dx_mag=1.25, color=cool_colors[\"yellow\"], scale_back=0.6)\n",
    "# plt.arrow(m_op[0], m_op[1], sigmas[0] * u1[0], sigmas[0] * u1[1], head_width=0.5, length_includes_head=True, color=\"k\")\n",
    "# plt.arrow(m_op[0], m_op[1], sigmas[1] * u2[0], sigmas[1] * u2[1], head_width=0.5, length_includes_head=True, color=\"k\")\n",
    "# plt.text(x0[0] + x[0] + dx_label, x0[1] + x[1] + dx_label, label, ha=\"center\", va=\"center\")\n",
    "ax.set_aspect('equal', 'box')\n",
    "plt.xlim((0.0, 16.02451477673121))\n",
    "plt.ylim((0.0, 22.591244938837093))\n",
    "plt.savefig(\"toy_response_space.pdf\", format=\"pdf\", bbox_inches='tight')\n",
    "plt.legend(loc=\"upper left\")"
   ]
  },
  {
   "cell_type": "code",
   "execution_count": 152,
   "metadata": {},
   "outputs": [
    {
     "data": {
      "image/png": "[encoded data removed]",
      "text/plain": [
       "<Figure size 432x288 with 1 Axes>"
      ]
     },
     "metadata": {
      "needs_background": "light"
     },
     "output_type": "display_data"
    }
   ],
   "source": [
    "# test that it includes all of ellipse\n",
    "for i in range(100):\n",
    "    x_rand = np.random.randn(3)\n",
    "    x_rand = x_rand / np.linalg.norm(x_rand) # random unit vector\n",
    "    m_rand = np.dot(J, x_rand)\n",
    "    plt.scatter(m_rand[0], m_rand[1])"
   ]
  },
  {
   "cell_type": "code",
   "execution_count": 20,
   "metadata": {},
   "outputs": [
    {
     "data": {
      "image/png": "[encoded data removed]",
      "text/plain": [
       "<Figure size 432x288 with 1 Axes>"
      ]
     },
     "metadata": {
      "needs_background": "light"
     },
     "output_type": "display_data"
    }
   ],
   "source": [
    "fig, ax = plt.subplots(subplot_kw={\"projection\": \"3d\"})\n",
    "surf = ax.plot_surface(X, Y, Z, alpha=0.2, rstride=1, cstride=1, color=cool_colors[\"blue\"])\n",
    "ax.set(xlabel=\"$x_1$\", ylabel=\"$x_2$\", zlabel=\"$x_3$\", \n",
    "       xticks=[0], yticks=[0], zticks=[0],\n",
    "       title=\"gas composition space\")\n",
    "\n",
    "ax.scatter(x_op[0], x_op[1], x_op[2], color=\"k\", s=50, label=\"$\\mathbf{x}_{op}$\")\n",
    "v_labels = [\"$\\mathbf{v}_1$\", \"$\\mathbf{v}_2$\", \"$\\mathbf{v}_3$\"]\n",
    "v_label_stretches = [-0.02, 0.02, 0.02]\n",
    "for (i, v) in enumerate([v1, v2, v3]):\n",
    "    color = \"k\"\n",
    "    if i == 0:\n",
    "        color = cool_colors[\"green\"]\n",
    "    if i == 1:\n",
    "        color = cool_colors[\"yellow\"]\n",
    "    if i == 2:\n",
    "        color = cool_colors[\"red\"]\n",
    "    ax.arrow3D(x_op[0], x_op[1], x_op[2],\n",
    "               r*v[0], r*v[1], r*v[2],\n",
    "               v_labels[i],\n",
    "               v_label_stretches[i],\n",
    "               mutation_scale=20,\n",
    "               ec=color,\n",
    "               fc=color)\n",
    "# https://github.com/matplotlib/matplotlib/issues/17172\n",
    "\n",
    "ax.set_xlim(xmin=0)\n",
    "ax.set_ylim(ymin=0)\n",
    "ax.set_zlim(zmin=0)\n",
    "ax.set_box_aspect([ub - lb for lb, ub in (getattr(ax, f'get_{a}lim')() for a in 'xyz')])\n",
    "\n",
    "ax.legend()\n",
    "ax.view_init(elev=5., azim=20)\n",
    "plt.savefig(\"toy_composition_space.pdf\", format=\"pdf\", bbox_inches='tight')\n",
    "plt.show()"
   ]
  },
  {
   "cell_type": "code",
   "execution_count": null,
   "metadata": {},
   "outputs": [],
   "source": []
  }
 ],
 "metadata": {
  "kernelspec": {
   "display_name": "Python 3",
   "language": "python",
   "name": "python3"
  },
  "language_info": {
   "codemirror_mode": {
    "name": "ipython",
    "version": 3
   },
   "file_extension": ".py",
   "mimetype": "text/x-python",
   "name": "python",
   "nbconvert_exporter": "python",
   "pygments_lexer": "ipython3",
   "version": "3.8.5"
  }
 },
 "nbformat": 4,
 "nbformat_minor": 4
}
